{
 "cells": [
  {
   "cell_type": "markdown",
   "metadata": {
    "id": "ELjabrr0yihI"
   },
   "source": [
    "# Import Libaries"
   ]
  },
  {
   "cell_type": "code",
   "execution_count": 2,
   "metadata": {
    "colab": {
     "base_uri": "https://localhost:8080/"
    },
    "id": "SPRzLShuSH2t",
    "outputId": "975c5cbd-2bfd-4bba-8e52-fa92cc9f2629"
   },
   "outputs": [
    {
     "name": "stdout",
     "output_type": "stream",
     "text": [
      "Requirement already satisfied: flake8 in c:\\users\\menna\\anaconda3\\lib\\site-packages (3.8.4)\n",
      "Requirement already satisfied: pycodestyle<2.7.0,>=2.6.0a1 in c:\\users\\menna\\anaconda3\\lib\\site-packages (from flake8) (2.6.0)\n",
      "Requirement already satisfied: pyflakes<2.3.0,>=2.2.0 in c:\\users\\menna\\anaconda3\\lib\\site-packages (from flake8) (2.2.0)\n",
      "Requirement already satisfied: mccabe<0.7.0,>=0.6.0 in c:\\users\\menna\\anaconda3\\lib\\site-packages (from flake8) (0.6.1)\n",
      "Note: you may need to restart the kernel to use updated packages.\n"
     ]
    }
   ],
   "source": [
    "pip install flake8"
   ]
  },
  {
   "cell_type": "code",
   "execution_count": 3,
   "metadata": {
    "colab": {
     "base_uri": "https://localhost:8080/"
    },
    "id": "P8_d1Lcyoxk9",
    "outputId": "8c1af14e-1cfd-45a0-84b6-51e4a7801a23"
   },
   "outputs": [
    {
     "name": "stdout",
     "output_type": "stream",
     "text": [
      "Requirement already satisfied: pyod in c:\\users\\menna\\anaconda3\\lib\\site-packages (0.9.4)\n",
      "Requirement already satisfied: numpy>=1.13 in c:\\users\\menna\\appdata\\roaming\\python\\python38\\site-packages (from pyod) (1.21.0)\n",
      "Requirement already satisfied: joblib in c:\\users\\menna\\anaconda3\\lib\\site-packages (from pyod) (0.17.0)\n",
      "Requirement already satisfied: statsmodels in c:\\users\\menna\\anaconda3\\lib\\site-packages (from pyod) (0.12.0)\n",
      "Requirement already satisfied: matplotlib in c:\\users\\menna\\anaconda3\\lib\\site-packages (from pyod) (3.3.2)\n",
      "Requirement already satisfied: scikit-learn>=0.20.0 in c:\\users\\menna\\anaconda3\\lib\\site-packages (from pyod) (1.0)\n",
      "Requirement already satisfied: numba>=0.35 in c:\\users\\menna\\anaconda3\\lib\\site-packages (from pyod) (0.51.2)\n",
      "Requirement already satisfied: scipy>=1.3.1 in c:\\users\\menna\\appdata\\roaming\\python\\python38\\site-packages (from pyod) (1.7.0)\n",
      "Requirement already satisfied: six in c:\\users\\menna\\anaconda3\\lib\\site-packages (from pyod) (1.15.0)\n",
      "Requirement already satisfied: pandas>=0.21 in c:\\users\\menna\\anaconda3\\lib\\site-packages (from statsmodels->pyod) (1.1.3)\n",
      "Requirement already satisfied: patsy>=0.5 in c:\\users\\menna\\anaconda3\\lib\\site-packages (from statsmodels->pyod) (0.5.1)\n",
      "Requirement already satisfied: pyparsing!=2.0.4,!=2.1.2,!=2.1.6,>=2.0.3 in c:\\users\\menna\\anaconda3\\lib\\site-packages (from matplotlib->pyod) (2.4.7)\n",
      "Requirement already satisfied: cycler>=0.10 in c:\\users\\menna\\anaconda3\\lib\\site-packages (from matplotlib->pyod) (0.10.0)\n",
      "Requirement already satisfied: kiwisolver>=1.0.1 in c:\\users\\menna\\anaconda3\\lib\\site-packages (from matplotlib->pyod) (1.3.0)\n",
      "Requirement already satisfied: pillow>=6.2.0 in c:\\users\\menna\\anaconda3\\lib\\site-packages (from matplotlib->pyod) (8.0.1)\n",
      "Requirement already satisfied: certifi>=2020.06.20 in c:\\users\\menna\\anaconda3\\lib\\site-packages (from matplotlib->pyod) (2020.6.20)\n",
      "Requirement already satisfied: python-dateutil>=2.1 in c:\\users\\menna\\anaconda3\\lib\\site-packages (from matplotlib->pyod) (2.8.1)\n",
      "Requirement already satisfied: threadpoolctl>=2.0.0 in c:\\users\\menna\\anaconda3\\lib\\site-packages (from scikit-learn>=0.20.0->pyod) (2.1.0)\n",
      "Requirement already satisfied: llvmlite<0.35,>=0.34.0.dev0 in c:\\users\\menna\\anaconda3\\lib\\site-packages (from numba>=0.35->pyod) (0.34.0)\n",
      "Requirement already satisfied: setuptools in c:\\users\\menna\\anaconda3\\lib\\site-packages (from numba>=0.35->pyod) (50.3.1.post20201107)\n",
      "Requirement already satisfied: pytz>=2017.2 in c:\\users\\menna\\anaconda3\\lib\\site-packages (from pandas>=0.21->statsmodels->pyod) (2020.1)\n"
     ]
    }
   ],
   "source": [
    "!pip install pyod "
   ]
  },
  {
   "cell_type": "code",
   "execution_count": 4,
   "metadata": {},
   "outputs": [
    {
     "name": "stdout",
     "output_type": "stream",
     "text": [
      "Requirement already satisfied: xgboost in c:\\users\\menna\\anaconda3\\lib\\site-packages (1.5.0)\n",
      "Requirement already satisfied: scipy in c:\\users\\menna\\appdata\\roaming\\python\\python38\\site-packages (from xgboost) (1.7.0)\n",
      "Requirement already satisfied: numpy in c:\\users\\menna\\appdata\\roaming\\python\\python38\\site-packages (from xgboost) (1.21.0)\n"
     ]
    }
   ],
   "source": [
    "!pip install xgboost"
   ]
  },
  {
   "cell_type": "code",
   "execution_count": 5,
   "metadata": {},
   "outputs": [
    {
     "name": "stdout",
     "output_type": "stream",
     "text": [
      "Requirement already up-to-date: imbalanced-learn in c:\\users\\menna\\anaconda3\\lib\\site-packages (0.8.1)\n",
      "Requirement already satisfied, skipping upgrade: scikit-learn>=0.24 in c:\\users\\menna\\anaconda3\\lib\\site-packages (from imbalanced-learn) (1.0)\n",
      "Requirement already satisfied, skipping upgrade: numpy>=1.13.3 in c:\\users\\menna\\appdata\\roaming\\python\\python38\\site-packages (from imbalanced-learn) (1.21.0)\n",
      "Requirement already satisfied, skipping upgrade: scipy>=0.19.1 in c:\\users\\menna\\appdata\\roaming\\python\\python38\\site-packages (from imbalanced-learn) (1.7.0)\n",
      "Requirement already satisfied, skipping upgrade: joblib>=0.11 in c:\\users\\menna\\anaconda3\\lib\\site-packages (from imbalanced-learn) (0.17.0)\n",
      "Requirement already satisfied, skipping upgrade: threadpoolctl>=2.0.0 in c:\\users\\menna\\anaconda3\\lib\\site-packages (from scikit-learn>=0.24->imbalanced-learn) (2.1.0)\n",
      "Requirement already satisfied: imblearn in c:\\users\\menna\\anaconda3\\lib\\site-packages (0.0)\n",
      "Requirement already satisfied: imbalanced-learn in c:\\users\\menna\\anaconda3\\lib\\site-packages (from imblearn) (0.8.1)\n",
      "Requirement already satisfied: joblib>=0.11 in c:\\users\\menna\\anaconda3\\lib\\site-packages (from imbalanced-learn->imblearn) (0.17.0)\n",
      "Requirement already satisfied: numpy>=1.13.3 in c:\\users\\menna\\appdata\\roaming\\python\\python38\\site-packages (from imbalanced-learn->imblearn) (1.21.0)\n",
      "Requirement already satisfied: scikit-learn>=0.24 in c:\\users\\menna\\anaconda3\\lib\\site-packages (from imbalanced-learn->imblearn) (1.0)\n",
      "Requirement already satisfied: scipy>=0.19.1 in c:\\users\\menna\\appdata\\roaming\\python\\python38\\site-packages (from imbalanced-learn->imblearn) (1.7.0)\n",
      "Requirement already satisfied: threadpoolctl>=2.0.0 in c:\\users\\menna\\anaconda3\\lib\\site-packages (from scikit-learn>=0.24->imbalanced-learn->imblearn) (2.1.0)\n",
      "Requirement already satisfied: imblearn in c:\\users\\menna\\anaconda3\\lib\\site-packages (0.0)\n",
      "Requirement already satisfied: imbalanced-learn in c:\\users\\menna\\anaconda3\\lib\\site-packages (from imblearn) (0.8.1)\n",
      "Requirement already satisfied: joblib>=0.11 in c:\\users\\menna\\anaconda3\\lib\\site-packages (from imbalanced-learn->imblearn) (0.17.0)\n",
      "Requirement already satisfied: scikit-learn>=0.24 in c:\\users\\menna\\anaconda3\\lib\\site-packages (from imbalanced-learn->imblearn) (1.0)\n",
      "Requirement already satisfied: scipy>=0.19.1 in c:\\users\\menna\\appdata\\roaming\\python\\python38\\site-packages (from imbalanced-learn->imblearn) (1.7.0)\n",
      "Requirement already satisfied: numpy>=1.13.3 in c:\\users\\menna\\appdata\\roaming\\python\\python38\\site-packages (from imbalanced-learn->imblearn) (1.21.0)\n",
      "Requirement already satisfied: threadpoolctl>=2.0.0 in c:\\users\\menna\\anaconda3\\lib\\site-packages (from scikit-learn>=0.24->imbalanced-learn->imblearn) (2.1.0)\n"
     ]
    },
    {
     "name": "stderr",
     "output_type": "stream",
     "text": [
      "ERROR: Could not open requirements file: [Errno 2] No such file or directory: 'glemaitre'\n"
     ]
    },
    {
     "name": "stdout",
     "output_type": "stream",
     "text": [
      "Requirement already satisfied: imblearn==0.0 in c:\\users\\menna\\anaconda3\\lib\\site-packages (0.0)\n",
      "Requirement already satisfied: imbalanced-learn in c:\\users\\menna\\anaconda3\\lib\\site-packages (from imblearn==0.0) (0.8.1)\n",
      "Requirement already satisfied: numpy>=1.13.3 in c:\\users\\menna\\appdata\\roaming\\python\\python38\\site-packages (from imbalanced-learn->imblearn==0.0) (1.21.0)\n",
      "Requirement already satisfied: joblib>=0.11 in c:\\users\\menna\\anaconda3\\lib\\site-packages (from imbalanced-learn->imblearn==0.0) (0.17.0)\n",
      "Requirement already satisfied: scikit-learn>=0.24 in c:\\users\\menna\\anaconda3\\lib\\site-packages (from imbalanced-learn->imblearn==0.0) (1.0)\n",
      "Requirement already satisfied: scipy>=0.19.1 in c:\\users\\menna\\appdata\\roaming\\python\\python38\\site-packages (from imbalanced-learn->imblearn==0.0) (1.7.0)\n",
      "Requirement already satisfied: threadpoolctl>=2.0.0 in c:\\users\\menna\\anaconda3\\lib\\site-packages (from scikit-learn>=0.24->imbalanced-learn->imblearn==0.0) (2.1.0)\n"
     ]
    }
   ],
   "source": [
    "!pip install -U imbalanced-learn\n",
    "!pip install imblearn\n",
    "!pip install imblearn\n",
    "!pip install -c glemaitre imbalanced-learn\n",
    "!pip install imblearn==0.0"
   ]
  },
  {
   "cell_type": "code",
   "execution_count": 6,
   "metadata": {},
   "outputs": [
    {
     "name": "stdout",
     "output_type": "stream",
     "text": [
      "Requirement already satisfied: delayed in c:\\users\\menna\\anaconda3\\lib\\site-packages (0.11.0b1)\n",
      "Requirement already satisfied: redis in c:\\users\\menna\\anaconda3\\lib\\site-packages (from delayed) (3.5.3)\n",
      "Requirement already satisfied: hiredis in c:\\users\\menna\\anaconda3\\lib\\site-packages (from delayed) (2.0.0)\n"
     ]
    }
   ],
   "source": [
    "!pip install delayed"
   ]
  },
  {
   "cell_type": "code",
   "execution_count": 31,
   "metadata": {
    "colab": {
     "base_uri": "https://localhost:8080/"
    },
    "id": "iLDgiGWFTY0e",
    "outputId": "68872ac7-6d89-41ef-8e74-62608721cac4"
   },
   "outputs": [],
   "source": [
    "import numpy as np\n",
    "import pandas as pd\n",
    "import matplotlib.pyplot as plt\n",
    "#from sklearn.datasets.samples_generator import make_blobs\n",
    "from sklearn.pipeline import make_pipeline, make_union,Pipeline\n",
    "import seaborn as sns\n",
    "from sklearn.preprocessing import StandardScaler,RobustScaler,LabelEncoder,Normalizer,Binarizer,MinMaxScaler,MaxAbsScaler,PolynomialFeatures\n",
    "from sklearn.mixture import GaussianMixture\n",
    "from sklearn.model_selection import train_test_split, cross_val_score\n",
    "from sklearn import metrics\n",
    "from sklearn.linear_model import LogisticRegression\n",
    "from xgboost import XGBClassifier\n",
    "from sklearn.svm import SVC\n",
    "from imblearn.over_sampling import SMOTE\n",
    "from imblearn.under_sampling import RandomUnderSampler\n",
    "from sklearn.utils import shuffle\n",
    "from sklearn.decomposition import PCA"
   ]
  },
  {
   "cell_type": "markdown",
   "metadata": {
    "id": "MBu0J2DCyE_H"
   },
   "source": [
    "# Import Data"
   ]
  },
  {
   "cell_type": "code",
   "execution_count": 32,
   "metadata": {
    "colab": {
     "base_uri": "https://localhost:8080/"
    },
    "id": "b8zMky38j9b5",
    "outputId": "79711b96-5b3a-463b-c7a3-41c0bceeffda"
   },
   "outputs": [
    {
     "ename": "ModuleNotFoundError",
     "evalue": "No module named 'google'",
     "output_type": "error",
     "traceback": [
      "\u001b[1;31m---------------------------------------------------------------------------\u001b[0m",
      "\u001b[1;31mModuleNotFoundError\u001b[0m                       Traceback (most recent call last)",
      "\u001b[1;32m<ipython-input-32-d5df0069828e>\u001b[0m in \u001b[0;36m<module>\u001b[1;34m\u001b[0m\n\u001b[1;32m----> 1\u001b[1;33m \u001b[1;32mfrom\u001b[0m \u001b[0mgoogle\u001b[0m\u001b[1;33m.\u001b[0m\u001b[0mcolab\u001b[0m \u001b[1;32mimport\u001b[0m \u001b[0mdrive\u001b[0m\u001b[1;33m\u001b[0m\u001b[1;33m\u001b[0m\u001b[0m\n\u001b[0m\u001b[0;32m      2\u001b[0m \u001b[0mdrive\u001b[0m\u001b[1;33m.\u001b[0m\u001b[0mmount\u001b[0m\u001b[1;33m(\u001b[0m\u001b[1;34m'/content/drive'\u001b[0m\u001b[1;33m)\u001b[0m\u001b[1;33m\u001b[0m\u001b[1;33m\u001b[0m\u001b[0m\n",
      "\u001b[1;31mModuleNotFoundError\u001b[0m: No module named 'google'"
     ]
    }
   ],
   "source": [
    "from google.colab import drive\n",
    "drive.mount('/content/drive')"
   ]
  },
  {
   "cell_type": "code",
   "execution_count": 33,
   "metadata": {
    "colab": {
     "base_uri": "https://localhost:8080/",
     "height": 224
    },
    "id": "ZB3fvunEL27M",
    "outputId": "e77a0e03-7606-4f0a-d258-ee86fbe162be"
   },
   "outputs": [
    {
     "data": {
      "text/html": [
       "<div>\n",
       "<style scoped>\n",
       "    .dataframe tbody tr th:only-of-type {\n",
       "        vertical-align: middle;\n",
       "    }\n",
       "\n",
       "    .dataframe tbody tr th {\n",
       "        vertical-align: top;\n",
       "    }\n",
       "\n",
       "    .dataframe thead th {\n",
       "        text-align: right;\n",
       "    }\n",
       "</style>\n",
       "<table border=\"1\" class=\"dataframe\">\n",
       "  <thead>\n",
       "    <tr style=\"text-align: right;\">\n",
       "      <th></th>\n",
       "      <th>Time</th>\n",
       "      <th>V1</th>\n",
       "      <th>V2</th>\n",
       "      <th>V3</th>\n",
       "      <th>V4</th>\n",
       "      <th>V5</th>\n",
       "      <th>V6</th>\n",
       "      <th>V7</th>\n",
       "      <th>V8</th>\n",
       "      <th>V9</th>\n",
       "      <th>...</th>\n",
       "      <th>V21</th>\n",
       "      <th>V22</th>\n",
       "      <th>V23</th>\n",
       "      <th>V24</th>\n",
       "      <th>V25</th>\n",
       "      <th>V26</th>\n",
       "      <th>V27</th>\n",
       "      <th>V28</th>\n",
       "      <th>Amount</th>\n",
       "      <th>Class</th>\n",
       "    </tr>\n",
       "  </thead>\n",
       "  <tbody>\n",
       "    <tr>\n",
       "      <th>0</th>\n",
       "      <td>0.0</td>\n",
       "      <td>-1.359807</td>\n",
       "      <td>-0.072781</td>\n",
       "      <td>2.536347</td>\n",
       "      <td>1.378155</td>\n",
       "      <td>-0.338321</td>\n",
       "      <td>0.462388</td>\n",
       "      <td>0.239599</td>\n",
       "      <td>0.098698</td>\n",
       "      <td>0.363787</td>\n",
       "      <td>...</td>\n",
       "      <td>-0.018307</td>\n",
       "      <td>0.277838</td>\n",
       "      <td>-0.110474</td>\n",
       "      <td>0.066928</td>\n",
       "      <td>0.128539</td>\n",
       "      <td>-0.189115</td>\n",
       "      <td>0.133558</td>\n",
       "      <td>-0.021053</td>\n",
       "      <td>149.62</td>\n",
       "      <td>0</td>\n",
       "    </tr>\n",
       "    <tr>\n",
       "      <th>1</th>\n",
       "      <td>0.0</td>\n",
       "      <td>1.191857</td>\n",
       "      <td>0.266151</td>\n",
       "      <td>0.166480</td>\n",
       "      <td>0.448154</td>\n",
       "      <td>0.060018</td>\n",
       "      <td>-0.082361</td>\n",
       "      <td>-0.078803</td>\n",
       "      <td>0.085102</td>\n",
       "      <td>-0.255425</td>\n",
       "      <td>...</td>\n",
       "      <td>-0.225775</td>\n",
       "      <td>-0.638672</td>\n",
       "      <td>0.101288</td>\n",
       "      <td>-0.339846</td>\n",
       "      <td>0.167170</td>\n",
       "      <td>0.125895</td>\n",
       "      <td>-0.008983</td>\n",
       "      <td>0.014724</td>\n",
       "      <td>2.69</td>\n",
       "      <td>0</td>\n",
       "    </tr>\n",
       "    <tr>\n",
       "      <th>2</th>\n",
       "      <td>1.0</td>\n",
       "      <td>-1.358354</td>\n",
       "      <td>-1.340163</td>\n",
       "      <td>1.773209</td>\n",
       "      <td>0.379780</td>\n",
       "      <td>-0.503198</td>\n",
       "      <td>1.800499</td>\n",
       "      <td>0.791461</td>\n",
       "      <td>0.247676</td>\n",
       "      <td>-1.514654</td>\n",
       "      <td>...</td>\n",
       "      <td>0.247998</td>\n",
       "      <td>0.771679</td>\n",
       "      <td>0.909412</td>\n",
       "      <td>-0.689281</td>\n",
       "      <td>-0.327642</td>\n",
       "      <td>-0.139097</td>\n",
       "      <td>-0.055353</td>\n",
       "      <td>-0.059752</td>\n",
       "      <td>378.66</td>\n",
       "      <td>0</td>\n",
       "    </tr>\n",
       "    <tr>\n",
       "      <th>3</th>\n",
       "      <td>1.0</td>\n",
       "      <td>-0.966272</td>\n",
       "      <td>-0.185226</td>\n",
       "      <td>1.792993</td>\n",
       "      <td>-0.863291</td>\n",
       "      <td>-0.010309</td>\n",
       "      <td>1.247203</td>\n",
       "      <td>0.237609</td>\n",
       "      <td>0.377436</td>\n",
       "      <td>-1.387024</td>\n",
       "      <td>...</td>\n",
       "      <td>-0.108300</td>\n",
       "      <td>0.005274</td>\n",
       "      <td>-0.190321</td>\n",
       "      <td>-1.175575</td>\n",
       "      <td>0.647376</td>\n",
       "      <td>-0.221929</td>\n",
       "      <td>0.062723</td>\n",
       "      <td>0.061458</td>\n",
       "      <td>123.50</td>\n",
       "      <td>0</td>\n",
       "    </tr>\n",
       "    <tr>\n",
       "      <th>4</th>\n",
       "      <td>2.0</td>\n",
       "      <td>-1.158233</td>\n",
       "      <td>0.877737</td>\n",
       "      <td>1.548718</td>\n",
       "      <td>0.403034</td>\n",
       "      <td>-0.407193</td>\n",
       "      <td>0.095921</td>\n",
       "      <td>0.592941</td>\n",
       "      <td>-0.270533</td>\n",
       "      <td>0.817739</td>\n",
       "      <td>...</td>\n",
       "      <td>-0.009431</td>\n",
       "      <td>0.798278</td>\n",
       "      <td>-0.137458</td>\n",
       "      <td>0.141267</td>\n",
       "      <td>-0.206010</td>\n",
       "      <td>0.502292</td>\n",
       "      <td>0.219422</td>\n",
       "      <td>0.215153</td>\n",
       "      <td>69.99</td>\n",
       "      <td>0</td>\n",
       "    </tr>\n",
       "  </tbody>\n",
       "</table>\n",
       "<p>5 rows × 31 columns</p>\n",
       "</div>"
      ],
      "text/plain": [
       "   Time        V1        V2        V3        V4        V5        V6        V7  \\\n",
       "0   0.0 -1.359807 -0.072781  2.536347  1.378155 -0.338321  0.462388  0.239599   \n",
       "1   0.0  1.191857  0.266151  0.166480  0.448154  0.060018 -0.082361 -0.078803   \n",
       "2   1.0 -1.358354 -1.340163  1.773209  0.379780 -0.503198  1.800499  0.791461   \n",
       "3   1.0 -0.966272 -0.185226  1.792993 -0.863291 -0.010309  1.247203  0.237609   \n",
       "4   2.0 -1.158233  0.877737  1.548718  0.403034 -0.407193  0.095921  0.592941   \n",
       "\n",
       "         V8        V9  ...       V21       V22       V23       V24       V25  \\\n",
       "0  0.098698  0.363787  ... -0.018307  0.277838 -0.110474  0.066928  0.128539   \n",
       "1  0.085102 -0.255425  ... -0.225775 -0.638672  0.101288 -0.339846  0.167170   \n",
       "2  0.247676 -1.514654  ...  0.247998  0.771679  0.909412 -0.689281 -0.327642   \n",
       "3  0.377436 -1.387024  ... -0.108300  0.005274 -0.190321 -1.175575  0.647376   \n",
       "4 -0.270533  0.817739  ... -0.009431  0.798278 -0.137458  0.141267 -0.206010   \n",
       "\n",
       "        V26       V27       V28  Amount  Class  \n",
       "0 -0.189115  0.133558 -0.021053  149.62      0  \n",
       "1  0.125895 -0.008983  0.014724    2.69      0  \n",
       "2 -0.139097 -0.055353 -0.059752  378.66      0  \n",
       "3 -0.221929  0.062723  0.061458  123.50      0  \n",
       "4  0.502292  0.219422  0.215153   69.99      0  \n",
       "\n",
       "[5 rows x 31 columns]"
      ]
     },
     "execution_count": 33,
     "metadata": {},
     "output_type": "execute_result"
    }
   ],
   "source": [
    "df  = pd.read_csv('creditcard.csv')\n",
    "df.head()"
   ]
  },
  {
   "cell_type": "markdown",
   "metadata": {
    "id": "VLQ93LjkyOxQ"
   },
   "source": [
    "# Split Data"
   ]
  },
  {
   "cell_type": "code",
   "execution_count": 12,
   "metadata": {
    "colab": {
     "base_uri": "https://localhost:8080/"
    },
    "id": "8CbrxlU8OmEi",
    "outputId": "041df356-f380-4626-de25-265f9272dfbc"
   },
   "outputs": [
    {
     "name": "stdout",
     "output_type": "stream",
     "text": [
      "Class\n",
      "0        284315\n",
      "1           492\n",
      "dtype: int64\n"
     ]
    }
   ],
   "source": [
    "X = df.iloc[:, df.columns != 'Class']\n",
    "y = df.iloc[:, df.columns == 'Class']\n",
    "\n",
    "print(y.value_counts())"
   ]
  },
  {
   "cell_type": "code",
   "execution_count": 13,
   "metadata": {
    "id": "lKtMYk6AtI8X"
   },
   "outputs": [],
   "source": [
    "def under_sampling(df):\n",
    "  number_records_fraud = len (df[df.Class==1])\n",
    "  fraud_indices = np.array (df[df.Class==1].index)\n",
    "  normal_indices = np.array (df[df.Class==0].index)\n",
    "  np.random.seed(42)\n",
    "  random_normal_indices = np.random.choice (normal_indices, number_records_fraud, replace = False )\n",
    "  under_sample_indices = np.concatenate ([fraud_indices, random_normal_indices])\n",
    "  under_sample_data = df.iloc[under_sample_indices,:]\n",
    "  return under_sample_data"
   ]
  },
  {
   "cell_type": "code",
   "execution_count": 14,
   "metadata": {
    "colab": {
     "base_uri": "https://localhost:8080/"
    },
    "id": "5O7VcPX6tJMj",
    "outputId": "24ccb1d5-679f-4184-a98f-6f580f7fa802"
   },
   "outputs": [
    {
     "name": "stdout",
     "output_type": "stream",
     "text": [
      "data after undersampling :  Class\n",
      "1        492\n",
      "0        492\n",
      "dtype: int64\n"
     ]
    }
   ],
   "source": [
    "under_sample_data=under_sampling(df)\n",
    "X_undersample = under_sample_data.iloc [:, under_sample_data.columns != 'Class']\n",
    "y_undersample = under_sample_data.iloc [:, under_sample_data.columns == 'Class']\n",
    "\n",
    "print('data after undersampling : ', y_undersample.value_counts())\n"
   ]
  },
  {
   "cell_type": "markdown",
   "metadata": {
    "id": "iLqsp7tOyWhD"
   },
   "source": [
    "# Train And Test"
   ]
  },
  {
   "cell_type": "markdown",
   "metadata": {
    "id": "9-6q3nbbp6cO"
   },
   "source": [
    "# GMM\n",
    "#A Gaussian mixture model is a probabilistic model that assumes all the data points are generated from a mixture of a finite number of Gaussian distributions with unknown parameters. One can think of mixture models as generalizing k-means clustering to incorporate information about the covariance structure of the data as well as the centers of the latent Gaussians."
   ]
  },
  {
   "cell_type": "code",
   "execution_count": 15,
   "metadata": {
    "colab": {
     "base_uri": "https://localhost:8080/"
    },
    "id": "GHGs2mp_Afmm",
    "outputId": "5f6658a3-121c-451a-a550-ec1d9baf239a"
   },
   "outputs": [
    {
     "data": {
      "text/plain": [
       "GaussianMixture(covariance_type='diag', init_params='random', n_components=2,\n",
       "                random_state=0)"
      ]
     },
     "execution_count": 15,
     "metadata": {},
     "output_type": "execute_result"
    }
   ],
   "source": [
    " from sklearn.mixture import GaussianMixture\n",
    "gm = GaussianMixture(n_components=2, covariance_type = 'diag', init_params='random', max_iter=100,random_state=0)\n",
    "gm.fit(X)"
   ]
  },
  {
   "cell_type": "code",
   "execution_count": 16,
   "metadata": {
    "colab": {
     "base_uri": "https://localhost:8080/"
    },
    "id": "VYOWdyEX-o-9",
    "outputId": "5a7d3010-d63e-4917-d0a2-f655b4657394"
   },
   "outputs": [
    {
     "data": {
      "text/plain": [
       "0.8808143349534018"
      ]
     },
     "execution_count": 16,
     "metadata": {},
     "output_type": "execute_result"
    }
   ],
   "source": [
    "import sklearn.metrics as metrics\n",
    "fpr, tpr, thresholds = metrics.roc_curve(y, gm.predict(X))\n",
    "metrics.auc(fpr, tpr)"
   ]
  },
  {
   "cell_type": "markdown",
   "metadata": {
    "id": "NpGq7oMJtUuP"
   },
   "source": [
    "### With UnderSampling"
   ]
  },
  {
   "cell_type": "code",
   "execution_count": 21,
   "metadata": {
    "colab": {
     "base_uri": "https://localhost:8080/"
    },
    "id": "JQxyxxYcr6KC",
    "outputId": "0a38971f-9095-47cb-e4c3-a35d9d5f6670"
   },
   "outputs": [
    {
     "data": {
      "text/plain": [
       "GaussianMixture(covariance_type='diag', init_params='random', n_components=2,\n",
       "                random_state=0)"
      ]
     },
     "execution_count": 21,
     "metadata": {},
     "output_type": "execute_result"
    }
   ],
   "source": [
    "under_gm = GaussianMixture(n_components=2, covariance_type = 'diag', init_params='random', max_iter=100,random_state=0)\n",
    "under_gm.fit(X_undersample)"
   ]
  },
  {
   "cell_type": "code",
   "execution_count": 22,
   "metadata": {
    "colab": {
     "base_uri": "https://localhost:8080/"
    },
    "id": "iLWnfvo5sA-V",
    "outputId": "953a1a98-713a-4c4a-e8e6-cad8ebb78a74"
   },
   "outputs": [
    {
     "data": {
      "text/plain": [
       "0.8931999697175455"
      ]
     },
     "execution_count": 22,
     "metadata": {},
     "output_type": "execute_result"
    }
   ],
   "source": [
    "fp, tp, threshold = metrics.roc_curve(y, under_gm.predict(X))\n",
    "metrics.auc(fp, tp)"
   ]
  },
  {
   "cell_type": "markdown",
   "metadata": {
    "id": "_1gNhqsRp9KI"
   },
   "source": [
    "# Pyod\n",
    "\n",
    "#PyOD is a comprehensive and scalable Python toolkit for detecting outlying objects in multivariate data. This exciting yet challenging field is commonly referred as Outlier Detection or Anomaly Detection.\n",
    "\n",
    "#It is a linear Models for Outlier Detection , type : Probabilistic ."
   ]
  },
  {
   "cell_type": "code",
   "execution_count": 23,
   "metadata": {
    "colab": {
     "base_uri": "https://localhost:8080/"
    },
    "id": "1UxdmigQokV5",
    "outputId": "f88e6667-6d6a-4514-fa70-7ae005603db2"
   },
   "outputs": [
    {
     "data": {
      "text/plain": [
       "COPOD(contamination=0.1, n_jobs=1)"
      ]
     },
     "execution_count": 23,
     "metadata": {},
     "output_type": "execute_result"
    }
   ],
   "source": [
    "# train the COPOD detector \n",
    "from pyod.models.copod import COPOD \n",
    "#The whole dataset\n",
    "clf = COPOD() #COPOD: Copula-Based Outlier Detection\n",
    "clf.fit(X)"
   ]
  },
  {
   "cell_type": "code",
   "execution_count": null,
   "metadata": {
    "colab": {
     "base_uri": "https://localhost:8080/"
    },
    "id": "g5Zlhf90okIt",
    "outputId": "5aab3c1d-4495-465d-ac5b-573662378bbe"
   },
   "outputs": [],
   "source": [
    "COPOD_fpr, COPOD_tpr, COPOD_thresholds = metrics.roc_curve(y, clf.predict(X))\n",
    "metrics.auc(COPOD_fpr, COPOD_tpr)"
   ]
  },
  {
   "cell_type": "markdown",
   "metadata": {
    "id": "95vibXh9thyL"
   },
   "source": [
    "### With UnderSampling"
   ]
  },
  {
   "cell_type": "code",
   "execution_count": 25,
   "metadata": {
    "colab": {
     "base_uri": "https://localhost:8080/"
    },
    "id": "Vfts3tX9tjU6",
    "outputId": "af0f486e-3be0-4742-df5e-e6f85a776080"
   },
   "outputs": [
    {
     "data": {
      "text/plain": [
       "COPOD(contamination=0.1, n_jobs=1)"
      ]
     },
     "execution_count": 25,
     "metadata": {},
     "output_type": "execute_result"
    }
   ],
   "source": [
    "under_copod = COPOD()\n",
    "under_copod.fit(X_undersample)"
   ]
  },
  {
   "cell_type": "code",
   "execution_count": 26,
   "metadata": {
    "colab": {
     "base_uri": "https://localhost:8080/"
    },
    "id": "FkgYTlJStvQB",
    "outputId": "01048502-5c04-481f-919c-007f8ea090b2"
   },
   "outputs": [
    {
     "data": {
      "text/plain": [
       "0.8953353331477497"
      ]
     },
     "execution_count": 26,
     "metadata": {},
     "output_type": "execute_result"
    }
   ],
   "source": [
    "COPOD_fpr, COPOD_tpr, COPOD_thresholds = metrics.roc_curve(y, under_copod.predict(X))\n",
    "metrics.auc(COPOD_fpr, COPOD_tpr)"
   ]
  },
  {
   "cell_type": "markdown",
   "metadata": {
    "id": "yA-9byhDpu4h"
   },
   "source": [
    "## Supervised"
   ]
  },
  {
   "cell_type": "code",
   "execution_count": 34,
   "metadata": {
    "id": "_FqTVzoyP1X-"
   },
   "outputs": [],
   "source": [
    "X_train, X_test, y_train, y_test = train_test_split(X, y, test_size=0.33, random_state=1, shuffle=True)  "
   ]
  },
  {
   "cell_type": "code",
   "execution_count": 35,
   "metadata": {
    "colab": {
     "base_uri": "https://localhost:8080/"
    },
    "id": "9TSqxy1rZHzy",
    "outputId": "7d076e52-c1d9-408f-8d1a-bc86b97e1b95"
   },
   "outputs": [
    {
     "name": "stderr",
     "output_type": "stream",
     "text": [
      "<ipython-input-35-26db46bf915c>:3: DataConversionWarning: A column-vector y was passed when a 1d array was expected. Please change the shape of y to (n_samples,), for example using ravel().\n",
      "  clf.fit(X_train, y_train)\n"
     ]
    },
    {
     "data": {
      "text/plain": [
       "0.8851084937600139"
      ]
     },
     "execution_count": 35,
     "metadata": {},
     "output_type": "execute_result"
    }
   ],
   "source": [
    "from sklearn.ensemble import ExtraTreesClassifier\n",
    "clf = ExtraTreesClassifier(n_estimators=100, random_state=0)\n",
    "clf.fit(X_train, y_train)\n",
    "fp, tp, threshold = metrics.roc_curve(y_test, clf.predict(X_test))\n",
    "metrics.auc(fp, tp)"
   ]
  },
  {
   "cell_type": "markdown",
   "metadata": {
    "id": "wndaIrzMrHKl"
   },
   "source": [
    "### With UnderSampling"
   ]
  },
  {
   "cell_type": "code",
   "execution_count": 36,
   "metadata": {
    "colab": {
     "base_uri": "https://localhost:8080/"
    },
    "id": "DVtGFiCaZykb",
    "outputId": "937d58ca-68b8-40c1-aafc-3136c831d308"
   },
   "outputs": [
    {
     "name": "stderr",
     "output_type": "stream",
     "text": [
      "<ipython-input-36-e9727ead0181>:2: DataConversionWarning: A column-vector y was passed when a 1d array was expected. Please change the shape of y to (n_samples,), for example using ravel().\n",
      "  clf.fit(X_undersample, y_undersample)\n"
     ]
    },
    {
     "data": {
      "text/plain": [
       "0.991483038179484"
      ]
     },
     "execution_count": 36,
     "metadata": {},
     "output_type": "execute_result"
    }
   ],
   "source": [
    "clf = ExtraTreesClassifier(n_estimators=100, random_state=0)\n",
    "clf.fit(X_undersample, y_undersample)\n",
    "fp, tp, threshold = metrics.roc_curve(y, clf.predict(X))\n",
    "metrics.auc(fp, tp)"
   ]
  },
  {
   "cell_type": "markdown",
   "metadata": {},
   "source": [
    "# summary :\n",
    "\n",
    "Under sampling  is useful with the  case of Supervised learning .\n"
   ]
  },
  {
   "cell_type": "code",
   "execution_count": null,
   "metadata": {},
   "outputs": [],
   "source": []
  }
 ],
 "metadata": {
  "colab": {
   "collapsed_sections": [],
   "name": "ML2_Project_Anomaly_Detection.ipynb",
   "provenance": []
  },
  "kernelspec": {
   "display_name": "Python 3",
   "language": "python",
   "name": "python3"
  },
  "language_info": {
   "codemirror_mode": {
    "name": "ipython",
    "version": 3
   },
   "file_extension": ".py",
   "mimetype": "text/x-python",
   "name": "python",
   "nbconvert_exporter": "python",
   "pygments_lexer": "ipython3",
   "version": "3.8.5"
  }
 },
 "nbformat": 4,
 "nbformat_minor": 1
}
