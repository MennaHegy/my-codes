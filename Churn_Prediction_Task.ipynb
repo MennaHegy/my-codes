{
  "nbformat": 4,
  "nbformat_minor": 0,
  "metadata": {
    "colab": {
      "name": "Nader_Elhadedy-Deep_Learning-Task1-Churn_Prediction.ipynb",
      "provenance": [],
      "collapsed_sections": []
    },
    "kernelspec": {
      "display_name": "Python 3",
      "name": "python3"
    },
    "language_info": {
      "name": "python"
    }
  },
  "cells": [
    {
      "cell_type": "markdown",
      "metadata": {
        "id": "SN95leDAq4bg"
      },
      "source": [
        "<center>\n",
        "<h1>Name: Nader Mohamed Elhadedy</h1>\n",
        "<h1>Task: Churn Prediction</h1>\n",
        "</center>"
      ]
    },
    {
      "cell_type": "code",
      "metadata": {
        "id": "Ai7oNCEs8HDK"
      },
      "source": [
        ""
      ],
      "execution_count": null,
      "outputs": []
    },
    {
      "cell_type": "markdown",
      "metadata": {
        "id": "Pa5dru0FrKMH"
      },
      "source": [
        "---"
      ]
    },
    {
      "cell_type": "markdown",
      "metadata": {
        "id": "-N-jKtYfrLY_"
      },
      "source": [
        "# Import Packages"
      ]
    },
    {
      "cell_type": "code",
      "metadata": {
        "id": "mKRVpJ42AOYZ"
      },
      "source": [
        "import numpy as np\n",
        "import pandas as pd\n",
        "import matplotlib.pyplot as plt\n",
        "import seaborn as sns\n",
        "import tensorflow as tf\n",
        "from sklearn.model_selection import train_test_split"
      ],
      "execution_count": null,
      "outputs": []
    },
    {
      "cell_type": "markdown",
      "metadata": {
        "id": "qTBhF76YrWls"
      },
      "source": [
        "# Read Data"
      ]
    },
    {
      "cell_type": "code",
      "metadata": {
        "id": "dfJVQdopByMl"
      },
      "source": [
        "data_path = 'https://raw.githubusercontent.com/naderelhadedy/churn_modeling_dataset/main/churn_modeling.csv'\n",
        "raw_df = pd.read_csv(data_path)\n",
        "df = raw_df.copy()"
      ],
      "execution_count": null,
      "outputs": []
    },
    {
      "cell_type": "code",
      "metadata": {
        "colab": {
          "base_uri": "https://localhost:8080/"
        },
        "id": "ocGL42j7B9_q",
        "outputId": "9ea7ea77-8fc6-4c98-f2fb-fad811833ee0"
      },
      "source": [
        "df.info()"
      ],
      "execution_count": null,
      "outputs": [
        {
          "output_type": "stream",
          "name": "stdout",
          "text": [
            "<class 'pandas.core.frame.DataFrame'>\n",
            "RangeIndex: 10000 entries, 0 to 9999\n",
            "Data columns (total 14 columns):\n",
            " #   Column           Non-Null Count  Dtype  \n",
            "---  ------           --------------  -----  \n",
            " 0   RowNumber        10000 non-null  int64  \n",
            " 1   CustomerId       10000 non-null  int64  \n",
            " 2   Surname          10000 non-null  object \n",
            " 3   CreditScore      10000 non-null  int64  \n",
            " 4   Geography        10000 non-null  object \n",
            " 5   Gender           10000 non-null  object \n",
            " 6   Age              10000 non-null  int64  \n",
            " 7   Tenure           10000 non-null  int64  \n",
            " 8   Balance          10000 non-null  float64\n",
            " 9   NumOfProducts    10000 non-null  int64  \n",
            " 10  HasCrCard        10000 non-null  int64  \n",
            " 11  IsActiveMember   10000 non-null  int64  \n",
            " 12  EstimatedSalary  10000 non-null  float64\n",
            " 13  Exited           10000 non-null  int64  \n",
            "dtypes: float64(2), int64(9), object(3)\n",
            "memory usage: 1.1+ MB\n"
          ]
        }
      ]
    },
    {
      "cell_type": "code",
      "metadata": {
        "colab": {
          "base_uri": "https://localhost:8080/"
        },
        "id": "DaFhruKvI1mj",
        "outputId": "99026c27-e3da-45b2-e992-a246cea34f2a"
      },
      "source": [
        "df.shape"
      ],
      "execution_count": null,
      "outputs": [
        {
          "output_type": "execute_result",
          "data": {
            "text/plain": [
              "(10000, 14)"
            ]
          },
          "metadata": {},
          "execution_count": 4
        }
      ]
    },
    {
      "cell_type": "markdown",
      "metadata": {
        "id": "jXjxDdeIrZdy"
      },
      "source": [
        "# Explore Data"
      ]
    },
    {
      "cell_type": "code",
      "metadata": {
        "colab": {
          "base_uri": "https://localhost:8080/"
        },
        "id": "99ydtXsZH7Du",
        "outputId": "31a6cb2c-93d0-4341-a2a4-ff15411f914d"
      },
      "source": [
        "df.isna().sum()"
      ],
      "execution_count": null,
      "outputs": [
        {
          "output_type": "execute_result",
          "data": {
            "text/plain": [
              "RowNumber          0\n",
              "CustomerId         0\n",
              "Surname            0\n",
              "CreditScore        0\n",
              "Geography          0\n",
              "Gender             0\n",
              "Age                0\n",
              "Tenure             0\n",
              "Balance            0\n",
              "NumOfProducts      0\n",
              "HasCrCard          0\n",
              "IsActiveMember     0\n",
              "EstimatedSalary    0\n",
              "Exited             0\n",
              "dtype: int64"
            ]
          },
          "metadata": {},
          "execution_count": 5
        }
      ]
    },
    {
      "cell_type": "code",
      "metadata": {
        "colab": {
          "base_uri": "https://localhost:8080/"
        },
        "id": "NVF-eB0mCGcw",
        "outputId": "e90bead1-1285-4a03-b6c8-634229846521"
      },
      "source": [
        "df.sample(1).iloc[0]"
      ],
      "execution_count": null,
      "outputs": [
        {
          "output_type": "execute_result",
          "data": {
            "text/plain": [
              "RowNumber               162\n",
              "CustomerId         15641122\n",
              "Surname                 Wei\n",
              "CreditScore             684\n",
              "Geography            France\n",
              "Gender                 Male\n",
              "Age                      30\n",
              "Tenure                    2\n",
              "Balance                   0\n",
              "NumOfProducts             2\n",
              "HasCrCard                 1\n",
              "IsActiveMember            0\n",
              "EstimatedSalary     83473.8\n",
              "Exited                    0\n",
              "Name: 161, dtype: object"
            ]
          },
          "metadata": {},
          "execution_count": 6
        }
      ]
    },
    {
      "cell_type": "code",
      "metadata": {
        "colab": {
          "base_uri": "https://localhost:8080/"
        },
        "id": "_dbNoR1SH-W7",
        "outputId": "a0d8d0ef-49f1-4480-8239-a3e4e45e934e"
      },
      "source": [
        "df.duplicated().sum()"
      ],
      "execution_count": null,
      "outputs": [
        {
          "output_type": "execute_result",
          "data": {
            "text/plain": [
              "0"
            ]
          },
          "metadata": {},
          "execution_count": 7
        }
      ]
    },
    {
      "cell_type": "code",
      "metadata": {
        "colab": {
          "base_uri": "https://localhost:8080/"
        },
        "id": "fVJfnT7EFry4",
        "outputId": "6c5c398e-e804-41c6-d275-bd05449c6c8c"
      },
      "source": [
        "string_cols = df.select_dtypes('object').columns\n",
        "for col in string_cols:\n",
        "  print(f'Unique values in {col}: {len(np.unique(df[col]))}')"
      ],
      "execution_count": null,
      "outputs": [
        {
          "output_type": "stream",
          "name": "stdout",
          "text": [
            "Unique values in Surname: 2932\n",
            "Unique values in Geography: 3\n",
            "Unique values in Gender: 2\n"
          ]
        }
      ]
    },
    {
      "cell_type": "code",
      "metadata": {
        "colab": {
          "base_uri": "https://localhost:8080/"
        },
        "id": "c_fqmoXSDVnS",
        "outputId": "2a435a12-68af-4592-f4b2-86991d3867f4"
      },
      "source": [
        "num_cols = df.select_dtypes(['int', 'float']).columns\n",
        "for col in num_cols:\n",
        "  print(f'Unique values in {col}: {len(np.unique(df[col]))}')"
      ],
      "execution_count": null,
      "outputs": [
        {
          "output_type": "stream",
          "name": "stdout",
          "text": [
            "Unique values in RowNumber: 10000\n",
            "Unique values in CustomerId: 10000\n",
            "Unique values in CreditScore: 460\n",
            "Unique values in Age: 70\n",
            "Unique values in Tenure: 11\n",
            "Unique values in Balance: 6382\n",
            "Unique values in NumOfProducts: 4\n",
            "Unique values in HasCrCard: 2\n",
            "Unique values in IsActiveMember: 2\n",
            "Unique values in EstimatedSalary: 9999\n",
            "Unique values in Exited: 2\n"
          ]
        }
      ]
    },
    {
      "cell_type": "markdown",
      "metadata": {
        "id": "T4_MRwsUrsvG"
      },
      "source": [
        "# Prepare and Split Data"
      ]
    },
    {
      "cell_type": "code",
      "metadata": {
        "id": "s4BP6_3xC-x8"
      },
      "source": [
        "new_feats = df[num_cols]\n",
        "feats, target = new_feats.iloc[:,2:-1], new_feats.iloc[:,-1]"
      ],
      "execution_count": null,
      "outputs": []
    },
    {
      "cell_type": "code",
      "metadata": {
        "colab": {
          "base_uri": "https://localhost:8080/"
        },
        "id": "V5nvCSpsQkr-",
        "outputId": "7cccfc88-7d1c-4ce4-a525-a0a66920eb1d"
      },
      "source": [
        "target.value_counts()"
      ],
      "execution_count": null,
      "outputs": [
        {
          "output_type": "execute_result",
          "data": {
            "text/plain": [
              "0    7963\n",
              "1    2037\n",
              "Name: Exited, dtype: int64"
            ]
          },
          "metadata": {},
          "execution_count": 11
        }
      ]
    },
    {
      "cell_type": "code",
      "metadata": {
        "id": "JcaJrvVcQvPw"
      },
      "source": [
        "X = feats.copy()\n",
        "y = target.copy()"
      ],
      "execution_count": null,
      "outputs": []
    },
    {
      "cell_type": "code",
      "metadata": {
        "id": "22pkISFvQCVB"
      },
      "source": [
        "X_train, X_test, y_train, y_test = train_test_split(X, y, test_size=0.3, stratify=y, random_state=42)"
      ],
      "execution_count": null,
      "outputs": []
    },
    {
      "cell_type": "code",
      "metadata": {
        "colab": {
          "base_uri": "https://localhost:8080/"
        },
        "id": "fJ6eEmZrRimy",
        "outputId": "92d4e914-a46c-4b57-8a21-ebad1d84396e"
      },
      "source": [
        "X_train.shape"
      ],
      "execution_count": null,
      "outputs": [
        {
          "output_type": "execute_result",
          "data": {
            "text/plain": [
              "(7000, 8)"
            ]
          },
          "metadata": {},
          "execution_count": 14
        }
      ]
    },
    {
      "cell_type": "code",
      "metadata": {
        "id": "ETXwuo_4Vq4I"
      },
      "source": [
        "y_train = np.asarray(y_train).astype('float32').reshape((-1,1))\n",
        "y_test = np.asarray(y_test).astype('float32').reshape((-1,1))"
      ],
      "execution_count": null,
      "outputs": []
    },
    {
      "cell_type": "markdown",
      "metadata": {
        "id": "xrIwPcvdK8mL"
      },
      "source": [
        "---"
      ]
    },
    {
      "cell_type": "markdown",
      "metadata": {
        "id": "bA5UjgHOsGoY"
      },
      "source": [
        "# Import Keras functions"
      ]
    },
    {
      "cell_type": "code",
      "metadata": {
        "id": "PKvHb6prEAHh"
      },
      "source": [
        "from tensorflow.keras import Sequential\n",
        "from tensorflow.keras.callbacks import EarlyStopping\n",
        "from tensorflow.keras.layers import Dense, Flatten, Dropout, BatchNormalization"
      ],
      "execution_count": null,
      "outputs": []
    },
    {
      "cell_type": "code",
      "metadata": {
        "id": "yYO41wVacYdZ"
      },
      "source": [
        "tf.random.set_seed(42)"
      ],
      "execution_count": null,
      "outputs": []
    },
    {
      "cell_type": "markdown",
      "metadata": {
        "id": "t6PJDk8NsZ15"
      },
      "source": [
        "# Build model architecture"
      ]
    },
    {
      "cell_type": "code",
      "metadata": {
        "id": "puRocbVsRQwp"
      },
      "source": [
        "model = Sequential([Flatten(input_shape=(X_train.shape[1],), name='input'),\n",
        "                    BatchNormalization(name='batch_norm1'),\n",
        "                    Dense(25, activation=tf.nn.relu, name='hidden_layer1'),\n",
        "                    BatchNormalization(name='batch_norm2'),\n",
        "                    Dense(25, activation=tf.nn.relu, name='hidden_layer2'),\n",
        "                    BatchNormalization(name='batch_norm3'),\n",
        "                    Dense(1, activation=tf.nn.sigmoid, name='output')])"
      ],
      "execution_count": null,
      "outputs": []
    },
    {
      "cell_type": "code",
      "metadata": {
        "colab": {
          "base_uri": "https://localhost:8080/"
        },
        "id": "51fdvdwtS3RR",
        "outputId": "8ca722f0-2dde-401e-d44c-53c9ae20b8d7"
      },
      "source": [
        "model.summary()"
      ],
      "execution_count": null,
      "outputs": [
        {
          "output_type": "stream",
          "name": "stdout",
          "text": [
            "Model: \"sequential\"\n",
            "_________________________________________________________________\n",
            " Layer (type)                Output Shape              Param #   \n",
            "=================================================================\n",
            " input (Flatten)             (None, 8)                 0         \n",
            "                                                                 \n",
            " batch_norm1 (BatchNormaliza  (None, 8)                32        \n",
            " tion)                                                           \n",
            "                                                                 \n",
            " hidden_layer1 (Dense)       (None, 25)                225       \n",
            "                                                                 \n",
            " batch_norm2 (BatchNormaliza  (None, 25)               100       \n",
            " tion)                                                           \n",
            "                                                                 \n",
            " hidden_layer2 (Dense)       (None, 25)                650       \n",
            "                                                                 \n",
            " batch_norm3 (BatchNormaliza  (None, 25)               100       \n",
            " tion)                                                           \n",
            "                                                                 \n",
            " output (Dense)              (None, 1)                 26        \n",
            "                                                                 \n",
            "=================================================================\n",
            "Total params: 1,133\n",
            "Trainable params: 1,017\n",
            "Non-trainable params: 116\n",
            "_________________________________________________________________\n"
          ]
        }
      ]
    },
    {
      "cell_type": "markdown",
      "metadata": {
        "id": "7zc01AoNskcQ"
      },
      "source": [
        "# Complie and train model"
      ]
    },
    {
      "cell_type": "code",
      "metadata": {
        "id": "qOcaot1qS3lB"
      },
      "source": [
        "model.compile(optimizer='adam',\n",
        "              loss='binary_crossentropy',\n",
        "              metrics=['accuracy'])"
      ],
      "execution_count": null,
      "outputs": []
    },
    {
      "cell_type": "code",
      "metadata": {
        "id": "VfywF-k3-uG2"
      },
      "source": [
        "early_stopping = EarlyStopping(\n",
        "    patience=10,\n",
        "    restore_best_weights=True,\n",
        ")"
      ],
      "execution_count": null,
      "outputs": []
    },
    {
      "cell_type": "code",
      "metadata": {
        "colab": {
          "base_uri": "https://localhost:8080/"
        },
        "id": "QKv7z2ZRThNM",
        "outputId": "6aa2d229-2650-46c6-e483-3403bfc94952"
      },
      "source": [
        "history = model.fit(X_train, y_train, epochs=20, validation_split=0.1, batch_size=32, callbacks=[early_stopping])"
      ],
      "execution_count": null,
      "outputs": [
        {
          "output_type": "stream",
          "name": "stdout",
          "text": [
            "Epoch 1/20\n",
            "197/197 [==============================] - 2s 4ms/step - loss: 0.5692 - accuracy: 0.7130 - val_loss: 0.4680 - val_accuracy: 0.8186\n",
            "Epoch 2/20\n",
            "197/197 [==============================] - 1s 3ms/step - loss: 0.4261 - accuracy: 0.8259 - val_loss: 0.3986 - val_accuracy: 0.8329\n",
            "Epoch 3/20\n",
            "197/197 [==============================] - 1s 3ms/step - loss: 0.3939 - accuracy: 0.8392 - val_loss: 0.3877 - val_accuracy: 0.8329\n",
            "Epoch 4/20\n",
            "197/197 [==============================] - 1s 3ms/step - loss: 0.3854 - accuracy: 0.8410 - val_loss: 0.3774 - val_accuracy: 0.8371\n",
            "Epoch 5/20\n",
            "197/197 [==============================] - 1s 3ms/step - loss: 0.3800 - accuracy: 0.8430 - val_loss: 0.3775 - val_accuracy: 0.8371\n",
            "Epoch 6/20\n",
            "197/197 [==============================] - 1s 3ms/step - loss: 0.3791 - accuracy: 0.8421 - val_loss: 0.3799 - val_accuracy: 0.8400\n",
            "Epoch 7/20\n",
            "197/197 [==============================] - 1s 3ms/step - loss: 0.3755 - accuracy: 0.8451 - val_loss: 0.3791 - val_accuracy: 0.8386\n",
            "Epoch 8/20\n",
            "197/197 [==============================] - 1s 3ms/step - loss: 0.3723 - accuracy: 0.8460 - val_loss: 0.3722 - val_accuracy: 0.8471\n",
            "Epoch 9/20\n",
            "197/197 [==============================] - 1s 3ms/step - loss: 0.3700 - accuracy: 0.8462 - val_loss: 0.3729 - val_accuracy: 0.8414\n",
            "Epoch 10/20\n",
            "197/197 [==============================] - 1s 3ms/step - loss: 0.3722 - accuracy: 0.8473 - val_loss: 0.3800 - val_accuracy: 0.8386\n",
            "Epoch 11/20\n",
            "197/197 [==============================] - 1s 3ms/step - loss: 0.3664 - accuracy: 0.8510 - val_loss: 0.3714 - val_accuracy: 0.8486\n",
            "Epoch 12/20\n",
            "197/197 [==============================] - 1s 3ms/step - loss: 0.3670 - accuracy: 0.8471 - val_loss: 0.3719 - val_accuracy: 0.8471\n",
            "Epoch 13/20\n",
            "197/197 [==============================] - 1s 3ms/step - loss: 0.3654 - accuracy: 0.8514 - val_loss: 0.3762 - val_accuracy: 0.8429\n",
            "Epoch 14/20\n",
            "197/197 [==============================] - 1s 3ms/step - loss: 0.3636 - accuracy: 0.8525 - val_loss: 0.3742 - val_accuracy: 0.8371\n",
            "Epoch 15/20\n",
            "197/197 [==============================] - 1s 3ms/step - loss: 0.3664 - accuracy: 0.8495 - val_loss: 0.3761 - val_accuracy: 0.8429\n",
            "Epoch 16/20\n",
            "197/197 [==============================] - 1s 3ms/step - loss: 0.3648 - accuracy: 0.8473 - val_loss: 0.3744 - val_accuracy: 0.8486\n",
            "Epoch 17/20\n",
            "197/197 [==============================] - 1s 3ms/step - loss: 0.3654 - accuracy: 0.8500 - val_loss: 0.3780 - val_accuracy: 0.8414\n",
            "Epoch 18/20\n",
            "197/197 [==============================] - 1s 3ms/step - loss: 0.3663 - accuracy: 0.8486 - val_loss: 0.3791 - val_accuracy: 0.8429\n",
            "Epoch 19/20\n",
            "197/197 [==============================] - 1s 3ms/step - loss: 0.3630 - accuracy: 0.8506 - val_loss: 0.3746 - val_accuracy: 0.8443\n",
            "Epoch 20/20\n",
            "197/197 [==============================] - 1s 3ms/step - loss: 0.3630 - accuracy: 0.8517 - val_loss: 0.3762 - val_accuracy: 0.8486\n"
          ]
        }
      ]
    },
    {
      "cell_type": "markdown",
      "metadata": {
        "id": "gkke7D-Kstvl"
      },
      "source": [
        "# Visualize Loss & Accuracy"
      ]
    },
    {
      "cell_type": "code",
      "metadata": {
        "id": "8PUcSWNDuALu"
      },
      "source": [
        "sns.set_style(\"darkgrid\")\n",
        "sns.set_context(\"notebook\", font_scale=1.5, rc={\"lines.linewidth\": 2.5})"
      ],
      "execution_count": null,
      "outputs": []
    },
    {
      "cell_type": "code",
      "metadata": {
        "colab": {
          "base_uri": "https://localhost:8080/",
          "height": 385
        },
        "id": "kMUuHCsSbW9Y",
        "outputId": "06628c02-0d67-42c7-ca4b-125174b81e3d"
      },
      "source": [
        "learning_data = pd.DataFrame(history.history)\n",
        "learning_data.plot(figsize=(12,6))\n",
        "plt.show()"
      ],
      "execution_count": null,
      "outputs": [
        {
          "output_type": "display_data",
          "data": {
            "image/png": "[encoded data removed]",
            "text/plain": [
              "<Figure size 864x432 with 1 Axes>"
            ]
          },
          "metadata": {}
        }
      ]
    },
    {
      "cell_type": "markdown",
      "metadata": {
        "id": "3CQCVq2AuaD5"
      },
      "source": [
        "# Evaluate test data"
      ]
    },
    {
      "cell_type": "code",
      "metadata": {
        "colab": {
          "base_uri": "https://localhost:8080/"
        },
        "id": "r8eRyLdqTrDO",
        "outputId": "a20ec1e1-63a0-4676-8935-bf81ebb92f39"
      },
      "source": [
        "evaluation = model.evaluate(X_test, y_test)\n",
        "print(\"Accuracy on the test data is {}\".format(evaluation[1]*100))"
      ],
      "execution_count": null,
      "outputs": [
        {
          "output_type": "stream",
          "name": "stdout",
          "text": [
            "94/94 [==============================] - 0s 2ms/step - loss: 0.3441 - accuracy: 0.8610\n",
            "Accuracy on the test data is 86.10000014305115\n"
          ]
        }
      ]
    },
    {
      "cell_type": "markdown",
      "metadata": {
        "id": "0yjWHHCYu84I"
      },
      "source": [
        "# View the neural network"
      ]
    },
    {
      "cell_type": "code",
      "metadata": {
        "id": "7zjqN2bTmEJs"
      },
      "source": [
        "model.save('model.h5')"
      ],
      "execution_count": null,
      "outputs": []
    },
    {
      "cell_type": "markdown",
      "metadata": {
        "id": "Anm9hkdtpv51"
      },
      "source": [
        "<center>\n",
        "<h3>Using netron.app</h3>\n",
        "\n",
        "![image.png](data:image/png;base64,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)\n",
        "\n",
        "</center>"
      ]
    }
  ]
}