{
 "cells": [
  {
   "cell_type": "markdown",
   "metadata": {},
   "source": [
    "# Let’s start coding by loading the data and the required libraries!"
   ]
  },
  {
   "cell_type": "code",
   "execution_count": 9,
   "metadata": {},
   "outputs": [
    {
     "data": {
      "text/html": [
       "<div>\n",
       "<style scoped>\n",
       "    .dataframe tbody tr th:only-of-type {\n",
       "        vertical-align: middle;\n",
       "    }\n",
       "\n",
       "    .dataframe tbody tr th {\n",
       "        vertical-align: top;\n",
       "    }\n",
       "\n",
       "    .dataframe thead th {\n",
       "        text-align: right;\n",
       "    }\n",
       "</style>\n",
       "<table border=\"1\" class=\"dataframe\">\n",
       "  <thead>\n",
       "    <tr style=\"text-align: right;\">\n",
       "      <th></th>\n",
       "      <th>publish_date</th>\n",
       "      <th>headline_text</th>\n",
       "    </tr>\n",
       "  </thead>\n",
       "  <tbody>\n",
       "    <tr>\n",
       "      <th>0</th>\n",
       "      <td>20030219</td>\n",
       "      <td>aba decides against community broadcasting lic...</td>\n",
       "    </tr>\n",
       "    <tr>\n",
       "      <th>1</th>\n",
       "      <td>20030219</td>\n",
       "      <td>act fire witnesses must be aware of defamation</td>\n",
       "    </tr>\n",
       "    <tr>\n",
       "      <th>2</th>\n",
       "      <td>20030219</td>\n",
       "      <td>a g calls for infrastructure protection summit</td>\n",
       "    </tr>\n",
       "    <tr>\n",
       "      <th>3</th>\n",
       "      <td>20030219</td>\n",
       "      <td>air nz staff in aust strike for pay rise</td>\n",
       "    </tr>\n",
       "    <tr>\n",
       "      <th>4</th>\n",
       "      <td>20030219</td>\n",
       "      <td>air nz strike to affect australian travellers</td>\n",
       "    </tr>\n",
       "  </tbody>\n",
       "</table>\n",
       "</div>"
      ],
      "text/plain": [
       "   publish_date                                      headline_text\n",
       "0      20030219  aba decides against community broadcasting lic...\n",
       "1      20030219     act fire witnesses must be aware of defamation\n",
       "2      20030219     a g calls for infrastructure protection summit\n",
       "3      20030219           air nz staff in aust strike for pay rise\n",
       "4      20030219      air nz strike to affect australian travellers"
      ]
     },
     "execution_count": 9,
     "metadata": {},
     "output_type": "execute_result"
    }
   ],
   "source": [
    "import pandas as pd\n",
    "from sklearn.decomposition import NMF\n",
    "from sklearn.feature_extraction.text import TfidfVectorizer\n",
    " \n",
    "documents = pd.read_csv('news-data.csv', error_bad_lines=False)\n",
    "#documents=pd.read_json ('https://raw.githubusercontent.com/selva86/datasets/master/newsgroups.json')\n",
    "documents.head()"
   ]
  },
  {
   "cell_type": "markdown",
   "metadata": {},
   "source": [
    "# Build the TF-IDF Matrix"
   ]
  },
  {
   "cell_type": "code",
   "execution_count": 11,
   "metadata": {},
   "outputs": [
    {
     "name": "stdout",
     "output_type": "stream",
     "text": [
      "  (0, 5904)\t0.38150132624074345\n",
      "  (0, 1502)\t0.5178795390810941\n",
      "  (0, 2273)\t0.30728041415686325\n",
      "  (0, 2810)\t0.47191378105745035\n",
      "  (0, 227)\t0.5187809281395711\n",
      "  (1, 2829)\t0.5424693206334905\n",
      "  (1, 897)\t0.5779035083899079\n",
      "  (1, 11056)\t0.4819332869088385\n",
      "  (1, 307)\t0.373490131236848\n",
      "  (2, 9757)\t0.5401089335427871\n",
      "  (2, 7838)\t0.5101597079716474\n",
      "  (2, 5199)\t0.5381649807792245\n",
      "  (2, 1685)\t0.39799229355912596\n",
      "  (3, 8516)\t0.3512948314643252\n",
      "  (3, 7297)\t0.36109283322747493\n",
      "  (3, 9663)\t0.3786195698706414\n",
      "  (3, 858)\t0.38303698552018856\n",
      "  (3, 9497)\t0.3947242417206409\n",
      "  (3, 6924)\t0.39004274743128264\n",
      "  (3, 446)\t0.38495873075838305\n",
      "  (4, 10331)\t0.5179119163914456\n",
      "  (4, 862)\t0.3105805038106875\n",
      "  (4, 383)\t0.46294420318743096\n",
      "  (4, 9663)\t0.3688112555316992\n",
      "  (4, 6924)\t0.3799385104164402\n",
      "  :\t:\n",
      "  (1103657, 5084)\t0.49968507562830095\n",
      "  (1103657, 9696)\t0.5422650925294712\n",
      "  (1103657, 9884)\t0.30309149758976567\n",
      "  (1103657, 4880)\t0.3806255668821827\n",
      "  (1103657, 11159)\t0.4685329407232252\n",
      "  (1103658, 9283)\t0.5080623612151598\n",
      "  (1103658, 1394)\t0.42579256546348854\n",
      "  (1103658, 756)\t0.3684737417467958\n",
      "  (1103658, 6763)\t0.3345819077422171\n",
      "  (1103658, 10066)\t0.30898630944102856\n",
      "  (1103658, 2770)\t0.28639843869897497\n",
      "  (1103658, 6491)\t0.3679113641299947\n",
      "  (1103659, 1490)\t0.6238597458745211\n",
      "  (1103659, 3975)\t0.5886179057242544\n",
      "  (1103659, 11171)\t0.4110677901192804\n",
      "  (1103659, 6809)\t0.3087899779212758\n",
      "  (1103660, 83)\t0.6807083870594761\n",
      "  (1103660, 5614)\t0.5943377585622414\n",
      "  (1103660, 861)\t0.4282507682819698\n",
      "  (1103661, 6323)\t0.7980639258995164\n",
      "  (1103661, 6348)\t0.6025727924307993\n",
      "  (1103662, 10408)\t0.44756652507673894\n",
      "  (1103662, 4327)\t0.4956720799476924\n",
      "  (1103662, 437)\t0.6163486279024283\n",
      "  (1103662, 1703)\t0.4172622241155495\n"
     ]
    }
   ],
   "source": [
    "# use tfidf by removing tokens that don't appear in at least 50 documents\n",
    "vect = TfidfVectorizer(min_df=50, stop_words='english')\n",
    " \n",
    "# Fit and transform\n",
    "X = vect.fit_transform(documents.headline_text)\n",
    "print(X)"
   ]
  },
  {
   "cell_type": "markdown",
   "metadata": {},
   "source": [
    "# Build the NMF Model"
   ]
  },
  {
   "cell_type": "code",
   "execution_count": null,
   "metadata": {},
   "outputs": [],
   "source": [
    "# Create an NMF instance: model\n",
    "# the 10 components will be the topics\n",
    "model = NMF(n_components=10, random_state=5) #'random': non-negative random matrices, scaled with: sqrt(X.mean() / n_components)\n",
    " \n",
    "# Fit the model to TF-IDF\n",
    "model.fit(X)\n",
    " \n",
    "# Transform the TF-IDF: nmf_features\n",
    "nmf_features = model.transform(X)\n",
    "print(nmf_features)"
   ]
  },
  {
   "cell_type": "markdown",
   "metadata": {},
   "source": [
    "# It important to check the dimensions of the 3 tables:\n",
    "# 1- TF-IDF Dimensions:"
   ]
  },
  {
   "cell_type": "code",
   "execution_count": null,
   "metadata": {},
   "outputs": [],
   "source": [
    "X.shape"
   ]
  },
  {
   "cell_type": "markdown",
   "metadata": {},
   "source": [
    "# 2- Features Dimensions:"
   ]
  },
  {
   "cell_type": "code",
   "execution_count": 11,
   "metadata": {},
   "outputs": [
    {
     "data": {
      "text/plain": [
       "(1103663, 10)"
      ]
     },
     "execution_count": 11,
     "metadata": {},
     "output_type": "execute_result"
    }
   ],
   "source": [
    "nmf_features.shape"
   ]
  },
  {
   "cell_type": "markdown",
   "metadata": {},
   "source": [
    "# 3- Components Dimensions:"
   ]
  },
  {
   "cell_type": "code",
   "execution_count": 12,
   "metadata": {},
   "outputs": [
    {
     "data": {
      "text/plain": [
       "(10, 11213)"
      ]
     },
     "execution_count": 12,
     "metadata": {},
     "output_type": "execute_result"
    }
   ],
   "source": [
    "model.components_.shape"
   ]
  },
  {
   "cell_type": "code",
   "execution_count": 19,
   "metadata": {},
   "outputs": [
    {
     "data": {
      "text/html": [
       "<div>\n",
       "<style scoped>\n",
       "    .dataframe tbody tr th:only-of-type {\n",
       "        vertical-align: middle;\n",
       "    }\n",
       "\n",
       "    .dataframe tbody tr th {\n",
       "        vertical-align: top;\n",
       "    }\n",
       "\n",
       "    .dataframe thead th {\n",
       "        text-align: right;\n",
       "    }\n",
       "</style>\n",
       "<table border=\"1\" class=\"dataframe\">\n",
       "  <thead>\n",
       "    <tr style=\"text-align: right;\">\n",
       "      <th></th>\n",
       "      <th>000</th>\n",
       "      <th>01</th>\n",
       "      <th>02</th>\n",
       "      <th>03</th>\n",
       "      <th>04</th>\n",
       "      <th>05</th>\n",
       "      <th>06</th>\n",
       "      <th>07</th>\n",
       "      <th>08</th>\n",
       "      <th>09</th>\n",
       "      <th>...</th>\n",
       "      <th>zimbabwean</th>\n",
       "      <th>zimbabwes</th>\n",
       "      <th>zinc</th>\n",
       "      <th>zinifex</th>\n",
       "      <th>zoe</th>\n",
       "      <th>zone</th>\n",
       "      <th>zones</th>\n",
       "      <th>zoning</th>\n",
       "      <th>zoo</th>\n",
       "      <th>zuma</th>\n",
       "    </tr>\n",
       "  </thead>\n",
       "  <tbody>\n",
       "    <tr>\n",
       "      <th>0</th>\n",
       "      <td>0.000515</td>\n",
       "      <td>0.000000</td>\n",
       "      <td>0.000000</td>\n",
       "      <td>0.000000</td>\n",
       "      <td>0.000000</td>\n",
       "      <td>0.000000</td>\n",
       "      <td>0.000000</td>\n",
       "      <td>0.000000</td>\n",
       "      <td>0.000000</td>\n",
       "      <td>0.000000</td>\n",
       "      <td>...</td>\n",
       "      <td>0.000243</td>\n",
       "      <td>0.000000</td>\n",
       "      <td>0.000000</td>\n",
       "      <td>0.000000</td>\n",
       "      <td>0.001377</td>\n",
       "      <td>0.001534</td>\n",
       "      <td>0.000000</td>\n",
       "      <td>0.000000</td>\n",
       "      <td>0.006219</td>\n",
       "      <td>0.000000</td>\n",
       "    </tr>\n",
       "    <tr>\n",
       "      <th>1</th>\n",
       "      <td>0.000000</td>\n",
       "      <td>0.000000</td>\n",
       "      <td>0.000000</td>\n",
       "      <td>0.000000</td>\n",
       "      <td>0.000000</td>\n",
       "      <td>0.000000</td>\n",
       "      <td>0.000000</td>\n",
       "      <td>0.000019</td>\n",
       "      <td>0.000000</td>\n",
       "      <td>0.000000</td>\n",
       "      <td>...</td>\n",
       "      <td>0.000000</td>\n",
       "      <td>0.000009</td>\n",
       "      <td>0.000601</td>\n",
       "      <td>0.000000</td>\n",
       "      <td>0.001317</td>\n",
       "      <td>0.000096</td>\n",
       "      <td>0.000014</td>\n",
       "      <td>0.000000</td>\n",
       "      <td>0.000011</td>\n",
       "      <td>0.000002</td>\n",
       "    </tr>\n",
       "    <tr>\n",
       "      <th>2</th>\n",
       "      <td>0.000639</td>\n",
       "      <td>0.000000</td>\n",
       "      <td>0.000000</td>\n",
       "      <td>0.000000</td>\n",
       "      <td>0.000000</td>\n",
       "      <td>0.000000</td>\n",
       "      <td>0.000000</td>\n",
       "      <td>0.000000</td>\n",
       "      <td>0.000000</td>\n",
       "      <td>0.000000</td>\n",
       "      <td>...</td>\n",
       "      <td>0.001682</td>\n",
       "      <td>0.000187</td>\n",
       "      <td>0.000000</td>\n",
       "      <td>0.000000</td>\n",
       "      <td>0.000146</td>\n",
       "      <td>0.005309</td>\n",
       "      <td>0.002583</td>\n",
       "      <td>0.000000</td>\n",
       "      <td>0.000000</td>\n",
       "      <td>0.000000</td>\n",
       "    </tr>\n",
       "    <tr>\n",
       "      <th>3</th>\n",
       "      <td>0.000050</td>\n",
       "      <td>0.000000</td>\n",
       "      <td>0.000000</td>\n",
       "      <td>0.000000</td>\n",
       "      <td>0.000000</td>\n",
       "      <td>0.000000</td>\n",
       "      <td>0.000000</td>\n",
       "      <td>0.000000</td>\n",
       "      <td>0.000000</td>\n",
       "      <td>0.000000</td>\n",
       "      <td>...</td>\n",
       "      <td>0.000000</td>\n",
       "      <td>0.000337</td>\n",
       "      <td>0.000537</td>\n",
       "      <td>0.000042</td>\n",
       "      <td>0.000000</td>\n",
       "      <td>0.008660</td>\n",
       "      <td>0.009708</td>\n",
       "      <td>0.001328</td>\n",
       "      <td>0.024154</td>\n",
       "      <td>0.000637</td>\n",
       "    </tr>\n",
       "    <tr>\n",
       "      <th>4</th>\n",
       "      <td>0.000603</td>\n",
       "      <td>0.002029</td>\n",
       "      <td>0.011030</td>\n",
       "      <td>0.009208</td>\n",
       "      <td>0.010110</td>\n",
       "      <td>0.004755</td>\n",
       "      <td>0.004782</td>\n",
       "      <td>0.004933</td>\n",
       "      <td>0.005841</td>\n",
       "      <td>0.011264</td>\n",
       "      <td>...</td>\n",
       "      <td>0.000000</td>\n",
       "      <td>0.000763</td>\n",
       "      <td>0.000000</td>\n",
       "      <td>0.000000</td>\n",
       "      <td>0.000127</td>\n",
       "      <td>0.002611</td>\n",
       "      <td>0.005015</td>\n",
       "      <td>0.000556</td>\n",
       "      <td>0.006629</td>\n",
       "      <td>0.000000</td>\n",
       "    </tr>\n",
       "    <tr>\n",
       "      <th>5</th>\n",
       "      <td>0.000000</td>\n",
       "      <td>0.000000</td>\n",
       "      <td>0.000000</td>\n",
       "      <td>0.000000</td>\n",
       "      <td>0.000000</td>\n",
       "      <td>0.000000</td>\n",
       "      <td>0.000000</td>\n",
       "      <td>0.000000</td>\n",
       "      <td>0.000000</td>\n",
       "      <td>0.000000</td>\n",
       "      <td>...</td>\n",
       "      <td>0.000000</td>\n",
       "      <td>0.000240</td>\n",
       "      <td>0.000548</td>\n",
       "      <td>0.000030</td>\n",
       "      <td>0.000367</td>\n",
       "      <td>0.001205</td>\n",
       "      <td>0.000000</td>\n",
       "      <td>0.000000</td>\n",
       "      <td>0.000503</td>\n",
       "      <td>0.000000</td>\n",
       "    </tr>\n",
       "    <tr>\n",
       "      <th>6</th>\n",
       "      <td>0.000158</td>\n",
       "      <td>0.000000</td>\n",
       "      <td>0.000000</td>\n",
       "      <td>0.000000</td>\n",
       "      <td>0.000000</td>\n",
       "      <td>0.000000</td>\n",
       "      <td>0.000000</td>\n",
       "      <td>0.000000</td>\n",
       "      <td>0.000000</td>\n",
       "      <td>0.000000</td>\n",
       "      <td>...</td>\n",
       "      <td>0.000000</td>\n",
       "      <td>0.000112</td>\n",
       "      <td>0.000331</td>\n",
       "      <td>0.000000</td>\n",
       "      <td>0.000000</td>\n",
       "      <td>0.006822</td>\n",
       "      <td>0.000000</td>\n",
       "      <td>0.000000</td>\n",
       "      <td>0.007919</td>\n",
       "      <td>0.000000</td>\n",
       "    </tr>\n",
       "    <tr>\n",
       "      <th>7</th>\n",
       "      <td>0.001223</td>\n",
       "      <td>0.000000</td>\n",
       "      <td>0.000000</td>\n",
       "      <td>0.000000</td>\n",
       "      <td>0.000521</td>\n",
       "      <td>0.000105</td>\n",
       "      <td>0.000087</td>\n",
       "      <td>0.000790</td>\n",
       "      <td>0.000000</td>\n",
       "      <td>0.000000</td>\n",
       "      <td>...</td>\n",
       "      <td>0.004573</td>\n",
       "      <td>0.000989</td>\n",
       "      <td>0.000000</td>\n",
       "      <td>0.000786</td>\n",
       "      <td>0.001699</td>\n",
       "      <td>0.002618</td>\n",
       "      <td>0.000240</td>\n",
       "      <td>0.000000</td>\n",
       "      <td>0.002192</td>\n",
       "      <td>0.005424</td>\n",
       "    </tr>\n",
       "    <tr>\n",
       "      <th>8</th>\n",
       "      <td>0.000022</td>\n",
       "      <td>0.028027</td>\n",
       "      <td>0.053097</td>\n",
       "      <td>0.042028</td>\n",
       "      <td>0.036621</td>\n",
       "      <td>0.038969</td>\n",
       "      <td>0.034321</td>\n",
       "      <td>0.025582</td>\n",
       "      <td>0.033360</td>\n",
       "      <td>0.037268</td>\n",
       "      <td>...</td>\n",
       "      <td>0.000000</td>\n",
       "      <td>0.000000</td>\n",
       "      <td>0.000320</td>\n",
       "      <td>0.000000</td>\n",
       "      <td>0.000125</td>\n",
       "      <td>0.010972</td>\n",
       "      <td>0.001403</td>\n",
       "      <td>0.000000</td>\n",
       "      <td>0.000322</td>\n",
       "      <td>0.000000</td>\n",
       "    </tr>\n",
       "    <tr>\n",
       "      <th>9</th>\n",
       "      <td>0.002293</td>\n",
       "      <td>0.000000</td>\n",
       "      <td>0.000000</td>\n",
       "      <td>0.000000</td>\n",
       "      <td>0.000000</td>\n",
       "      <td>0.000000</td>\n",
       "      <td>0.000000</td>\n",
       "      <td>0.000000</td>\n",
       "      <td>0.000000</td>\n",
       "      <td>0.000000</td>\n",
       "      <td>...</td>\n",
       "      <td>0.002326</td>\n",
       "      <td>0.002482</td>\n",
       "      <td>0.002140</td>\n",
       "      <td>0.001680</td>\n",
       "      <td>0.001404</td>\n",
       "      <td>0.030537</td>\n",
       "      <td>0.013050</td>\n",
       "      <td>0.005512</td>\n",
       "      <td>0.009750</td>\n",
       "      <td>0.001527</td>\n",
       "    </tr>\n",
       "  </tbody>\n",
       "</table>\n",
       "<p>10 rows × 11213 columns</p>\n",
       "</div>"
      ],
      "text/plain": [
       "        000        01        02        03        04        05        06  \\\n",
       "0  0.000515  0.000000  0.000000  0.000000  0.000000  0.000000  0.000000   \n",
       "1  0.000000  0.000000  0.000000  0.000000  0.000000  0.000000  0.000000   \n",
       "2  0.000639  0.000000  0.000000  0.000000  0.000000  0.000000  0.000000   \n",
       "3  0.000050  0.000000  0.000000  0.000000  0.000000  0.000000  0.000000   \n",
       "4  0.000603  0.002029  0.011030  0.009208  0.010110  0.004755  0.004782   \n",
       "5  0.000000  0.000000  0.000000  0.000000  0.000000  0.000000  0.000000   \n",
       "6  0.000158  0.000000  0.000000  0.000000  0.000000  0.000000  0.000000   \n",
       "7  0.001223  0.000000  0.000000  0.000000  0.000521  0.000105  0.000087   \n",
       "8  0.000022  0.028027  0.053097  0.042028  0.036621  0.038969  0.034321   \n",
       "9  0.002293  0.000000  0.000000  0.000000  0.000000  0.000000  0.000000   \n",
       "\n",
       "         07        08        09  ...  zimbabwean  zimbabwes      zinc  \\\n",
       "0  0.000000  0.000000  0.000000  ...    0.000243   0.000000  0.000000   \n",
       "1  0.000019  0.000000  0.000000  ...    0.000000   0.000009  0.000601   \n",
       "2  0.000000  0.000000  0.000000  ...    0.001682   0.000187  0.000000   \n",
       "3  0.000000  0.000000  0.000000  ...    0.000000   0.000337  0.000537   \n",
       "4  0.004933  0.005841  0.011264  ...    0.000000   0.000763  0.000000   \n",
       "5  0.000000  0.000000  0.000000  ...    0.000000   0.000240  0.000548   \n",
       "6  0.000000  0.000000  0.000000  ...    0.000000   0.000112  0.000331   \n",
       "7  0.000790  0.000000  0.000000  ...    0.004573   0.000989  0.000000   \n",
       "8  0.025582  0.033360  0.037268  ...    0.000000   0.000000  0.000320   \n",
       "9  0.000000  0.000000  0.000000  ...    0.002326   0.002482  0.002140   \n",
       "\n",
       "    zinifex       zoe      zone     zones    zoning       zoo      zuma  \n",
       "0  0.000000  0.001377  0.001534  0.000000  0.000000  0.006219  0.000000  \n",
       "1  0.000000  0.001317  0.000096  0.000014  0.000000  0.000011  0.000002  \n",
       "2  0.000000  0.000146  0.005309  0.002583  0.000000  0.000000  0.000000  \n",
       "3  0.000042  0.000000  0.008660  0.009708  0.001328  0.024154  0.000637  \n",
       "4  0.000000  0.000127  0.002611  0.005015  0.000556  0.006629  0.000000  \n",
       "5  0.000030  0.000367  0.001205  0.000000  0.000000  0.000503  0.000000  \n",
       "6  0.000000  0.000000  0.006822  0.000000  0.000000  0.007919  0.000000  \n",
       "7  0.000786  0.001699  0.002618  0.000240  0.000000  0.002192  0.005424  \n",
       "8  0.000000  0.000125  0.010972  0.001403  0.000000  0.000322  0.000000  \n",
       "9  0.001680  0.001404  0.030537  0.013050  0.005512  0.009750  0.001527  \n",
       "\n",
       "[10 rows x 11213 columns]"
      ]
     },
     "execution_count": 19,
     "metadata": {},
     "output_type": "execute_result"
    }
   ],
   "source": [
    "# Create a DataFrame: components_df\n",
    "components_df = pd.DataFrame(model.components_, columns=vect.get_feature_names())\n",
    "components_df"
   ]
  },
  {
   "cell_type": "markdown",
   "metadata": {},
   "source": [
    "# Get the Words of the Highest Value for each Topic"
   ]
  },
  {
   "cell_type": "code",
   "execution_count": 25,
   "metadata": {},
   "outputs": [
    {
     "name": "stdout",
     "output_type": "stream",
     "text": [
      "For topic 1 the words with the highest value are:\n",
      "man         8.396817\n",
      "charged     3.117248\n",
      "murder      1.367349\n",
      "jailed      0.891809\n",
      "missing     0.880894\n",
      "stabbing    0.727232\n",
      "guilty      0.637090\n",
      "arrested    0.600157\n",
      "death       0.587411\n",
      "sydney      0.532504\n",
      "Name: 0, dtype: float64\n",
      "\n",
      "\n",
      "For topic 2 the words with the highest value are:\n",
      "interview    7.471284\n",
      "extended     0.393083\n",
      "michael      0.383856\n",
      "david        0.226665\n",
      "john         0.222362\n",
      "james        0.211161\n",
      "nrl          0.202279\n",
      "smith        0.179707\n",
      "ben          0.172380\n",
      "andrew       0.169546\n",
      "Name: 1, dtype: float64\n",
      "\n",
      "\n",
      "For topic 3 the words with the highest value are:\n",
      "police         6.886678\n",
      "probe          0.814901\n",
      "investigate    0.795326\n",
      "missing        0.679711\n",
      "search         0.637454\n",
      "death          0.497555\n",
      "hunt           0.420141\n",
      "officer        0.329780\n",
      "seek           0.313185\n",
      "shooting       0.300862\n",
      "Name: 2, dtype: float64\n",
      "\n",
      "\n",
      "For topic 4 the words with the highest value are:\n",
      "new         8.436840\n",
      "zealand     0.571164\n",
      "laws        0.402800\n",
      "year        0.368542\n",
      "home        0.265268\n",
      "york        0.242442\n",
      "centre      0.234176\n",
      "hospital    0.233369\n",
      "deal        0.220119\n",
      "opens       0.190645\n",
      "Name: 3, dtype: float64\n",
      "\n",
      "\n",
      "For topic 5 the words with the highest value are:\n",
      "rural       6.200143\n",
      "national    2.804131\n",
      "qld         2.662080\n",
      "news        2.342136\n",
      "nsw         1.211054\n",
      "podcast     0.768686\n",
      "reporter    0.525871\n",
      "sa          0.477365\n",
      "health      0.234591\n",
      "north       0.219903\n",
      "Name: 4, dtype: float64\n",
      "\n",
      "\n",
      "For topic 6 the words with the highest value are:\n",
      "abc              6.010566\n",
      "news             2.209571\n",
      "weather          2.192629\n",
      "business         1.925450\n",
      "sport            1.640363\n",
      "market           1.310986\n",
      "entertainment    0.926865\n",
      "analysis         0.924629\n",
      "talks            0.227601\n",
      "speaks           0.194431\n",
      "Name: 5, dtype: float64\n",
      "\n",
      "\n",
      "For topic 7 the words with the highest value are:\n",
      "crash      5.455308\n",
      "car        2.480800\n",
      "dies       1.841566\n",
      "killed     1.837934\n",
      "fatal      1.451367\n",
      "woman      1.178756\n",
      "road       0.986225\n",
      "driver     0.875721\n",
      "plane      0.778262\n",
      "injured    0.651799\n",
      "Name: 6, dtype: float64\n",
      "\n",
      "\n",
      "For topic 8 the words with the highest value are:\n",
      "court      7.931729\n",
      "accused    2.308421\n",
      "face       2.058921\n",
      "murder     1.515629\n",
      "faces      1.053453\n",
      "charges    1.052557\n",
      "told       0.869612\n",
      "case       0.766514\n",
      "high       0.689719\n",
      "sex        0.600428\n",
      "Name: 7, dtype: float64\n",
      "\n",
      "\n",
      "For topic 9 the words with the highest value are:\n",
      "country    3.850864\n",
      "hour       3.468195\n",
      "wa         1.608666\n",
      "nsw        1.492966\n",
      "2014       1.090257\n",
      "2015       1.075701\n",
      "podcast    1.054856\n",
      "vic        0.755764\n",
      "tas        0.658372\n",
      "2013       0.643352\n",
      "Name: 8, dtype: float64\n",
      "\n",
      "\n",
      "For topic 10 the words with the highest value are:\n",
      "govt         2.101926\n",
      "council      2.040503\n",
      "says         1.651489\n",
      "plan         1.185716\n",
      "water        1.081075\n",
      "health       0.794900\n",
      "urged        0.715581\n",
      "australia    0.661426\n",
      "report       0.548353\n",
      "funding      0.529309\n",
      "Name: 9, dtype: float64\n",
      "\n",
      "\n"
     ]
    }
   ],
   "source": [
    "for topic in range(components_df.shape[0]):\n",
    "    tmp = components_df.iloc[topic]\n",
    "    print(f'For topic {topic+1} the words with the highest value are:')\n",
    "    print(tmp.nlargest(10)) # Return the first n rows ordered byAnd columns in descending order. \n",
    "    # And This method is equivalent to df.sort_values(columns, ascending=False).head(n) , but more performant.\n",
    "    print('\\n')"
   ]
  },
  {
   "cell_type": "markdown",
   "metadata": {},
   "source": [
    "# Get the Topic of a Document"
   ]
  },
  {
   "cell_type": "code",
   "execution_count": 26,
   "metadata": {},
   "outputs": [
    {
     "data": {
      "text/plain": [
       "'gilchrist backs rest policy'"
      ]
     },
     "execution_count": 26,
     "metadata": {},
     "output_type": "execute_result"
    }
   ],
   "source": [
    "my_document = documents.headline_text[57]\n",
    "my_document"
   ]
  },
  {
   "cell_type": "markdown",
   "metadata": {},
   "source": [
    "# We will need to work with the Features matrix. So let’s get the 55th row:"
   ]
  },
  {
   "cell_type": "code",
   "execution_count": 31,
   "metadata": {},
   "outputs": [
    {
     "data": {
      "text/plain": [
       "0    0.000000\n",
       "1    0.000000\n",
       "2    0.001271\n",
       "3    0.000000\n",
       "4    0.000000\n",
       "5    0.000000\n",
       "6    0.000000\n",
       "7    0.000000\n",
       "8    0.000000\n",
       "9    0.011652\n",
       "Name: 55, dtype: float64"
      ]
     },
     "execution_count": 31,
     "metadata": {},
     "output_type": "execute_result"
    }
   ],
   "source": [
    "pd.DataFrame(nmf_features).loc[55]"
   ]
  },
  {
   "cell_type": "code",
   "execution_count": 32,
   "metadata": {},
   "outputs": [
    {
     "data": {
      "text/plain": [
       "9"
      ]
     },
     "execution_count": 32,
     "metadata": {},
     "output_type": "execute_result"
    }
   ],
   "source": [
    "# If we see the most important words of Topic 10 we will see that it contains the “funding“!\n",
    "pd.DataFrame(nmf_features).loc[55].idxmax()"
   ]
  },
  {
   "cell_type": "code",
   "execution_count": 33,
   "metadata": {},
   "outputs": [
    {
     "data": {
      "text/plain": [
       "0    773063\n",
       "1    186097\n",
       "2    305808\n",
       "3     27576\n",
       "4    648375\n",
       "5    374427\n",
       "6    142751\n",
       "7    209596\n",
       "8    621162\n",
       "9    397901\n",
       "dtype: int64"
      ]
     },
     "execution_count": 33,
     "metadata": {},
     "output_type": "execute_result"
    }
   ],
   "source": [
    "# Finally, if we want to see the number of documents for each topic we can easily get it by typing:\n",
    "pd.DataFrame(nmf_features).idxmax()"
   ]
  },
  {
   "cell_type": "markdown",
   "metadata": {},
   "source": [
    "# How to Predict the Topic of a New Document"
   ]
  },
  {
   "cell_type": "code",
   "execution_count": 34,
   "metadata": {},
   "outputs": [
    {
     "data": {
      "text/html": [
       "<div>\n",
       "<style scoped>\n",
       "    .dataframe tbody tr th:only-of-type {\n",
       "        vertical-align: middle;\n",
       "    }\n",
       "\n",
       "    .dataframe tbody tr th {\n",
       "        vertical-align: top;\n",
       "    }\n",
       "\n",
       "    .dataframe thead th {\n",
       "        text-align: right;\n",
       "    }\n",
       "</style>\n",
       "<table border=\"1\" class=\"dataframe\">\n",
       "  <thead>\n",
       "    <tr style=\"text-align: right;\">\n",
       "      <th></th>\n",
       "      <th>0</th>\n",
       "      <th>1</th>\n",
       "      <th>2</th>\n",
       "      <th>3</th>\n",
       "      <th>4</th>\n",
       "      <th>5</th>\n",
       "      <th>6</th>\n",
       "      <th>7</th>\n",
       "      <th>8</th>\n",
       "      <th>9</th>\n",
       "    </tr>\n",
       "  </thead>\n",
       "  <tbody>\n",
       "    <tr>\n",
       "      <th>0</th>\n",
       "      <td>0.002345</td>\n",
       "      <td>0.000042</td>\n",
       "      <td>0.002354</td>\n",
       "      <td>0.001428</td>\n",
       "      <td>0.000031</td>\n",
       "      <td>0.000179</td>\n",
       "      <td>0.000599</td>\n",
       "      <td>0.001379</td>\n",
       "      <td>0.000886</td>\n",
       "      <td>0.00416</td>\n",
       "    </tr>\n",
       "  </tbody>\n",
       "</table>\n",
       "</div>"
      ],
      "text/plain": [
       "          0         1         2         3         4         5         6  \\\n",
       "0  0.002345  0.000042  0.002354  0.001428  0.000031  0.000179  0.000599   \n",
       "\n",
       "          7         8        9  \n",
       "0  0.001379  0.000886  0.00416  "
      ]
     },
     "execution_count": 34,
     "metadata": {},
     "output_type": "execute_result"
    }
   ],
   "source": [
    "my_news = \"\"\"15-year-old girl stabbed to death in grocery store during fight with 4 younger girls\n",
    "Authorities said they gathered lots of evidence from videos on social media\"\"\"\n",
    " \n",
    "# Transform the TF-IDF\n",
    "X = vect.transform([my_news])\n",
    "# Transform the TF-IDF: nmf_features\n",
    "nmf_features = model.transform(X)\n",
    " \n",
    "pd.DataFrame(nmf_features)"
   ]
  },
  {
   "cell_type": "code",
   "execution_count": 36,
   "metadata": {},
   "outputs": [
    {
     "data": {
      "text/plain": [
       "0    9\n",
       "dtype: int64"
      ]
     },
     "execution_count": 36,
     "metadata": {},
     "output_type": "execute_result"
    }
   ],
   "source": [
    "# And if we want to get the index of the topic with the highest score:\n",
    "pd.DataFrame(nmf_features).idxmax(axis=1)\n",
    "#As expected, this document was classified as Topic 10 (with index 9)."
   ]
  },
  {
   "cell_type": "code",
   "execution_count": null,
   "metadata": {},
   "outputs": [],
   "source": []
  }
 ],
 "metadata": {
  "kernelspec": {
   "display_name": "Python 3",
   "language": "python",
   "name": "python3"
  },
  "language_info": {
   "codemirror_mode": {
    "name": "ipython",
    "version": 3
   },
   "file_extension": ".py",
   "mimetype": "text/x-python",
   "name": "python",
   "nbconvert_exporter": "python",
   "pygments_lexer": "ipython3",
   "version": "3.8.5"
  }
 },
 "nbformat": 4,
 "nbformat_minor": 4
}
