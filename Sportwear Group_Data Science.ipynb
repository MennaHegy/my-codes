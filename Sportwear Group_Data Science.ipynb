{
 "cells": [
  {
   "cell_type": "code",
   "execution_count": 1,
   "metadata": {
    "id": "-DNP_ZIs8y7J"
   },
   "outputs": [],
   "source": [
    "#importing Libraries \n",
    "import pandas as pd\n",
    "import numpy as np\n",
    "import seaborn as sns\n",
    "import matplotlib.pyplot as plt\n",
    "from sklearn.preprocessing import OneHotEncoder\n",
    "from sklearn.model_selection import train_test_split\n",
    "from sklearn import metrics\n",
    "from sklearn.metrics import confusion_matrix , r2_score, mean_squared_error , classification_report , accuracy_score\n",
    "from sklearn import metrics\n",
    "from sklearn.preprocessing import StandardScaler\n",
    "from sklearn.preprocessing import MinMaxScaler \n",
    "from keras.layers import Input, Dense\n",
    "from keras import regularizers\n",
    "from keras.models import Model, Sequential\n",
    "from sklearn.model_selection import cross_val_score\n",
    "from xgboost import XGBClassifier\n",
    "from sklearn.svm import SVC\n",
    "from sklearn.linear_model import LogisticRegression"
   ]
  },
  {
   "cell_type": "code",
   "execution_count": 2,
   "metadata": {
    "id": "L5E95W0b9KNf"
   },
   "outputs": [],
   "source": [
    "#Reading Data\n",
    "df = pd.read_csv(\"full_gen_data.csv\")"
   ]
  },
  {
   "cell_type": "code",
   "execution_count": 3,
   "metadata": {
    "colab": {
     "base_uri": "https://localhost:8080/",
     "height": 299
    },
    "id": "-eA6VMjs9LqT",
    "outputId": "249145de-a9df-44f7-c45b-a8fb93982233"
   },
   "outputs": [
    {
     "data": {
      "text/html": [
       "<div>\n",
       "<style scoped>\n",
       "    .dataframe tbody tr th:only-of-type {\n",
       "        vertical-align: middle;\n",
       "    }\n",
       "\n",
       "    .dataframe tbody tr th {\n",
       "        vertical-align: top;\n",
       "    }\n",
       "\n",
       "    .dataframe thead th {\n",
       "        text-align: right;\n",
       "    }\n",
       "</style>\n",
       "<table border=\"1\" class=\"dataframe\">\n",
       "  <thead>\n",
       "    <tr style=\"text-align: right;\">\n",
       "      <th></th>\n",
       "      <th>country</th>\n",
       "      <th>article</th>\n",
       "      <th>sales</th>\n",
       "      <th>regular_price</th>\n",
       "      <th>current_price</th>\n",
       "      <th>ratio</th>\n",
       "      <th>retailweek</th>\n",
       "      <th>promo1</th>\n",
       "      <th>promo2</th>\n",
       "      <th>customer_id</th>\n",
       "      <th>...</th>\n",
       "      <th>style</th>\n",
       "      <th>sizes</th>\n",
       "      <th>gender</th>\n",
       "      <th>rgb_r_main_col</th>\n",
       "      <th>rgb_g_main_col</th>\n",
       "      <th>rgb_b_main_col</th>\n",
       "      <th>rgb_r_sec_col</th>\n",
       "      <th>rgb_g_sec_col</th>\n",
       "      <th>rgb_b_sec_col</th>\n",
       "      <th>label</th>\n",
       "    </tr>\n",
       "  </thead>\n",
       "  <tbody>\n",
       "    <tr>\n",
       "      <th>0</th>\n",
       "      <td>Germany</td>\n",
       "      <td>YN8639</td>\n",
       "      <td>28</td>\n",
       "      <td>5.95</td>\n",
       "      <td>3.95</td>\n",
       "      <td>0.663866</td>\n",
       "      <td>2016-03-27</td>\n",
       "      <td>0</td>\n",
       "      <td>0</td>\n",
       "      <td>1003.0</td>\n",
       "      <td>...</td>\n",
       "      <td>slim</td>\n",
       "      <td>xxs,xs,s,m,l,xl,xxl</td>\n",
       "      <td>women</td>\n",
       "      <td>205</td>\n",
       "      <td>104</td>\n",
       "      <td>57</td>\n",
       "      <td>255</td>\n",
       "      <td>187</td>\n",
       "      <td>255</td>\n",
       "      <td>0</td>\n",
       "    </tr>\n",
       "    <tr>\n",
       "      <th>1</th>\n",
       "      <td>Germany</td>\n",
       "      <td>YN8639</td>\n",
       "      <td>28</td>\n",
       "      <td>5.95</td>\n",
       "      <td>3.95</td>\n",
       "      <td>0.663866</td>\n",
       "      <td>2016-03-27</td>\n",
       "      <td>0</td>\n",
       "      <td>0</td>\n",
       "      <td>1003.0</td>\n",
       "      <td>...</td>\n",
       "      <td>regular</td>\n",
       "      <td>xxs,xs,s,m,l,xl,xxl</td>\n",
       "      <td>women</td>\n",
       "      <td>188</td>\n",
       "      <td>238</td>\n",
       "      <td>104</td>\n",
       "      <td>255</td>\n",
       "      <td>187</td>\n",
       "      <td>255</td>\n",
       "      <td>0</td>\n",
       "    </tr>\n",
       "    <tr>\n",
       "      <th>2</th>\n",
       "      <td>Germany</td>\n",
       "      <td>YN8639</td>\n",
       "      <td>28</td>\n",
       "      <td>5.95</td>\n",
       "      <td>3.95</td>\n",
       "      <td>0.663866</td>\n",
       "      <td>2016-03-27</td>\n",
       "      <td>0</td>\n",
       "      <td>0</td>\n",
       "      <td>1003.0</td>\n",
       "      <td>...</td>\n",
       "      <td>regular</td>\n",
       "      <td>xxs,xs,s,m,l,xl,xxl</td>\n",
       "      <td>women</td>\n",
       "      <td>205</td>\n",
       "      <td>173</td>\n",
       "      <td>0</td>\n",
       "      <td>255</td>\n",
       "      <td>187</td>\n",
       "      <td>255</td>\n",
       "      <td>0</td>\n",
       "    </tr>\n",
       "    <tr>\n",
       "      <th>3</th>\n",
       "      <td>Germany</td>\n",
       "      <td>YN8639</td>\n",
       "      <td>28</td>\n",
       "      <td>5.95</td>\n",
       "      <td>3.95</td>\n",
       "      <td>0.663866</td>\n",
       "      <td>2016-03-27</td>\n",
       "      <td>0</td>\n",
       "      <td>0</td>\n",
       "      <td>1003.0</td>\n",
       "      <td>...</td>\n",
       "      <td>regular</td>\n",
       "      <td>xxs,xs,s,m,l,xl,xxl</td>\n",
       "      <td>kids</td>\n",
       "      <td>205</td>\n",
       "      <td>140</td>\n",
       "      <td>149</td>\n",
       "      <td>164</td>\n",
       "      <td>211</td>\n",
       "      <td>238</td>\n",
       "      <td>0</td>\n",
       "    </tr>\n",
       "    <tr>\n",
       "      <th>4</th>\n",
       "      <td>Germany</td>\n",
       "      <td>YN8639</td>\n",
       "      <td>28</td>\n",
       "      <td>5.95</td>\n",
       "      <td>3.95</td>\n",
       "      <td>0.663866</td>\n",
       "      <td>2016-03-27</td>\n",
       "      <td>0</td>\n",
       "      <td>0</td>\n",
       "      <td>1003.0</td>\n",
       "      <td>...</td>\n",
       "      <td>regular</td>\n",
       "      <td>xxs,xs,s,m,l,xl,xxl</td>\n",
       "      <td>women</td>\n",
       "      <td>138</td>\n",
       "      <td>43</td>\n",
       "      <td>226</td>\n",
       "      <td>164</td>\n",
       "      <td>211</td>\n",
       "      <td>238</td>\n",
       "      <td>0</td>\n",
       "    </tr>\n",
       "  </tbody>\n",
       "</table>\n",
       "<p>5 rows × 24 columns</p>\n",
       "</div>"
      ],
      "text/plain": [
       "   country article  sales  regular_price  current_price     ratio  retailweek  \\\n",
       "0  Germany  YN8639     28           5.95           3.95  0.663866  2016-03-27   \n",
       "1  Germany  YN8639     28           5.95           3.95  0.663866  2016-03-27   \n",
       "2  Germany  YN8639     28           5.95           3.95  0.663866  2016-03-27   \n",
       "3  Germany  YN8639     28           5.95           3.95  0.663866  2016-03-27   \n",
       "4  Germany  YN8639     28           5.95           3.95  0.663866  2016-03-27   \n",
       "\n",
       "   promo1  promo2  customer_id  ...    style                sizes gender  \\\n",
       "0       0       0       1003.0  ...     slim  xxs,xs,s,m,l,xl,xxl  women   \n",
       "1       0       0       1003.0  ...  regular  xxs,xs,s,m,l,xl,xxl  women   \n",
       "2       0       0       1003.0  ...  regular  xxs,xs,s,m,l,xl,xxl  women   \n",
       "3       0       0       1003.0  ...  regular  xxs,xs,s,m,l,xl,xxl   kids   \n",
       "4       0       0       1003.0  ...  regular  xxs,xs,s,m,l,xl,xxl  women   \n",
       "\n",
       "   rgb_r_main_col rgb_g_main_col rgb_b_main_col rgb_r_sec_col  rgb_g_sec_col  \\\n",
       "0             205            104             57           255            187   \n",
       "1             188            238            104           255            187   \n",
       "2             205            173              0           255            187   \n",
       "3             205            140            149           164            211   \n",
       "4             138             43            226           164            211   \n",
       "\n",
       "   rgb_b_sec_col  label  \n",
       "0            255      0  \n",
       "1            255      0  \n",
       "2            255      0  \n",
       "3            238      0  \n",
       "4            238      0  \n",
       "\n",
       "[5 rows x 24 columns]"
      ]
     },
     "execution_count": 3,
     "metadata": {},
     "output_type": "execute_result"
    }
   ],
   "source": [
    "df.head()"
   ]
  },
  {
   "cell_type": "code",
   "execution_count": 4,
   "metadata": {
    "colab": {
     "base_uri": "https://localhost:8080/"
    },
    "id": "Ot2LTweb9O4x",
    "outputId": "84e903f8-a8c8-49b1-fc0a-af7fff83a20f"
   },
   "outputs": [
    {
     "name": "stdout",
     "output_type": "stream",
     "text": [
      "<class 'pandas.core.frame.DataFrame'>\n",
      "RangeIndex: 100000 entries, 0 to 99999\n",
      "Data columns (total 24 columns):\n",
      " #   Column          Non-Null Count   Dtype  \n",
      "---  ------          --------------   -----  \n",
      " 0   country         100000 non-null  object \n",
      " 1   article         100000 non-null  object \n",
      " 2   sales           100000 non-null  int64  \n",
      " 3   regular_price   100000 non-null  float64\n",
      " 4   current_price   100000 non-null  float64\n",
      " 5   ratio           100000 non-null  float64\n",
      " 6   retailweek      100000 non-null  object \n",
      " 7   promo1          100000 non-null  int64  \n",
      " 8   promo2          100000 non-null  int64  \n",
      " 9   customer_id     100000 non-null  float64\n",
      " 10  article.1       100000 non-null  object \n",
      " 11  productgroup    100000 non-null  object \n",
      " 12  category        100000 non-null  object \n",
      " 13  cost            100000 non-null  float64\n",
      " 14  style           100000 non-null  object \n",
      " 15  sizes           100000 non-null  object \n",
      " 16  gender          100000 non-null  object \n",
      " 17  rgb_r_main_col  100000 non-null  int64  \n",
      " 18  rgb_g_main_col  100000 non-null  int64  \n",
      " 19  rgb_b_main_col  100000 non-null  int64  \n",
      " 20  rgb_r_sec_col   100000 non-null  int64  \n",
      " 21  rgb_g_sec_col   100000 non-null  int64  \n",
      " 22  rgb_b_sec_col   100000 non-null  int64  \n",
      " 23  label           100000 non-null  int64  \n",
      "dtypes: float64(5), int64(10), object(9)\n",
      "memory usage: 18.3+ MB\n"
     ]
    }
   ],
   "source": [
    "#Exploring info about data \n",
    "df.info()"
   ]
  },
  {
   "cell_type": "code",
   "execution_count": 5,
   "metadata": {},
   "outputs": [
    {
     "data": {
      "text/plain": [
       "(100000, 24)"
      ]
     },
     "execution_count": 5,
     "metadata": {},
     "output_type": "execute_result"
    }
   ],
   "source": [
    "df.shape"
   ]
  },
  {
   "cell_type": "code",
   "execution_count": 6,
   "metadata": {
    "colab": {
     "base_uri": "https://localhost:8080/",
     "height": 930
    },
    "id": "HuD6CK9y9ZQT",
    "outputId": "63db5e4b-98d3-4bb7-d603-335ea24cbee5"
   },
   "outputs": [
    {
     "data": {
      "image/png": "[encoded data removed]",
      "text/plain": [
       "<Figure size 1440x1080 with 2 Axes>"
      ]
     },
     "metadata": {
      "needs_background": "light"
     },
     "output_type": "display_data"
    }
   ],
   "source": [
    "cor = df.corr()\n",
    "plt.figure(figsize=(20,15))\n",
    "sns.heatmap(cor, annot=True, cmap= \"YlGnBu\")\n",
    "plt.show()"
   ]
  },
  {
   "cell_type": "code",
   "execution_count": 7,
   "metadata": {
    "id": "Xf1BhLgv9Z6s"
   },
   "outputs": [],
   "source": [
    "removedColumns = ['article' , 'retailweek' , 'customer_id' , 'article.1' , 'rgb_r_main_col','rgb_g_main_col','rgb_b_main_col','rgb_r_sec_col','rgb_g_sec_col', 'rgb_b_sec_col']\n",
    "\n",
    "for m in removedColumns:\n",
    "  df.pop(m)"
   ]
  },
  {
   "cell_type": "code",
   "execution_count": 8,
   "metadata": {},
   "outputs": [
    {
     "data": {
      "image/png": "[encoded data removed]",
      "text/plain": [
       "<Figure size 720x720 with 2 Axes>"
      ]
     },
     "metadata": {
      "needs_background": "light"
     },
     "output_type": "display_data"
    }
   ],
   "source": [
    "plt.figure(figsize=(10, 10))\n",
    "new_corr = df.corr()\n",
    "sns.heatmap(df.corr(\"pearson\"),\n",
    "            vmin=-1, vmax=1,\n",
    "            cmap='afmhot_r',\n",
    "            annot=True, \n",
    "            square=True)\n",
    "plt.show()"
   ]
  },
  {
   "cell_type": "code",
   "execution_count": 9,
   "metadata": {},
   "outputs": [
    {
     "data": {
      "text/html": [
       "<div>\n",
       "<style scoped>\n",
       "    .dataframe tbody tr th:only-of-type {\n",
       "        vertical-align: middle;\n",
       "    }\n",
       "\n",
       "    .dataframe tbody tr th {\n",
       "        vertical-align: top;\n",
       "    }\n",
       "\n",
       "    .dataframe thead th {\n",
       "        text-align: right;\n",
       "    }\n",
       "</style>\n",
       "<table border=\"1\" class=\"dataframe\">\n",
       "  <thead>\n",
       "    <tr style=\"text-align: right;\">\n",
       "      <th></th>\n",
       "      <th>country</th>\n",
       "      <th>sales</th>\n",
       "      <th>regular_price</th>\n",
       "      <th>current_price</th>\n",
       "      <th>ratio</th>\n",
       "      <th>promo1</th>\n",
       "      <th>promo2</th>\n",
       "      <th>productgroup</th>\n",
       "      <th>category</th>\n",
       "      <th>cost</th>\n",
       "      <th>style</th>\n",
       "      <th>sizes</th>\n",
       "      <th>gender</th>\n",
       "      <th>label</th>\n",
       "    </tr>\n",
       "  </thead>\n",
       "  <tbody>\n",
       "    <tr>\n",
       "      <th>0</th>\n",
       "      <td>Germany</td>\n",
       "      <td>28</td>\n",
       "      <td>5.95</td>\n",
       "      <td>3.95</td>\n",
       "      <td>0.663866</td>\n",
       "      <td>0</td>\n",
       "      <td>0</td>\n",
       "      <td>SHOES</td>\n",
       "      <td>TRAINING</td>\n",
       "      <td>13.29</td>\n",
       "      <td>slim</td>\n",
       "      <td>xxs,xs,s,m,l,xl,xxl</td>\n",
       "      <td>women</td>\n",
       "      <td>0</td>\n",
       "    </tr>\n",
       "    <tr>\n",
       "      <th>1</th>\n",
       "      <td>Germany</td>\n",
       "      <td>28</td>\n",
       "      <td>5.95</td>\n",
       "      <td>3.95</td>\n",
       "      <td>0.663866</td>\n",
       "      <td>0</td>\n",
       "      <td>0</td>\n",
       "      <td>SHORTS</td>\n",
       "      <td>TRAINING</td>\n",
       "      <td>2.29</td>\n",
       "      <td>regular</td>\n",
       "      <td>xxs,xs,s,m,l,xl,xxl</td>\n",
       "      <td>women</td>\n",
       "      <td>0</td>\n",
       "    </tr>\n",
       "    <tr>\n",
       "      <th>2</th>\n",
       "      <td>Germany</td>\n",
       "      <td>28</td>\n",
       "      <td>5.95</td>\n",
       "      <td>3.95</td>\n",
       "      <td>0.663866</td>\n",
       "      <td>0</td>\n",
       "      <td>0</td>\n",
       "      <td>HARDWARE ACCESSORIES</td>\n",
       "      <td>GOLF</td>\n",
       "      <td>1.70</td>\n",
       "      <td>regular</td>\n",
       "      <td>xxs,xs,s,m,l,xl,xxl</td>\n",
       "      <td>women</td>\n",
       "      <td>0</td>\n",
       "    </tr>\n",
       "    <tr>\n",
       "      <th>3</th>\n",
       "      <td>Germany</td>\n",
       "      <td>28</td>\n",
       "      <td>5.95</td>\n",
       "      <td>3.95</td>\n",
       "      <td>0.663866</td>\n",
       "      <td>0</td>\n",
       "      <td>0</td>\n",
       "      <td>SHOES</td>\n",
       "      <td>RUNNING</td>\n",
       "      <td>9.00</td>\n",
       "      <td>regular</td>\n",
       "      <td>xxs,xs,s,m,l,xl,xxl</td>\n",
       "      <td>kids</td>\n",
       "      <td>0</td>\n",
       "    </tr>\n",
       "    <tr>\n",
       "      <th>4</th>\n",
       "      <td>Germany</td>\n",
       "      <td>28</td>\n",
       "      <td>5.95</td>\n",
       "      <td>3.95</td>\n",
       "      <td>0.663866</td>\n",
       "      <td>0</td>\n",
       "      <td>0</td>\n",
       "      <td>SHOES</td>\n",
       "      <td>RELAX CASUAL</td>\n",
       "      <td>9.60</td>\n",
       "      <td>regular</td>\n",
       "      <td>xxs,xs,s,m,l,xl,xxl</td>\n",
       "      <td>women</td>\n",
       "      <td>0</td>\n",
       "    </tr>\n",
       "    <tr>\n",
       "      <th>...</th>\n",
       "      <td>...</td>\n",
       "      <td>...</td>\n",
       "      <td>...</td>\n",
       "      <td>...</td>\n",
       "      <td>...</td>\n",
       "      <td>...</td>\n",
       "      <td>...</td>\n",
       "      <td>...</td>\n",
       "      <td>...</td>\n",
       "      <td>...</td>\n",
       "      <td>...</td>\n",
       "      <td>...</td>\n",
       "      <td>...</td>\n",
       "      <td>...</td>\n",
       "    </tr>\n",
       "    <tr>\n",
       "      <th>99995</th>\n",
       "      <td>Germany</td>\n",
       "      <td>227</td>\n",
       "      <td>57.95</td>\n",
       "      <td>26.95</td>\n",
       "      <td>0.465056</td>\n",
       "      <td>0</td>\n",
       "      <td>0</td>\n",
       "      <td>SWEATSHIRTS</td>\n",
       "      <td>TRAINING</td>\n",
       "      <td>4.20</td>\n",
       "      <td>wide</td>\n",
       "      <td>xxs,xs,s,m,l,xl,xxl</td>\n",
       "      <td>women</td>\n",
       "      <td>0</td>\n",
       "    </tr>\n",
       "    <tr>\n",
       "      <th>99996</th>\n",
       "      <td>Germany</td>\n",
       "      <td>227</td>\n",
       "      <td>57.95</td>\n",
       "      <td>26.95</td>\n",
       "      <td>0.465056</td>\n",
       "      <td>0</td>\n",
       "      <td>0</td>\n",
       "      <td>SHOES</td>\n",
       "      <td>FOOTBALL GENERIC</td>\n",
       "      <td>9.90</td>\n",
       "      <td>wide</td>\n",
       "      <td>xs,s,m,l,xl</td>\n",
       "      <td>unisex</td>\n",
       "      <td>0</td>\n",
       "    </tr>\n",
       "    <tr>\n",
       "      <th>99997</th>\n",
       "      <td>Germany</td>\n",
       "      <td>227</td>\n",
       "      <td>57.95</td>\n",
       "      <td>26.95</td>\n",
       "      <td>0.465056</td>\n",
       "      <td>0</td>\n",
       "      <td>0</td>\n",
       "      <td>SHOES</td>\n",
       "      <td>INDOOR</td>\n",
       "      <td>5.20</td>\n",
       "      <td>wide</td>\n",
       "      <td>xxs,xs,s,m,l,xl,xxl</td>\n",
       "      <td>women</td>\n",
       "      <td>0</td>\n",
       "    </tr>\n",
       "    <tr>\n",
       "      <th>99998</th>\n",
       "      <td>Germany</td>\n",
       "      <td>227</td>\n",
       "      <td>57.95</td>\n",
       "      <td>26.95</td>\n",
       "      <td>0.465056</td>\n",
       "      <td>0</td>\n",
       "      <td>0</td>\n",
       "      <td>HARDWARE ACCESSORIES</td>\n",
       "      <td>RUNNING</td>\n",
       "      <td>1.29</td>\n",
       "      <td>slim</td>\n",
       "      <td>xxs,xs,s,m,l,xl,xxl</td>\n",
       "      <td>women</td>\n",
       "      <td>0</td>\n",
       "    </tr>\n",
       "    <tr>\n",
       "      <th>99999</th>\n",
       "      <td>Germany</td>\n",
       "      <td>227</td>\n",
       "      <td>57.95</td>\n",
       "      <td>26.95</td>\n",
       "      <td>0.465056</td>\n",
       "      <td>0</td>\n",
       "      <td>0</td>\n",
       "      <td>SHOES</td>\n",
       "      <td>FOOTBALL GENERIC</td>\n",
       "      <td>8.70</td>\n",
       "      <td>regular</td>\n",
       "      <td>xxs,xs,s,m,l,xl,xxl</td>\n",
       "      <td>men</td>\n",
       "      <td>0</td>\n",
       "    </tr>\n",
       "  </tbody>\n",
       "</table>\n",
       "<p>100000 rows × 14 columns</p>\n",
       "</div>"
      ],
      "text/plain": [
       "       country  sales  regular_price  current_price     ratio  promo1  promo2  \\\n",
       "0      Germany     28           5.95           3.95  0.663866       0       0   \n",
       "1      Germany     28           5.95           3.95  0.663866       0       0   \n",
       "2      Germany     28           5.95           3.95  0.663866       0       0   \n",
       "3      Germany     28           5.95           3.95  0.663866       0       0   \n",
       "4      Germany     28           5.95           3.95  0.663866       0       0   \n",
       "...        ...    ...            ...            ...       ...     ...     ...   \n",
       "99995  Germany    227          57.95          26.95  0.465056       0       0   \n",
       "99996  Germany    227          57.95          26.95  0.465056       0       0   \n",
       "99997  Germany    227          57.95          26.95  0.465056       0       0   \n",
       "99998  Germany    227          57.95          26.95  0.465056       0       0   \n",
       "99999  Germany    227          57.95          26.95  0.465056       0       0   \n",
       "\n",
       "               productgroup          category   cost    style  \\\n",
       "0                     SHOES          TRAINING  13.29     slim   \n",
       "1                    SHORTS          TRAINING   2.29  regular   \n",
       "2      HARDWARE ACCESSORIES              GOLF   1.70  regular   \n",
       "3                     SHOES           RUNNING   9.00  regular   \n",
       "4                     SHOES      RELAX CASUAL   9.60  regular   \n",
       "...                     ...               ...    ...      ...   \n",
       "99995           SWEATSHIRTS          TRAINING   4.20     wide   \n",
       "99996                 SHOES  FOOTBALL GENERIC   9.90     wide   \n",
       "99997                 SHOES            INDOOR   5.20     wide   \n",
       "99998  HARDWARE ACCESSORIES           RUNNING   1.29     slim   \n",
       "99999                 SHOES  FOOTBALL GENERIC   8.70  regular   \n",
       "\n",
       "                     sizes  gender  label  \n",
       "0      xxs,xs,s,m,l,xl,xxl   women      0  \n",
       "1      xxs,xs,s,m,l,xl,xxl   women      0  \n",
       "2      xxs,xs,s,m,l,xl,xxl   women      0  \n",
       "3      xxs,xs,s,m,l,xl,xxl    kids      0  \n",
       "4      xxs,xs,s,m,l,xl,xxl   women      0  \n",
       "...                    ...     ...    ...  \n",
       "99995  xxs,xs,s,m,l,xl,xxl   women      0  \n",
       "99996          xs,s,m,l,xl  unisex      0  \n",
       "99997  xxs,xs,s,m,l,xl,xxl   women      0  \n",
       "99998  xxs,xs,s,m,l,xl,xxl   women      0  \n",
       "99999  xxs,xs,s,m,l,xl,xxl     men      0  \n",
       "\n",
       "[100000 rows x 14 columns]"
      ]
     },
     "execution_count": 9,
     "metadata": {},
     "output_type": "execute_result"
    }
   ],
   "source": [
    "df"
   ]
  },
  {
   "cell_type": "markdown",
   "metadata": {
    "id": "Xb-YXZU2nPu9"
   },
   "source": [
    "# Doing one hot encoding for  the following features : country , productgroup , Category , style , sizes and gender "
   ]
  },
  {
   "cell_type": "markdown",
   "metadata": {},
   "source": [
    "### 1- Country_column "
   ]
  },
  {
   "cell_type": "code",
   "execution_count": 10,
   "metadata": {
    "colab": {
     "base_uri": "https://localhost:8080/"
    },
    "id": "unCY_LyilKw9",
    "outputId": "b99d86fe-02a7-4e20-9a95-4efcff0b1522"
   },
   "outputs": [
    {
     "data": {
      "text/plain": [
       "array([[0., 0., 1.],\n",
       "       [0., 0., 1.],\n",
       "       [0., 0., 1.],\n",
       "       ...,\n",
       "       [0., 0., 1.],\n",
       "       [0., 0., 1.],\n",
       "       [0., 0., 1.]])"
      ]
     },
     "execution_count": 10,
     "metadata": {},
     "output_type": "execute_result"
    }
   ],
   "source": [
    "country = df[['country']] \n",
    "country_encoder = OneHotEncoder(sparse=False)\n",
    "country_categories = country_encoder.fit_transform(country)\n",
    "country_categories"
   ]
  },
  {
   "cell_type": "code",
   "execution_count": 11,
   "metadata": {
    "colab": {
     "base_uri": "https://localhost:8080/"
    },
    "id": "xgzr2hxyminQ",
    "outputId": "1d89a313-1813-4a35-e04d-0959794cf2f6"
   },
   "outputs": [
    {
     "data": {
      "text/plain": [
       "[array(['Austria', 'France', 'Germany'], dtype=object)]"
      ]
     },
     "execution_count": 11,
     "metadata": {},
     "output_type": "execute_result"
    }
   ],
   "source": [
    "country_encoder.categories_"
   ]
  },
  {
   "cell_type": "code",
   "execution_count": 12,
   "metadata": {
    "id": "VbdO_88dmwtK"
   },
   "outputs": [],
   "source": [
    "country_encoded = pd.DataFrame(country_categories , columns=['Austria', 'France', 'Germany'])"
   ]
  },
  {
   "cell_type": "code",
   "execution_count": 13,
   "metadata": {
    "colab": {
     "base_uri": "https://localhost:8080/",
     "height": 0
    },
    "id": "BWKi4XrInA5N",
    "outputId": "1ad43290-98a3-447d-ace8-77341eb5ee6f"
   },
   "outputs": [
    {
     "data": {
      "text/html": [
       "<div>\n",
       "<style scoped>\n",
       "    .dataframe tbody tr th:only-of-type {\n",
       "        vertical-align: middle;\n",
       "    }\n",
       "\n",
       "    .dataframe tbody tr th {\n",
       "        vertical-align: top;\n",
       "    }\n",
       "\n",
       "    .dataframe thead th {\n",
       "        text-align: right;\n",
       "    }\n",
       "</style>\n",
       "<table border=\"1\" class=\"dataframe\">\n",
       "  <thead>\n",
       "    <tr style=\"text-align: right;\">\n",
       "      <th></th>\n",
       "      <th>Austria</th>\n",
       "      <th>France</th>\n",
       "      <th>Germany</th>\n",
       "    </tr>\n",
       "  </thead>\n",
       "  <tbody>\n",
       "    <tr>\n",
       "      <th>0</th>\n",
       "      <td>0.0</td>\n",
       "      <td>0.0</td>\n",
       "      <td>1.0</td>\n",
       "    </tr>\n",
       "    <tr>\n",
       "      <th>1</th>\n",
       "      <td>0.0</td>\n",
       "      <td>0.0</td>\n",
       "      <td>1.0</td>\n",
       "    </tr>\n",
       "    <tr>\n",
       "      <th>2</th>\n",
       "      <td>0.0</td>\n",
       "      <td>0.0</td>\n",
       "      <td>1.0</td>\n",
       "    </tr>\n",
       "    <tr>\n",
       "      <th>3</th>\n",
       "      <td>0.0</td>\n",
       "      <td>0.0</td>\n",
       "      <td>1.0</td>\n",
       "    </tr>\n",
       "    <tr>\n",
       "      <th>4</th>\n",
       "      <td>0.0</td>\n",
       "      <td>0.0</td>\n",
       "      <td>1.0</td>\n",
       "    </tr>\n",
       "  </tbody>\n",
       "</table>\n",
       "</div>"
      ],
      "text/plain": [
       "   Austria  France  Germany\n",
       "0      0.0     0.0      1.0\n",
       "1      0.0     0.0      1.0\n",
       "2      0.0     0.0      1.0\n",
       "3      0.0     0.0      1.0\n",
       "4      0.0     0.0      1.0"
      ]
     },
     "execution_count": 13,
     "metadata": {},
     "output_type": "execute_result"
    }
   ],
   "source": [
    "country_encoded.head()"
   ]
  },
  {
   "cell_type": "markdown",
   "metadata": {
    "id": "67lodKjSnY3K"
   },
   "source": [
    "### 2- productgroup_column "
   ]
  },
  {
   "cell_type": "code",
   "execution_count": 14,
   "metadata": {
    "colab": {
     "base_uri": "https://localhost:8080/"
    },
    "id": "4Fk_O7RonjGd",
    "outputId": "d980ef36-f860-4572-9dac-2f6631c8a148"
   },
   "outputs": [
    {
     "data": {
      "text/plain": [
       "array([[0., 1., 0., 0.],\n",
       "       [0., 0., 1., 0.],\n",
       "       [1., 0., 0., 0.],\n",
       "       ...,\n",
       "       [0., 1., 0., 0.],\n",
       "       [1., 0., 0., 0.],\n",
       "       [0., 1., 0., 0.]])"
      ]
     },
     "execution_count": 14,
     "metadata": {},
     "output_type": "execute_result"
    }
   ],
   "source": [
    "product = df[['productgroup']]\n",
    "product_encoder = OneHotEncoder(sparse=False)\n",
    "product_categories = product_encoder.fit_transform(product)\n",
    "product_categories"
   ]
  },
  {
   "cell_type": "code",
   "execution_count": 15,
   "metadata": {
    "colab": {
     "base_uri": "https://localhost:8080/"
    },
    "id": "qROULigDn71D",
    "outputId": "aa414e00-1339-4455-8d13-356b7fe78a91"
   },
   "outputs": [
    {
     "data": {
      "text/plain": [
       "[array(['HARDWARE ACCESSORIES', 'SHOES', 'SHORTS', 'SWEATSHIRTS'],\n",
       "       dtype=object)]"
      ]
     },
     "execution_count": 15,
     "metadata": {},
     "output_type": "execute_result"
    }
   ],
   "source": [
    "product_encoder.categories_"
   ]
  },
  {
   "cell_type": "code",
   "execution_count": 16,
   "metadata": {
    "id": "dAGqxbdJoDnK"
   },
   "outputs": [],
   "source": [
    "product_encoded = pd.DataFrame(product_categories , columns=['HARDWARE ACCESSORIES', 'SHOES', 'SHORTS', 'SWEATSHIRTS'])"
   ]
  },
  {
   "cell_type": "code",
   "execution_count": 17,
   "metadata": {
    "colab": {
     "base_uri": "https://localhost:8080/",
     "height": 0
    },
    "id": "syRjCJcoobG-",
    "outputId": "06a03baf-e9ba-425c-b72e-34961c077d22"
   },
   "outputs": [
    {
     "data": {
      "text/html": [
       "<div>\n",
       "<style scoped>\n",
       "    .dataframe tbody tr th:only-of-type {\n",
       "        vertical-align: middle;\n",
       "    }\n",
       "\n",
       "    .dataframe tbody tr th {\n",
       "        vertical-align: top;\n",
       "    }\n",
       "\n",
       "    .dataframe thead th {\n",
       "        text-align: right;\n",
       "    }\n",
       "</style>\n",
       "<table border=\"1\" class=\"dataframe\">\n",
       "  <thead>\n",
       "    <tr style=\"text-align: right;\">\n",
       "      <th></th>\n",
       "      <th>HARDWARE ACCESSORIES</th>\n",
       "      <th>SHOES</th>\n",
       "      <th>SHORTS</th>\n",
       "      <th>SWEATSHIRTS</th>\n",
       "    </tr>\n",
       "  </thead>\n",
       "  <tbody>\n",
       "    <tr>\n",
       "      <th>0</th>\n",
       "      <td>0.0</td>\n",
       "      <td>1.0</td>\n",
       "      <td>0.0</td>\n",
       "      <td>0.0</td>\n",
       "    </tr>\n",
       "    <tr>\n",
       "      <th>1</th>\n",
       "      <td>0.0</td>\n",
       "      <td>0.0</td>\n",
       "      <td>1.0</td>\n",
       "      <td>0.0</td>\n",
       "    </tr>\n",
       "    <tr>\n",
       "      <th>2</th>\n",
       "      <td>1.0</td>\n",
       "      <td>0.0</td>\n",
       "      <td>0.0</td>\n",
       "      <td>0.0</td>\n",
       "    </tr>\n",
       "    <tr>\n",
       "      <th>3</th>\n",
       "      <td>0.0</td>\n",
       "      <td>1.0</td>\n",
       "      <td>0.0</td>\n",
       "      <td>0.0</td>\n",
       "    </tr>\n",
       "    <tr>\n",
       "      <th>4</th>\n",
       "      <td>0.0</td>\n",
       "      <td>1.0</td>\n",
       "      <td>0.0</td>\n",
       "      <td>0.0</td>\n",
       "    </tr>\n",
       "  </tbody>\n",
       "</table>\n",
       "</div>"
      ],
      "text/plain": [
       "   HARDWARE ACCESSORIES  SHOES  SHORTS  SWEATSHIRTS\n",
       "0                   0.0    1.0     0.0          0.0\n",
       "1                   0.0    0.0     1.0          0.0\n",
       "2                   1.0    0.0     0.0          0.0\n",
       "3                   0.0    1.0     0.0          0.0\n",
       "4                   0.0    1.0     0.0          0.0"
      ]
     },
     "execution_count": 17,
     "metadata": {},
     "output_type": "execute_result"
    }
   ],
   "source": [
    "product_encoded.head()"
   ]
  },
  {
   "cell_type": "markdown",
   "metadata": {
    "id": "C3j5-dd4oo5d"
   },
   "source": [
    "### 3- Category_column"
   ]
  },
  {
   "cell_type": "code",
   "execution_count": 18,
   "metadata": {
    "colab": {
     "base_uri": "https://localhost:8080/"
    },
    "id": "jPTqm1DTodaG",
    "outputId": "8ef2c789-23fa-4e93-bdc4-0410e75c77bf"
   },
   "outputs": [
    {
     "data": {
      "text/plain": [
       "array([[0., 0., 0., 0., 0., 1.],\n",
       "       [0., 0., 0., 0., 0., 1.],\n",
       "       [0., 1., 0., 0., 0., 0.],\n",
       "       ...,\n",
       "       [0., 0., 1., 0., 0., 0.],\n",
       "       [0., 0., 0., 0., 1., 0.],\n",
       "       [1., 0., 0., 0., 0., 0.]])"
      ]
     },
     "execution_count": 18,
     "metadata": {},
     "output_type": "execute_result"
    }
   ],
   "source": [
    "category = df[['category']]\n",
    "category_encoder = OneHotEncoder(sparse=False)\n",
    "category_categories = category_encoder.fit_transform(category)\n",
    "category_categories"
   ]
  },
  {
   "cell_type": "code",
   "execution_count": 19,
   "metadata": {
    "colab": {
     "base_uri": "https://localhost:8080/"
    },
    "id": "gji1Kv_Kpr5l",
    "outputId": "f135b9eb-0f7d-4e4d-b27f-3aeaed27240e"
   },
   "outputs": [
    {
     "data": {
      "text/plain": [
       "[array(['FOOTBALL GENERIC', 'GOLF', 'INDOOR', 'RELAX CASUAL', 'RUNNING',\n",
       "        'TRAINING'], dtype=object)]"
      ]
     },
     "execution_count": 19,
     "metadata": {},
     "output_type": "execute_result"
    }
   ],
   "source": [
    "category_encoder.categories_"
   ]
  },
  {
   "cell_type": "code",
   "execution_count": 20,
   "metadata": {
    "id": "JLGurVFoo3pZ"
   },
   "outputs": [],
   "source": [
    "category_encoded = pd.DataFrame(category_categories , columns=['FOOTBALL GENERIC', 'GOLF', 'INDOOR', 'RELAX CASUAL', 'RUNNING','TRAINING'] )"
   ]
  },
  {
   "cell_type": "code",
   "execution_count": 21,
   "metadata": {
    "colab": {
     "base_uri": "https://localhost:8080/",
     "height": 0
    },
    "id": "yJ4A4ksJp1Df",
    "outputId": "90a200b6-6bad-4d2e-87ba-a602f2e18464"
   },
   "outputs": [
    {
     "data": {
      "text/html": [
       "<div>\n",
       "<style scoped>\n",
       "    .dataframe tbody tr th:only-of-type {\n",
       "        vertical-align: middle;\n",
       "    }\n",
       "\n",
       "    .dataframe tbody tr th {\n",
       "        vertical-align: top;\n",
       "    }\n",
       "\n",
       "    .dataframe thead th {\n",
       "        text-align: right;\n",
       "    }\n",
       "</style>\n",
       "<table border=\"1\" class=\"dataframe\">\n",
       "  <thead>\n",
       "    <tr style=\"text-align: right;\">\n",
       "      <th></th>\n",
       "      <th>FOOTBALL GENERIC</th>\n",
       "      <th>GOLF</th>\n",
       "      <th>INDOOR</th>\n",
       "      <th>RELAX CASUAL</th>\n",
       "      <th>RUNNING</th>\n",
       "      <th>TRAINING</th>\n",
       "    </tr>\n",
       "  </thead>\n",
       "  <tbody>\n",
       "    <tr>\n",
       "      <th>0</th>\n",
       "      <td>0.0</td>\n",
       "      <td>0.0</td>\n",
       "      <td>0.0</td>\n",
       "      <td>0.0</td>\n",
       "      <td>0.0</td>\n",
       "      <td>1.0</td>\n",
       "    </tr>\n",
       "    <tr>\n",
       "      <th>1</th>\n",
       "      <td>0.0</td>\n",
       "      <td>0.0</td>\n",
       "      <td>0.0</td>\n",
       "      <td>0.0</td>\n",
       "      <td>0.0</td>\n",
       "      <td>1.0</td>\n",
       "    </tr>\n",
       "    <tr>\n",
       "      <th>2</th>\n",
       "      <td>0.0</td>\n",
       "      <td>1.0</td>\n",
       "      <td>0.0</td>\n",
       "      <td>0.0</td>\n",
       "      <td>0.0</td>\n",
       "      <td>0.0</td>\n",
       "    </tr>\n",
       "    <tr>\n",
       "      <th>3</th>\n",
       "      <td>0.0</td>\n",
       "      <td>0.0</td>\n",
       "      <td>0.0</td>\n",
       "      <td>0.0</td>\n",
       "      <td>1.0</td>\n",
       "      <td>0.0</td>\n",
       "    </tr>\n",
       "    <tr>\n",
       "      <th>4</th>\n",
       "      <td>0.0</td>\n",
       "      <td>0.0</td>\n",
       "      <td>0.0</td>\n",
       "      <td>1.0</td>\n",
       "      <td>0.0</td>\n",
       "      <td>0.0</td>\n",
       "    </tr>\n",
       "  </tbody>\n",
       "</table>\n",
       "</div>"
      ],
      "text/plain": [
       "   FOOTBALL GENERIC  GOLF  INDOOR  RELAX CASUAL  RUNNING  TRAINING\n",
       "0               0.0   0.0     0.0           0.0      0.0       1.0\n",
       "1               0.0   0.0     0.0           0.0      0.0       1.0\n",
       "2               0.0   1.0     0.0           0.0      0.0       0.0\n",
       "3               0.0   0.0     0.0           0.0      1.0       0.0\n",
       "4               0.0   0.0     0.0           1.0      0.0       0.0"
      ]
     },
     "execution_count": 21,
     "metadata": {},
     "output_type": "execute_result"
    }
   ],
   "source": [
    "category_encoded.head()"
   ]
  },
  {
   "cell_type": "markdown",
   "metadata": {
    "id": "rNDfdRcup8Xp"
   },
   "source": [
    "### 4- style_column "
   ]
  },
  {
   "cell_type": "code",
   "execution_count": 22,
   "metadata": {
    "colab": {
     "base_uri": "https://localhost:8080/"
    },
    "id": "9JMEeFuPp6XM",
    "outputId": "89127be5-91a8-4199-e37d-60d351f76923"
   },
   "outputs": [
    {
     "data": {
      "text/plain": [
       "array([[0., 1., 0.],\n",
       "       [1., 0., 0.],\n",
       "       [1., 0., 0.],\n",
       "       ...,\n",
       "       [0., 0., 1.],\n",
       "       [0., 1., 0.],\n",
       "       [1., 0., 0.]])"
      ]
     },
     "execution_count": 22,
     "metadata": {},
     "output_type": "execute_result"
    }
   ],
   "source": [
    "style = df[['style']]\n",
    "style_encoder = OneHotEncoder(sparse=False)\n",
    "style_categories = style_encoder.fit_transform(style)\n",
    "style_categories"
   ]
  },
  {
   "cell_type": "code",
   "execution_count": 23,
   "metadata": {
    "colab": {
     "base_uri": "https://localhost:8080/"
    },
    "id": "aHZHVKKCqTx8",
    "outputId": "733ac5ec-06a1-4b8f-fe67-6cb91faab148"
   },
   "outputs": [
    {
     "data": {
      "text/plain": [
       "[array(['regular', 'slim', 'wide'], dtype=object)]"
      ]
     },
     "execution_count": 23,
     "metadata": {},
     "output_type": "execute_result"
    }
   ],
   "source": [
    "style_encoder.categories_"
   ]
  },
  {
   "cell_type": "code",
   "execution_count": 24,
   "metadata": {
    "id": "biIDaGNXqkXv"
   },
   "outputs": [],
   "source": [
    "style_encoded = pd.DataFrame( style_categories , columns=['regular', 'slim', 'wide'])"
   ]
  },
  {
   "cell_type": "code",
   "execution_count": 25,
   "metadata": {
    "colab": {
     "base_uri": "https://localhost:8080/",
     "height": 0
    },
    "id": "C7xecAYPq2kN",
    "outputId": "d0ebeeae-eba2-4d59-8a5c-34d62b4dfafe"
   },
   "outputs": [
    {
     "data": {
      "text/html": [
       "<div>\n",
       "<style scoped>\n",
       "    .dataframe tbody tr th:only-of-type {\n",
       "        vertical-align: middle;\n",
       "    }\n",
       "\n",
       "    .dataframe tbody tr th {\n",
       "        vertical-align: top;\n",
       "    }\n",
       "\n",
       "    .dataframe thead th {\n",
       "        text-align: right;\n",
       "    }\n",
       "</style>\n",
       "<table border=\"1\" class=\"dataframe\">\n",
       "  <thead>\n",
       "    <tr style=\"text-align: right;\">\n",
       "      <th></th>\n",
       "      <th>regular</th>\n",
       "      <th>slim</th>\n",
       "      <th>wide</th>\n",
       "    </tr>\n",
       "  </thead>\n",
       "  <tbody>\n",
       "    <tr>\n",
       "      <th>0</th>\n",
       "      <td>0.0</td>\n",
       "      <td>1.0</td>\n",
       "      <td>0.0</td>\n",
       "    </tr>\n",
       "    <tr>\n",
       "      <th>1</th>\n",
       "      <td>1.0</td>\n",
       "      <td>0.0</td>\n",
       "      <td>0.0</td>\n",
       "    </tr>\n",
       "    <tr>\n",
       "      <th>2</th>\n",
       "      <td>1.0</td>\n",
       "      <td>0.0</td>\n",
       "      <td>0.0</td>\n",
       "    </tr>\n",
       "    <tr>\n",
       "      <th>3</th>\n",
       "      <td>1.0</td>\n",
       "      <td>0.0</td>\n",
       "      <td>0.0</td>\n",
       "    </tr>\n",
       "    <tr>\n",
       "      <th>4</th>\n",
       "      <td>1.0</td>\n",
       "      <td>0.0</td>\n",
       "      <td>0.0</td>\n",
       "    </tr>\n",
       "  </tbody>\n",
       "</table>\n",
       "</div>"
      ],
      "text/plain": [
       "   regular  slim  wide\n",
       "0      0.0   1.0   0.0\n",
       "1      1.0   0.0   0.0\n",
       "2      1.0   0.0   0.0\n",
       "3      1.0   0.0   0.0\n",
       "4      1.0   0.0   0.0"
      ]
     },
     "execution_count": 25,
     "metadata": {},
     "output_type": "execute_result"
    }
   ],
   "source": [
    "style_encoded.head()"
   ]
  },
  {
   "cell_type": "markdown",
   "metadata": {
    "id": "LonqlA8Hq63z"
   },
   "source": [
    "### 5- sizes_column"
   ]
  },
  {
   "cell_type": "code",
   "execution_count": 26,
   "metadata": {
    "colab": {
     "base_uri": "https://localhost:8080/"
    },
    "id": "6s0QNmGBq5Cr",
    "outputId": "e6badc4a-c75f-4b28-e995-a460e7694213"
   },
   "outputs": [
    {
     "data": {
      "text/plain": [
       "array([[0., 1.],\n",
       "       [0., 1.],\n",
       "       [0., 1.],\n",
       "       ...,\n",
       "       [0., 1.],\n",
       "       [0., 1.],\n",
       "       [0., 1.]])"
      ]
     },
     "execution_count": 26,
     "metadata": {},
     "output_type": "execute_result"
    }
   ],
   "source": [
    "sizes = df[['sizes']]\n",
    "sizes_encoder = OneHotEncoder(sparse=False)\n",
    "sizes_categories = sizes_encoder.fit_transform(sizes)\n",
    "sizes_categories"
   ]
  },
  {
   "cell_type": "code",
   "execution_count": 27,
   "metadata": {
    "colab": {
     "base_uri": "https://localhost:8080/"
    },
    "id": "5cEGTj0VrRRf",
    "outputId": "a0b84abe-eba0-4c31-8def-6f0ab0f6ed92"
   },
   "outputs": [
    {
     "data": {
      "text/plain": [
       "[array(['xs,s,m,l,xl', 'xxs,xs,s,m,l,xl,xxl'], dtype=object)]"
      ]
     },
     "execution_count": 27,
     "metadata": {},
     "output_type": "execute_result"
    }
   ],
   "source": [
    "sizes_encoder.categories_"
   ]
  },
  {
   "cell_type": "code",
   "execution_count": 28,
   "metadata": {
    "id": "z_TwgP6qtCX-"
   },
   "outputs": [],
   "source": [
    "sizes_encoded = pd.DataFrame(sizes_categories , columns=['xs,s,m,l,xl', 'xxs,xs,s,m,l,xl,xxl'])"
   ]
  },
  {
   "cell_type": "code",
   "execution_count": 29,
   "metadata": {
    "colab": {
     "base_uri": "https://localhost:8080/",
     "height": 0
    },
    "id": "YylWue5vtBe5",
    "outputId": "721e21b6-367d-4b30-ec93-28b66279e4bb"
   },
   "outputs": [
    {
     "data": {
      "text/html": [
       "<div>\n",
       "<style scoped>\n",
       "    .dataframe tbody tr th:only-of-type {\n",
       "        vertical-align: middle;\n",
       "    }\n",
       "\n",
       "    .dataframe tbody tr th {\n",
       "        vertical-align: top;\n",
       "    }\n",
       "\n",
       "    .dataframe thead th {\n",
       "        text-align: right;\n",
       "    }\n",
       "</style>\n",
       "<table border=\"1\" class=\"dataframe\">\n",
       "  <thead>\n",
       "    <tr style=\"text-align: right;\">\n",
       "      <th></th>\n",
       "      <th>xs,s,m,l,xl</th>\n",
       "      <th>xxs,xs,s,m,l,xl,xxl</th>\n",
       "    </tr>\n",
       "  </thead>\n",
       "  <tbody>\n",
       "    <tr>\n",
       "      <th>0</th>\n",
       "      <td>0.0</td>\n",
       "      <td>1.0</td>\n",
       "    </tr>\n",
       "    <tr>\n",
       "      <th>1</th>\n",
       "      <td>0.0</td>\n",
       "      <td>1.0</td>\n",
       "    </tr>\n",
       "    <tr>\n",
       "      <th>2</th>\n",
       "      <td>0.0</td>\n",
       "      <td>1.0</td>\n",
       "    </tr>\n",
       "    <tr>\n",
       "      <th>3</th>\n",
       "      <td>0.0</td>\n",
       "      <td>1.0</td>\n",
       "    </tr>\n",
       "    <tr>\n",
       "      <th>4</th>\n",
       "      <td>0.0</td>\n",
       "      <td>1.0</td>\n",
       "    </tr>\n",
       "  </tbody>\n",
       "</table>\n",
       "</div>"
      ],
      "text/plain": [
       "   xs,s,m,l,xl  xxs,xs,s,m,l,xl,xxl\n",
       "0          0.0                  1.0\n",
       "1          0.0                  1.0\n",
       "2          0.0                  1.0\n",
       "3          0.0                  1.0\n",
       "4          0.0                  1.0"
      ]
     },
     "execution_count": 29,
     "metadata": {},
     "output_type": "execute_result"
    }
   ],
   "source": [
    "sizes_encoded.head()"
   ]
  },
  {
   "cell_type": "markdown",
   "metadata": {
    "id": "4hCL8DPGtSKj"
   },
   "source": [
    "### 6- gender_column"
   ]
  },
  {
   "cell_type": "code",
   "execution_count": 30,
   "metadata": {
    "colab": {
     "base_uri": "https://localhost:8080/"
    },
    "id": "TXjEcz-JtREL",
    "outputId": "644b3780-c325-4ff8-879d-3c69f92ef5fc"
   },
   "outputs": [
    {
     "data": {
      "text/plain": [
       "array([[0., 0., 0., 1.],\n",
       "       [0., 0., 0., 1.],\n",
       "       [0., 0., 0., 1.],\n",
       "       ...,\n",
       "       [0., 0., 0., 1.],\n",
       "       [0., 0., 0., 1.],\n",
       "       [0., 1., 0., 0.]])"
      ]
     },
     "execution_count": 30,
     "metadata": {},
     "output_type": "execute_result"
    }
   ],
   "source": [
    "gender = df[['gender']]\n",
    "gender_encoder = OneHotEncoder(sparse=False)\n",
    "gender_categories = gender_encoder.fit_transform(gender)\n",
    "gender_categories\n"
   ]
  },
  {
   "cell_type": "code",
   "execution_count": 31,
   "metadata": {
    "colab": {
     "base_uri": "https://localhost:8080/"
    },
    "id": "2TWI9DzxtsHS",
    "outputId": "4a858458-7c76-4da3-b288-3dadbca978c5"
   },
   "outputs": [
    {
     "data": {
      "text/plain": [
       "[array(['kids', 'men', 'unisex', 'women'], dtype=object)]"
      ]
     },
     "execution_count": 31,
     "metadata": {},
     "output_type": "execute_result"
    }
   ],
   "source": [
    "gender_encoder.categories_"
   ]
  },
  {
   "cell_type": "code",
   "execution_count": 32,
   "metadata": {
    "id": "Jre273jft6PG"
   },
   "outputs": [],
   "source": [
    "gender_encoded = pd.DataFrame(gender_categories , columns=['kids', 'men', 'unisex', 'women'])"
   ]
  },
  {
   "cell_type": "code",
   "execution_count": 33,
   "metadata": {
    "colab": {
     "base_uri": "https://localhost:8080/",
     "height": 0
    },
    "id": "EJTlbGt_uIkb",
    "outputId": "e85a0907-8adf-415d-b94f-799850ba6109"
   },
   "outputs": [
    {
     "data": {
      "text/html": [
       "<div>\n",
       "<style scoped>\n",
       "    .dataframe tbody tr th:only-of-type {\n",
       "        vertical-align: middle;\n",
       "    }\n",
       "\n",
       "    .dataframe tbody tr th {\n",
       "        vertical-align: top;\n",
       "    }\n",
       "\n",
       "    .dataframe thead th {\n",
       "        text-align: right;\n",
       "    }\n",
       "</style>\n",
       "<table border=\"1\" class=\"dataframe\">\n",
       "  <thead>\n",
       "    <tr style=\"text-align: right;\">\n",
       "      <th></th>\n",
       "      <th>kids</th>\n",
       "      <th>men</th>\n",
       "      <th>unisex</th>\n",
       "      <th>women</th>\n",
       "    </tr>\n",
       "  </thead>\n",
       "  <tbody>\n",
       "    <tr>\n",
       "      <th>0</th>\n",
       "      <td>0.0</td>\n",
       "      <td>0.0</td>\n",
       "      <td>0.0</td>\n",
       "      <td>1.0</td>\n",
       "    </tr>\n",
       "    <tr>\n",
       "      <th>1</th>\n",
       "      <td>0.0</td>\n",
       "      <td>0.0</td>\n",
       "      <td>0.0</td>\n",
       "      <td>1.0</td>\n",
       "    </tr>\n",
       "    <tr>\n",
       "      <th>2</th>\n",
       "      <td>0.0</td>\n",
       "      <td>0.0</td>\n",
       "      <td>0.0</td>\n",
       "      <td>1.0</td>\n",
       "    </tr>\n",
       "    <tr>\n",
       "      <th>3</th>\n",
       "      <td>1.0</td>\n",
       "      <td>0.0</td>\n",
       "      <td>0.0</td>\n",
       "      <td>0.0</td>\n",
       "    </tr>\n",
       "    <tr>\n",
       "      <th>4</th>\n",
       "      <td>0.0</td>\n",
       "      <td>0.0</td>\n",
       "      <td>0.0</td>\n",
       "      <td>1.0</td>\n",
       "    </tr>\n",
       "  </tbody>\n",
       "</table>\n",
       "</div>"
      ],
      "text/plain": [
       "   kids  men  unisex  women\n",
       "0   0.0  0.0     0.0    1.0\n",
       "1   0.0  0.0     0.0    1.0\n",
       "2   0.0  0.0     0.0    1.0\n",
       "3   1.0  0.0     0.0    0.0\n",
       "4   0.0  0.0     0.0    1.0"
      ]
     },
     "execution_count": 33,
     "metadata": {},
     "output_type": "execute_result"
    }
   ],
   "source": [
    "gender_encoded.head()"
   ]
  },
  {
   "cell_type": "markdown",
   "metadata": {
    "id": "vPigOZ6TuLsZ"
   },
   "source": [
    "# Concatenating to  original dataset"
   ]
  },
  {
   "cell_type": "code",
   "execution_count": 34,
   "metadata": {
    "id": "wUCY8xq-uJ7v"
   },
   "outputs": [],
   "source": [
    "new_df = pd.concat([df ,country_encoded, product_encoded, category_encoded ,gender_encoded ,sizes_encoded , style_encoded] , axis=1)"
   ]
  },
  {
   "cell_type": "code",
   "execution_count": 35,
   "metadata": {
    "colab": {
     "base_uri": "https://localhost:8080/"
    },
    "id": "sj1kugSxw11w",
    "outputId": "91df49d0-d135-400a-a058-8008f16c7dec"
   },
   "outputs": [
    {
     "data": {
      "text/plain": [
       "Index(['country', 'sales', 'regular_price', 'current_price', 'ratio', 'promo1',\n",
       "       'promo2', 'productgroup', 'category', 'cost', 'style', 'sizes',\n",
       "       'gender', 'label', 'Austria', 'France', 'Germany',\n",
       "       'HARDWARE ACCESSORIES', 'SHOES', 'SHORTS', 'SWEATSHIRTS',\n",
       "       'FOOTBALL GENERIC', 'GOLF', 'INDOOR', 'RELAX CASUAL', 'RUNNING',\n",
       "       'TRAINING', 'kids', 'men', 'unisex', 'women', 'xs,s,m,l,xl',\n",
       "       'xxs,xs,s,m,l,xl,xxl', 'regular', 'slim', 'wide'],\n",
       "      dtype='object')"
      ]
     },
     "execution_count": 35,
     "metadata": {},
     "output_type": "execute_result"
    }
   ],
   "source": [
    "new_df.columns"
   ]
  },
  {
   "cell_type": "code",
   "execution_count": 36,
   "metadata": {
    "id": "kxRgdgcu_5-L"
   },
   "outputs": [],
   "source": [
    "removedColumns = ['country' , 'productgroup' , 'category' , 'style' , 'sizes' , 'gender', 'regular_price', 'current_price' ]\n",
    "\n",
    "for m in removedColumns:\n",
    "  new_df.pop(m)"
   ]
  },
  {
   "cell_type": "code",
   "execution_count": 37,
   "metadata": {},
   "outputs": [
    {
     "data": {
      "text/html": [
       "<div>\n",
       "<style scoped>\n",
       "    .dataframe tbody tr th:only-of-type {\n",
       "        vertical-align: middle;\n",
       "    }\n",
       "\n",
       "    .dataframe tbody tr th {\n",
       "        vertical-align: top;\n",
       "    }\n",
       "\n",
       "    .dataframe thead th {\n",
       "        text-align: right;\n",
       "    }\n",
       "</style>\n",
       "<table border=\"1\" class=\"dataframe\">\n",
       "  <thead>\n",
       "    <tr style=\"text-align: right;\">\n",
       "      <th></th>\n",
       "      <th>sales</th>\n",
       "      <th>ratio</th>\n",
       "      <th>promo1</th>\n",
       "      <th>promo2</th>\n",
       "      <th>cost</th>\n",
       "      <th>label</th>\n",
       "      <th>Austria</th>\n",
       "      <th>France</th>\n",
       "      <th>Germany</th>\n",
       "      <th>HARDWARE ACCESSORIES</th>\n",
       "      <th>...</th>\n",
       "      <th>TRAINING</th>\n",
       "      <th>kids</th>\n",
       "      <th>men</th>\n",
       "      <th>unisex</th>\n",
       "      <th>women</th>\n",
       "      <th>xs,s,m,l,xl</th>\n",
       "      <th>xxs,xs,s,m,l,xl,xxl</th>\n",
       "      <th>regular</th>\n",
       "      <th>slim</th>\n",
       "      <th>wide</th>\n",
       "    </tr>\n",
       "  </thead>\n",
       "  <tbody>\n",
       "    <tr>\n",
       "      <th>0</th>\n",
       "      <td>28</td>\n",
       "      <td>0.663866</td>\n",
       "      <td>0</td>\n",
       "      <td>0</td>\n",
       "      <td>13.29</td>\n",
       "      <td>0</td>\n",
       "      <td>0.0</td>\n",
       "      <td>0.0</td>\n",
       "      <td>1.0</td>\n",
       "      <td>0.0</td>\n",
       "      <td>...</td>\n",
       "      <td>1.0</td>\n",
       "      <td>0.0</td>\n",
       "      <td>0.0</td>\n",
       "      <td>0.0</td>\n",
       "      <td>1.0</td>\n",
       "      <td>0.0</td>\n",
       "      <td>1.0</td>\n",
       "      <td>0.0</td>\n",
       "      <td>1.0</td>\n",
       "      <td>0.0</td>\n",
       "    </tr>\n",
       "    <tr>\n",
       "      <th>1</th>\n",
       "      <td>28</td>\n",
       "      <td>0.663866</td>\n",
       "      <td>0</td>\n",
       "      <td>0</td>\n",
       "      <td>2.29</td>\n",
       "      <td>0</td>\n",
       "      <td>0.0</td>\n",
       "      <td>0.0</td>\n",
       "      <td>1.0</td>\n",
       "      <td>0.0</td>\n",
       "      <td>...</td>\n",
       "      <td>1.0</td>\n",
       "      <td>0.0</td>\n",
       "      <td>0.0</td>\n",
       "      <td>0.0</td>\n",
       "      <td>1.0</td>\n",
       "      <td>0.0</td>\n",
       "      <td>1.0</td>\n",
       "      <td>1.0</td>\n",
       "      <td>0.0</td>\n",
       "      <td>0.0</td>\n",
       "    </tr>\n",
       "    <tr>\n",
       "      <th>2</th>\n",
       "      <td>28</td>\n",
       "      <td>0.663866</td>\n",
       "      <td>0</td>\n",
       "      <td>0</td>\n",
       "      <td>1.70</td>\n",
       "      <td>0</td>\n",
       "      <td>0.0</td>\n",
       "      <td>0.0</td>\n",
       "      <td>1.0</td>\n",
       "      <td>1.0</td>\n",
       "      <td>...</td>\n",
       "      <td>0.0</td>\n",
       "      <td>0.0</td>\n",
       "      <td>0.0</td>\n",
       "      <td>0.0</td>\n",
       "      <td>1.0</td>\n",
       "      <td>0.0</td>\n",
       "      <td>1.0</td>\n",
       "      <td>1.0</td>\n",
       "      <td>0.0</td>\n",
       "      <td>0.0</td>\n",
       "    </tr>\n",
       "    <tr>\n",
       "      <th>3</th>\n",
       "      <td>28</td>\n",
       "      <td>0.663866</td>\n",
       "      <td>0</td>\n",
       "      <td>0</td>\n",
       "      <td>9.00</td>\n",
       "      <td>0</td>\n",
       "      <td>0.0</td>\n",
       "      <td>0.0</td>\n",
       "      <td>1.0</td>\n",
       "      <td>0.0</td>\n",
       "      <td>...</td>\n",
       "      <td>0.0</td>\n",
       "      <td>1.0</td>\n",
       "      <td>0.0</td>\n",
       "      <td>0.0</td>\n",
       "      <td>0.0</td>\n",
       "      <td>0.0</td>\n",
       "      <td>1.0</td>\n",
       "      <td>1.0</td>\n",
       "      <td>0.0</td>\n",
       "      <td>0.0</td>\n",
       "    </tr>\n",
       "    <tr>\n",
       "      <th>4</th>\n",
       "      <td>28</td>\n",
       "      <td>0.663866</td>\n",
       "      <td>0</td>\n",
       "      <td>0</td>\n",
       "      <td>9.60</td>\n",
       "      <td>0</td>\n",
       "      <td>0.0</td>\n",
       "      <td>0.0</td>\n",
       "      <td>1.0</td>\n",
       "      <td>0.0</td>\n",
       "      <td>...</td>\n",
       "      <td>0.0</td>\n",
       "      <td>0.0</td>\n",
       "      <td>0.0</td>\n",
       "      <td>0.0</td>\n",
       "      <td>1.0</td>\n",
       "      <td>0.0</td>\n",
       "      <td>1.0</td>\n",
       "      <td>1.0</td>\n",
       "      <td>0.0</td>\n",
       "      <td>0.0</td>\n",
       "    </tr>\n",
       "    <tr>\n",
       "      <th>...</th>\n",
       "      <td>...</td>\n",
       "      <td>...</td>\n",
       "      <td>...</td>\n",
       "      <td>...</td>\n",
       "      <td>...</td>\n",
       "      <td>...</td>\n",
       "      <td>...</td>\n",
       "      <td>...</td>\n",
       "      <td>...</td>\n",
       "      <td>...</td>\n",
       "      <td>...</td>\n",
       "      <td>...</td>\n",
       "      <td>...</td>\n",
       "      <td>...</td>\n",
       "      <td>...</td>\n",
       "      <td>...</td>\n",
       "      <td>...</td>\n",
       "      <td>...</td>\n",
       "      <td>...</td>\n",
       "      <td>...</td>\n",
       "      <td>...</td>\n",
       "    </tr>\n",
       "    <tr>\n",
       "      <th>99995</th>\n",
       "      <td>227</td>\n",
       "      <td>0.465056</td>\n",
       "      <td>0</td>\n",
       "      <td>0</td>\n",
       "      <td>4.20</td>\n",
       "      <td>0</td>\n",
       "      <td>0.0</td>\n",
       "      <td>0.0</td>\n",
       "      <td>1.0</td>\n",
       "      <td>0.0</td>\n",
       "      <td>...</td>\n",
       "      <td>1.0</td>\n",
       "      <td>0.0</td>\n",
       "      <td>0.0</td>\n",
       "      <td>0.0</td>\n",
       "      <td>1.0</td>\n",
       "      <td>0.0</td>\n",
       "      <td>1.0</td>\n",
       "      <td>0.0</td>\n",
       "      <td>0.0</td>\n",
       "      <td>1.0</td>\n",
       "    </tr>\n",
       "    <tr>\n",
       "      <th>99996</th>\n",
       "      <td>227</td>\n",
       "      <td>0.465056</td>\n",
       "      <td>0</td>\n",
       "      <td>0</td>\n",
       "      <td>9.90</td>\n",
       "      <td>0</td>\n",
       "      <td>0.0</td>\n",
       "      <td>0.0</td>\n",
       "      <td>1.0</td>\n",
       "      <td>0.0</td>\n",
       "      <td>...</td>\n",
       "      <td>0.0</td>\n",
       "      <td>0.0</td>\n",
       "      <td>0.0</td>\n",
       "      <td>1.0</td>\n",
       "      <td>0.0</td>\n",
       "      <td>1.0</td>\n",
       "      <td>0.0</td>\n",
       "      <td>0.0</td>\n",
       "      <td>0.0</td>\n",
       "      <td>1.0</td>\n",
       "    </tr>\n",
       "    <tr>\n",
       "      <th>99997</th>\n",
       "      <td>227</td>\n",
       "      <td>0.465056</td>\n",
       "      <td>0</td>\n",
       "      <td>0</td>\n",
       "      <td>5.20</td>\n",
       "      <td>0</td>\n",
       "      <td>0.0</td>\n",
       "      <td>0.0</td>\n",
       "      <td>1.0</td>\n",
       "      <td>0.0</td>\n",
       "      <td>...</td>\n",
       "      <td>0.0</td>\n",
       "      <td>0.0</td>\n",
       "      <td>0.0</td>\n",
       "      <td>0.0</td>\n",
       "      <td>1.0</td>\n",
       "      <td>0.0</td>\n",
       "      <td>1.0</td>\n",
       "      <td>0.0</td>\n",
       "      <td>0.0</td>\n",
       "      <td>1.0</td>\n",
       "    </tr>\n",
       "    <tr>\n",
       "      <th>99998</th>\n",
       "      <td>227</td>\n",
       "      <td>0.465056</td>\n",
       "      <td>0</td>\n",
       "      <td>0</td>\n",
       "      <td>1.29</td>\n",
       "      <td>0</td>\n",
       "      <td>0.0</td>\n",
       "      <td>0.0</td>\n",
       "      <td>1.0</td>\n",
       "      <td>1.0</td>\n",
       "      <td>...</td>\n",
       "      <td>0.0</td>\n",
       "      <td>0.0</td>\n",
       "      <td>0.0</td>\n",
       "      <td>0.0</td>\n",
       "      <td>1.0</td>\n",
       "      <td>0.0</td>\n",
       "      <td>1.0</td>\n",
       "      <td>0.0</td>\n",
       "      <td>1.0</td>\n",
       "      <td>0.0</td>\n",
       "    </tr>\n",
       "    <tr>\n",
       "      <th>99999</th>\n",
       "      <td>227</td>\n",
       "      <td>0.465056</td>\n",
       "      <td>0</td>\n",
       "      <td>0</td>\n",
       "      <td>8.70</td>\n",
       "      <td>0</td>\n",
       "      <td>0.0</td>\n",
       "      <td>0.0</td>\n",
       "      <td>1.0</td>\n",
       "      <td>0.0</td>\n",
       "      <td>...</td>\n",
       "      <td>0.0</td>\n",
       "      <td>0.0</td>\n",
       "      <td>1.0</td>\n",
       "      <td>0.0</td>\n",
       "      <td>0.0</td>\n",
       "      <td>0.0</td>\n",
       "      <td>1.0</td>\n",
       "      <td>1.0</td>\n",
       "      <td>0.0</td>\n",
       "      <td>0.0</td>\n",
       "    </tr>\n",
       "  </tbody>\n",
       "</table>\n",
       "<p>100000 rows × 28 columns</p>\n",
       "</div>"
      ],
      "text/plain": [
       "       sales     ratio  promo1  promo2   cost  label  Austria  France  \\\n",
       "0         28  0.663866       0       0  13.29      0      0.0     0.0   \n",
       "1         28  0.663866       0       0   2.29      0      0.0     0.0   \n",
       "2         28  0.663866       0       0   1.70      0      0.0     0.0   \n",
       "3         28  0.663866       0       0   9.00      0      0.0     0.0   \n",
       "4         28  0.663866       0       0   9.60      0      0.0     0.0   \n",
       "...      ...       ...     ...     ...    ...    ...      ...     ...   \n",
       "99995    227  0.465056       0       0   4.20      0      0.0     0.0   \n",
       "99996    227  0.465056       0       0   9.90      0      0.0     0.0   \n",
       "99997    227  0.465056       0       0   5.20      0      0.0     0.0   \n",
       "99998    227  0.465056       0       0   1.29      0      0.0     0.0   \n",
       "99999    227  0.465056       0       0   8.70      0      0.0     0.0   \n",
       "\n",
       "       Germany  HARDWARE ACCESSORIES  ...  TRAINING  kids  men  unisex  women  \\\n",
       "0          1.0                   0.0  ...       1.0   0.0  0.0     0.0    1.0   \n",
       "1          1.0                   0.0  ...       1.0   0.0  0.0     0.0    1.0   \n",
       "2          1.0                   1.0  ...       0.0   0.0  0.0     0.0    1.0   \n",
       "3          1.0                   0.0  ...       0.0   1.0  0.0     0.0    0.0   \n",
       "4          1.0                   0.0  ...       0.0   0.0  0.0     0.0    1.0   \n",
       "...        ...                   ...  ...       ...   ...  ...     ...    ...   \n",
       "99995      1.0                   0.0  ...       1.0   0.0  0.0     0.0    1.0   \n",
       "99996      1.0                   0.0  ...       0.0   0.0  0.0     1.0    0.0   \n",
       "99997      1.0                   0.0  ...       0.0   0.0  0.0     0.0    1.0   \n",
       "99998      1.0                   1.0  ...       0.0   0.0  0.0     0.0    1.0   \n",
       "99999      1.0                   0.0  ...       0.0   0.0  1.0     0.0    0.0   \n",
       "\n",
       "       xs,s,m,l,xl  xxs,xs,s,m,l,xl,xxl  regular  slim  wide  \n",
       "0              0.0                  1.0      0.0   1.0   0.0  \n",
       "1              0.0                  1.0      1.0   0.0   0.0  \n",
       "2              0.0                  1.0      1.0   0.0   0.0  \n",
       "3              0.0                  1.0      1.0   0.0   0.0  \n",
       "4              0.0                  1.0      1.0   0.0   0.0  \n",
       "...            ...                  ...      ...   ...   ...  \n",
       "99995          0.0                  1.0      0.0   0.0   1.0  \n",
       "99996          1.0                  0.0      0.0   0.0   1.0  \n",
       "99997          0.0                  1.0      0.0   0.0   1.0  \n",
       "99998          0.0                  1.0      0.0   1.0   0.0  \n",
       "99999          0.0                  1.0      1.0   0.0   0.0  \n",
       "\n",
       "[100000 rows x 28 columns]"
      ]
     },
     "execution_count": 37,
     "metadata": {},
     "output_type": "execute_result"
    }
   ],
   "source": [
    "new_df"
   ]
  },
  {
   "cell_type": "markdown",
   "metadata": {
    "id": "MhckM2yS-MYJ"
   },
   "source": [
    "# Machine Learning Algorithm "
   ]
  },
  {
   "cell_type": "code",
   "execution_count": 38,
   "metadata": {
    "id": "oVGdrP9l-RKE"
   },
   "outputs": [],
   "source": [
    "X = new_df.drop('label', axis=1)\n",
    "y = new_df['label']"
   ]
  },
  {
   "cell_type": "code",
   "execution_count": 39,
   "metadata": {
    "id": "dGi7drPF-bYm"
   },
   "outputs": [],
   "source": [
    "#Scaling the data for Auto-Encoder \n",
    "X_scaled = MinMaxScaler().fit_transform(X)\n",
    "X_buy_scaled = X_scaled[y == 0]\n",
    "X_not_buy_scaled = X_scaled[y == 1]"
   ]
  },
  {
   "cell_type": "code",
   "execution_count": 40,
   "metadata": {
    "id": "ptGCC_Ut_V2l"
   },
   "outputs": [],
   "source": [
    "# The Input Layer\n",
    "input_layer = Input(shape =(X.shape[1], ))\n",
    "  \n",
    "# The Encoder network\n",
    "encoded = Dense(100, activation ='tanh',\n",
    "                activity_regularizer = regularizers.l1(10e-5))(input_layer)\n",
    "encoded = Dense(50, activation ='tanh',\n",
    "                activity_regularizer = regularizers.l1(10e-5))(encoded)\n",
    "encoded = Dense(25, activation ='tanh',\n",
    "                activity_regularizer = regularizers.l1(10e-5))(encoded)\n",
    "encoded = Dense(12, activation ='tanh',\n",
    "                activity_regularizer = regularizers.l1(10e-5))(encoded)\n",
    "encoded = Dense(6, activation ='relu')(encoded)\n",
    "  \n",
    "# The Decoder network\n",
    "decoded = Dense(12, activation ='tanh')(encoded)\n",
    "decoded = Dense(25, activation ='tanh')(decoded)\n",
    "decoded = Dense(50, activation ='tanh')(decoded)\n",
    "decoded = Dense(100, activation ='tanh')(decoded)\n",
    "  \n",
    "# The Output Layer\n",
    "output_layer = Dense(X.shape[1], activation ='relu')(decoded)"
   ]
  },
  {
   "cell_type": "code",
   "execution_count": 41,
   "metadata": {
    "colab": {
     "base_uri": "https://localhost:8080/"
    },
    "id": "GSpu3NGFAbI7",
    "outputId": "6154d25f-195f-426b-d40b-baccf504d8a7"
   },
   "outputs": [
    {
     "name": "stdout",
     "output_type": "stream",
     "text": [
      "Epoch 1/75\n",
      "4304/4304 [==============================] - 28s 6ms/step - loss: 0.2030 - val_loss: 0.1908\n",
      "Epoch 2/75\n",
      "4304/4304 [==============================] - 24s 5ms/step - loss: 0.1873 - val_loss: 0.1841\n",
      "Epoch 3/75\n",
      "4304/4304 [==============================] - 23s 5ms/step - loss: 0.1809 - val_loss: 0.1779\n",
      "Epoch 4/75\n",
      "4304/4304 [==============================] - 23s 5ms/step - loss: 0.1753 - val_loss: 0.1726\n",
      "Epoch 5/75\n",
      "4304/4304 [==============================] - 23s 5ms/step - loss: 0.1695 - val_loss: 0.1669\n",
      "Epoch 6/75\n",
      "4304/4304 [==============================] - 22s 5ms/step - loss: 0.1646 - val_loss: 0.1622\n",
      "Epoch 7/75\n",
      "4304/4304 [==============================] - 22s 5ms/step - loss: 0.1597 - val_loss: 0.1579\n",
      "Epoch 8/75\n",
      "4304/4304 [==============================] - 23s 5ms/step - loss: 0.1560 - val_loss: 0.1545\n",
      "Epoch 9/75\n",
      "4304/4304 [==============================] - 23s 5ms/step - loss: 0.1525 - val_loss: 0.1510\n",
      "Epoch 10/75\n",
      "4304/4304 [==============================] - 23s 5ms/step - loss: 0.1493 - val_loss: 0.1482\n",
      "Epoch 11/75\n",
      "4304/4304 [==============================] - 24s 6ms/step - loss: 0.1467 - val_loss: 0.1458\n",
      "Epoch 12/75\n",
      "4304/4304 [==============================] - 23s 5ms/step - loss: 0.1444 - val_loss: 0.1435\n",
      "Epoch 13/75\n",
      "4304/4304 [==============================] - 23s 5ms/step - loss: 0.1421 - val_loss: 0.1411\n",
      "Epoch 14/75\n",
      "4304/4304 [==============================] - 23s 5ms/step - loss: 0.1395 - val_loss: 0.1385\n",
      "Epoch 15/75\n",
      "4304/4304 [==============================] - 24s 6ms/step - loss: 0.1370 - val_loss: 0.1362\n",
      "Epoch 16/75\n",
      "4304/4304 [==============================] - 22s 5ms/step - loss: 0.1346 - val_loss: 0.1335\n",
      "Epoch 17/75\n",
      "4304/4304 [==============================] - 22s 5ms/step - loss: 0.1320 - val_loss: 0.1312\n",
      "Epoch 18/75\n",
      "4304/4304 [==============================] - 22s 5ms/step - loss: 0.1297 - val_loss: 0.1290\n",
      "Epoch 19/75\n",
      "4304/4304 [==============================] - 22s 5ms/step - loss: 0.1278 - val_loss: 0.1274\n",
      "Epoch 20/75\n",
      "4304/4304 [==============================] - 22s 5ms/step - loss: 0.1262 - val_loss: 0.1257\n",
      "Epoch 21/75\n",
      "4304/4304 [==============================] - 22s 5ms/step - loss: 0.1247 - val_loss: 0.1243\n",
      "Epoch 22/75\n",
      "4304/4304 [==============================] - 23s 5ms/step - loss: 0.1234 - val_loss: 0.1232\n",
      "Epoch 23/75\n",
      "4304/4304 [==============================] - 22s 5ms/step - loss: 0.1224 - val_loss: 0.1222\n",
      "Epoch 24/75\n",
      "4304/4304 [==============================] - 23s 5ms/step - loss: 0.1213 - val_loss: 0.1212\n",
      "Epoch 25/75\n",
      "4304/4304 [==============================] - 23s 5ms/step - loss: 0.1204 - val_loss: 0.1203\n",
      "Epoch 26/75\n",
      "4304/4304 [==============================] - 22s 5ms/step - loss: 0.1196 - val_loss: 0.1195\n",
      "Epoch 27/75\n",
      "4304/4304 [==============================] - 21s 5ms/step - loss: 0.1188 - val_loss: 0.1188\n",
      "Epoch 28/75\n",
      "4304/4304 [==============================] - 22s 5ms/step - loss: 0.1181 - val_loss: 0.1180\n",
      "Epoch 29/75\n",
      "4304/4304 [==============================] - 22s 5ms/step - loss: 0.1174 - val_loss: 0.1173\n",
      "Epoch 30/75\n",
      "4304/4304 [==============================] - 23s 5ms/step - loss: 0.1167 - val_loss: 0.1166\n",
      "Epoch 31/75\n",
      "4304/4304 [==============================] - 22s 5ms/step - loss: 0.1160 - val_loss: 0.1160\n",
      "Epoch 32/75\n",
      "4304/4304 [==============================] - 21s 5ms/step - loss: 0.1154 - val_loss: 0.1154\n",
      "Epoch 33/75\n",
      "4304/4304 [==============================] - 22s 5ms/step - loss: 0.1148 - val_loss: 0.1148\n",
      "Epoch 34/75\n",
      "4304/4304 [==============================] - 22s 5ms/step - loss: 0.1142 - val_loss: 0.1142\n",
      "Epoch 35/75\n",
      "4304/4304 [==============================] - 23s 5ms/step - loss: 0.1136 - val_loss: 0.1137\n",
      "Epoch 36/75\n",
      "4304/4304 [==============================] - 26s 6ms/step - loss: 0.1131 - val_loss: 0.1131\n",
      "Epoch 37/75\n",
      "4304/4304 [==============================] - 24s 6ms/step - loss: 0.1126 - val_loss: 0.1126\n",
      "Epoch 38/75\n",
      "4304/4304 [==============================] - 24s 6ms/step - loss: 0.1121 - val_loss: 0.1122\n",
      "Epoch 39/75\n",
      "4304/4304 [==============================] - 27s 6ms/step - loss: 0.1116 - val_loss: 0.1117\n",
      "Epoch 40/75\n",
      "4304/4304 [==============================] - 25s 6ms/step - loss: 0.1112 - val_loss: 0.1113\n",
      "Epoch 41/75\n",
      "4304/4304 [==============================] - 24s 6ms/step - loss: 0.1108 - val_loss: 0.1109\n",
      "Epoch 42/75\n",
      "4304/4304 [==============================] - 23s 5ms/step - loss: 0.1104 - val_loss: 0.1105\n",
      "Epoch 43/75\n",
      "4304/4304 [==============================] - 24s 5ms/step - loss: 0.1100 - val_loss: 0.1101\n",
      "Epoch 44/75\n",
      "4304/4304 [==============================] - 23s 5ms/step - loss: 0.1093 - val_loss: 0.1086\n",
      "Epoch 45/75\n",
      "4304/4304 [==============================] - 23s 5ms/step - loss: 0.1061 - val_loss: 0.1037\n",
      "Epoch 46/75\n",
      "4304/4304 [==============================] - 24s 6ms/step - loss: 0.1004 - val_loss: 0.0987\n",
      "Epoch 47/75\n",
      "4304/4304 [==============================] - 22s 5ms/step - loss: 0.0960 - val_loss: 0.0939\n",
      "Epoch 48/75\n",
      "4304/4304 [==============================] - 24s 6ms/step - loss: 0.0921 - val_loss: 0.0912\n",
      "Epoch 49/75\n",
      "4304/4304 [==============================] - 24s 6ms/step - loss: 0.0902 - val_loss: 0.0898\n",
      "Epoch 50/75\n",
      "4304/4304 [==============================] - 24s 5ms/step - loss: 0.0891 - val_loss: 0.0889\n",
      "Epoch 51/75\n",
      "4304/4304 [==============================] - 23s 5ms/step - loss: 0.0883 - val_loss: 0.0882\n",
      "Epoch 52/75\n",
      "4304/4304 [==============================] - 23s 5ms/step - loss: 0.0877 - val_loss: 0.0876\n",
      "Epoch 53/75\n",
      "4304/4304 [==============================] - 22s 5ms/step - loss: 0.0871 - val_loss: 0.0872\n",
      "Epoch 54/75\n",
      "4304/4304 [==============================] - 23s 5ms/step - loss: 0.0867 - val_loss: 0.0867\n",
      "Epoch 55/75\n",
      "4304/4304 [==============================] - 23s 5ms/step - loss: 0.0863 - val_loss: 0.0863\n",
      "Epoch 56/75\n",
      "4304/4304 [==============================] - 22s 5ms/step - loss: 0.0859 - val_loss: 0.0859\n",
      "Epoch 57/75\n",
      "4304/4304 [==============================] - 22s 5ms/step - loss: 0.0855 - val_loss: 0.0856\n",
      "Epoch 58/75\n",
      "4304/4304 [==============================] - 22s 5ms/step - loss: 0.0852 - val_loss: 0.0853\n",
      "Epoch 59/75\n",
      "4304/4304 [==============================] - 22s 5ms/step - loss: 0.0849 - val_loss: 0.0850\n",
      "Epoch 60/75\n",
      "4304/4304 [==============================] - 23s 5ms/step - loss: 0.0847 - val_loss: 0.0848\n",
      "Epoch 61/75\n",
      "4304/4304 [==============================] - 23s 5ms/step - loss: 0.0836 - val_loss: 0.0807\n",
      "Epoch 62/75\n",
      "4304/4304 [==============================] - 23s 5ms/step - loss: 0.0664 - val_loss: 0.0567\n",
      "Epoch 63/75\n",
      "4304/4304 [==============================] - 22s 5ms/step - loss: 0.0542 - val_loss: 0.0533\n",
      "Epoch 64/75\n",
      "4304/4304 [==============================] - 22s 5ms/step - loss: 0.0527 - val_loss: 0.0526\n",
      "Epoch 65/75\n",
      "4304/4304 [==============================] - 22s 5ms/step - loss: 0.0522 - val_loss: 0.0523\n",
      "Epoch 66/75\n",
      "4304/4304 [==============================] - 22s 5ms/step - loss: 0.0519 - val_loss: 0.0520\n",
      "Epoch 67/75\n",
      "4304/4304 [==============================] - 23s 5ms/step - loss: 0.0516 - val_loss: 0.0517\n",
      "Epoch 68/75\n",
      "4304/4304 [==============================] - 22s 5ms/step - loss: 0.0514 - val_loss: 0.0515\n",
      "Epoch 69/75\n",
      "4304/4304 [==============================] - 22s 5ms/step - loss: 0.0512 - val_loss: 0.0513\n",
      "Epoch 70/75\n",
      "4304/4304 [==============================] - 22s 5ms/step - loss: 0.0510 - val_loss: 0.0511\n",
      "Epoch 71/75\n",
      "4304/4304 [==============================] - 23s 5ms/step - loss: 0.0508 - val_loss: 0.0509\n",
      "Epoch 72/75\n",
      "4304/4304 [==============================] - 22s 5ms/step - loss: 0.0506 - val_loss: 0.0507\n",
      "Epoch 73/75\n",
      "4304/4304 [==============================] - 22s 5ms/step - loss: 0.0504 - val_loss: 0.0505\n",
      "Epoch 74/75\n",
      "4304/4304 [==============================] - 22s 5ms/step - loss: 0.0502 - val_loss: 0.0504\n",
      "Epoch 75/75\n",
      "4304/4304 [==============================] - 22s 5ms/step - loss: 0.0501 - val_loss: 0.0502\n"
     ]
    },
    {
     "data": {
      "text/plain": [
       "<keras.callbacks.History at 0x17179b1b3d0>"
      ]
     },
     "execution_count": 41,
     "metadata": {},
     "output_type": "execute_result"
    }
   ],
   "source": [
    "# Defining the parameters of the Auto-encoder network\n",
    "autoencoder = Model(input_layer, output_layer)\n",
    "autoencoder.compile(optimizer =\"adadelta\", loss =\"mse\")\n",
    "  \n",
    "# Training the Auto-Encoder Network\n",
    "autoencoder.fit(X_buy_scaled, X_buy_scaled, \n",
    "                batch_size = 16, epochs = 75, \n",
    "                shuffle = True, validation_split = 0.20)"
   ]
  },
  {
   "cell_type": "code",
   "execution_count": 42,
   "metadata": {
    "id": "lCuA-zoiBC4f"
   },
   "outputs": [],
   "source": [
    "hidden_representation = Sequential()\n",
    "hidden_representation.add(autoencoder.layers[0])\n",
    "hidden_representation.add(autoencoder.layers[1])\n",
    "hidden_representation.add(autoencoder.layers[2])\n",
    "hidden_representation.add(autoencoder.layers[3])\n",
    "hidden_representation.add(autoencoder.layers[4])\n"
   ]
  },
  {
   "cell_type": "code",
   "execution_count": 43,
   "metadata": {
    "id": "ddg4WpGzBfGx"
   },
   "outputs": [],
   "source": [
    "buy_hidden_rep = hidden_representation.predict(X_buy_scaled)\n",
    "not_buy_hidden_rep = hidden_representation(X_not_buy_scaled)\n",
    "\n"
   ]
  },
  {
   "cell_type": "code",
   "execution_count": 44,
   "metadata": {
    "id": "Lq9cG9BWCclG"
   },
   "outputs": [],
   "source": [
    "encoded_X = np.append(buy_hidden_rep , not_buy_hidden_rep , axis = 0)\n",
    "y_buy = np.zeros(buy_hidden_rep.shape[0])\n",
    "y_not_buy = np.ones(not_buy_hidden_rep.shape[0])\n",
    "encoded_y = np.append(y_buy , y_not_buy)\n"
   ]
  },
  {
   "cell_type": "code",
   "execution_count": 45,
   "metadata": {
    "id": "mwZpD0MFDHrO"
   },
   "outputs": [],
   "source": [
    "X_train_encoded, X_test_encoded, y_train_encoded, y_test_encoded = train_test_split(encoded_X, encoded_y, test_size = 0.2)\n"
   ]
  },
  {
   "cell_type": "markdown",
   "metadata": {
    "id": "5YUOS-23E6Me"
   },
   "source": [
    "### Logistic regression"
   ]
  },
  {
   "cell_type": "code",
   "execution_count": 46,
   "metadata": {
    "id": "3-tIUofiDNpm"
   },
   "outputs": [
    {
     "name": "stderr",
     "output_type": "stream",
     "text": [
      "C:\\Users\\menna\\anaconda3\\lib\\site-packages\\sklearn\\linear_model\\_logistic.py:814: ConvergenceWarning: lbfgs failed to converge (status=1):\n",
      "STOP: TOTAL NO. of ITERATIONS REACHED LIMIT.\n",
      "\n",
      "Increase the number of iterations (max_iter) or scale the data as shown in:\n",
      "    https://scikit-learn.org/stable/modules/preprocessing.html\n",
      "Please also refer to the documentation for alternative solver options:\n",
      "    https://scikit-learn.org/stable/modules/linear_model.html#logistic-regression\n",
      "  n_iter_i = _check_optimize_result(\n"
     ]
    }
   ],
   "source": [
    "clf_LR = LogisticRegression(random_state=0).fit(X_train_encoded, y_train_encoded)"
   ]
  },
  {
   "cell_type": "code",
   "execution_count": 47,
   "metadata": {
    "colab": {
     "base_uri": "https://localhost:8080/"
    },
    "id": "__IYvC9lEgSh",
    "outputId": "a4832011-b630-4309-f712-1184b388b401"
   },
   "outputs": [
    {
     "data": {
      "text/plain": [
       "array([[17061,   111],\n",
       "       [ 2756,    72]], dtype=int64)"
      ]
     },
     "execution_count": 47,
     "metadata": {},
     "output_type": "execute_result"
    }
   ],
   "source": [
    "y_pred_LR = clf_LR.predict(X_test_encoded)\n",
    "confusion_matrix(y_test_encoded , y_pred_LR)"
   ]
  },
  {
   "cell_type": "code",
   "execution_count": 48,
   "metadata": {
    "colab": {
     "base_uri": "https://localhost:8080/"
    },
    "id": "khI24zqIEpcU",
    "outputId": "2e36c3d9-cf16-4f58-d8f3-dfd6f397beb0"
   },
   "outputs": [
    {
     "name": "stdout",
     "output_type": "stream",
     "text": [
      "0.85665\n"
     ]
    }
   ],
   "source": [
    "print(accuracy_score(y_test_encoded , y_pred_LR))"
   ]
  },
  {
   "cell_type": "code",
   "execution_count": 49,
   "metadata": {
    "id": "IWKx8aNlLT4K"
   },
   "outputs": [
    {
     "name": "stderr",
     "output_type": "stream",
     "text": [
      "C:\\Users\\menna\\anaconda3\\lib\\site-packages\\sklearn\\linear_model\\_logistic.py:814: ConvergenceWarning: lbfgs failed to converge (status=1):\n",
      "STOP: TOTAL NO. of ITERATIONS REACHED LIMIT.\n",
      "\n",
      "Increase the number of iterations (max_iter) or scale the data as shown in:\n",
      "    https://scikit-learn.org/stable/modules/preprocessing.html\n",
      "Please also refer to the documentation for alternative solver options:\n",
      "    https://scikit-learn.org/stable/modules/linear_model.html#logistic-regression\n",
      "  n_iter_i = _check_optimize_result(\n",
      "C:\\Users\\menna\\anaconda3\\lib\\site-packages\\sklearn\\linear_model\\_logistic.py:814: ConvergenceWarning: lbfgs failed to converge (status=1):\n",
      "STOP: TOTAL NO. of ITERATIONS REACHED LIMIT.\n",
      "\n",
      "Increase the number of iterations (max_iter) or scale the data as shown in:\n",
      "    https://scikit-learn.org/stable/modules/preprocessing.html\n",
      "Please also refer to the documentation for alternative solver options:\n",
      "    https://scikit-learn.org/stable/modules/linear_model.html#logistic-regression\n",
      "  n_iter_i = _check_optimize_result(\n",
      "C:\\Users\\menna\\anaconda3\\lib\\site-packages\\sklearn\\linear_model\\_logistic.py:814: ConvergenceWarning: lbfgs failed to converge (status=1):\n",
      "STOP: TOTAL NO. of ITERATIONS REACHED LIMIT.\n",
      "\n",
      "Increase the number of iterations (max_iter) or scale the data as shown in:\n",
      "    https://scikit-learn.org/stable/modules/preprocessing.html\n",
      "Please also refer to the documentation for alternative solver options:\n",
      "    https://scikit-learn.org/stable/modules/linear_model.html#logistic-regression\n",
      "  n_iter_i = _check_optimize_result(\n",
      "C:\\Users\\menna\\anaconda3\\lib\\site-packages\\sklearn\\linear_model\\_logistic.py:814: ConvergenceWarning: lbfgs failed to converge (status=1):\n",
      "STOP: TOTAL NO. of ITERATIONS REACHED LIMIT.\n",
      "\n",
      "Increase the number of iterations (max_iter) or scale the data as shown in:\n",
      "    https://scikit-learn.org/stable/modules/preprocessing.html\n",
      "Please also refer to the documentation for alternative solver options:\n",
      "    https://scikit-learn.org/stable/modules/linear_model.html#logistic-regression\n",
      "  n_iter_i = _check_optimize_result(\n",
      "C:\\Users\\menna\\anaconda3\\lib\\site-packages\\sklearn\\linear_model\\_logistic.py:814: ConvergenceWarning: lbfgs failed to converge (status=1):\n",
      "STOP: TOTAL NO. of ITERATIONS REACHED LIMIT.\n",
      "\n",
      "Increase the number of iterations (max_iter) or scale the data as shown in:\n",
      "    https://scikit-learn.org/stable/modules/preprocessing.html\n",
      "Please also refer to the documentation for alternative solver options:\n",
      "    https://scikit-learn.org/stable/modules/linear_model.html#logistic-regression\n",
      "  n_iter_i = _check_optimize_result(\n",
      "C:\\Users\\menna\\anaconda3\\lib\\site-packages\\sklearn\\linear_model\\_logistic.py:814: ConvergenceWarning: lbfgs failed to converge (status=1):\n",
      "STOP: TOTAL NO. of ITERATIONS REACHED LIMIT.\n",
      "\n",
      "Increase the number of iterations (max_iter) or scale the data as shown in:\n",
      "    https://scikit-learn.org/stable/modules/preprocessing.html\n",
      "Please also refer to the documentation for alternative solver options:\n",
      "    https://scikit-learn.org/stable/modules/linear_model.html#logistic-regression\n",
      "  n_iter_i = _check_optimize_result(\n",
      "C:\\Users\\menna\\anaconda3\\lib\\site-packages\\sklearn\\linear_model\\_logistic.py:814: ConvergenceWarning: lbfgs failed to converge (status=1):\n",
      "STOP: TOTAL NO. of ITERATIONS REACHED LIMIT.\n",
      "\n",
      "Increase the number of iterations (max_iter) or scale the data as shown in:\n",
      "    https://scikit-learn.org/stable/modules/preprocessing.html\n",
      "Please also refer to the documentation for alternative solver options:\n",
      "    https://scikit-learn.org/stable/modules/linear_model.html#logistic-regression\n",
      "  n_iter_i = _check_optimize_result(\n",
      "C:\\Users\\menna\\anaconda3\\lib\\site-packages\\sklearn\\linear_model\\_logistic.py:814: ConvergenceWarning: lbfgs failed to converge (status=1):\n",
      "STOP: TOTAL NO. of ITERATIONS REACHED LIMIT.\n",
      "\n",
      "Increase the number of iterations (max_iter) or scale the data as shown in:\n",
      "    https://scikit-learn.org/stable/modules/preprocessing.html\n",
      "Please also refer to the documentation for alternative solver options:\n",
      "    https://scikit-learn.org/stable/modules/linear_model.html#logistic-regression\n",
      "  n_iter_i = _check_optimize_result(\n",
      "C:\\Users\\menna\\anaconda3\\lib\\site-packages\\sklearn\\linear_model\\_logistic.py:814: ConvergenceWarning: lbfgs failed to converge (status=1):\n",
      "STOP: TOTAL NO. of ITERATIONS REACHED LIMIT.\n",
      "\n",
      "Increase the number of iterations (max_iter) or scale the data as shown in:\n",
      "    https://scikit-learn.org/stable/modules/preprocessing.html\n",
      "Please also refer to the documentation for alternative solver options:\n",
      "    https://scikit-learn.org/stable/modules/linear_model.html#logistic-regression\n",
      "  n_iter_i = _check_optimize_result(\n",
      "C:\\Users\\menna\\anaconda3\\lib\\site-packages\\sklearn\\linear_model\\_logistic.py:814: ConvergenceWarning: lbfgs failed to converge (status=1):\n",
      "STOP: TOTAL NO. of ITERATIONS REACHED LIMIT.\n",
      "\n",
      "Increase the number of iterations (max_iter) or scale the data as shown in:\n",
      "    https://scikit-learn.org/stable/modules/preprocessing.html\n",
      "Please also refer to the documentation for alternative solver options:\n",
      "    https://scikit-learn.org/stable/modules/linear_model.html#logistic-regression\n",
      "  n_iter_i = _check_optimize_result(\n"
     ]
    }
   ],
   "source": [
    "scores = cross_val_score(clf_LR, encoded_X, encoded_y, cv=20)"
   ]
  },
  {
   "cell_type": "code",
   "execution_count": 50,
   "metadata": {
    "colab": {
     "base_uri": "https://localhost:8080/"
    },
    "id": "tgC-zpCSLyf_",
    "outputId": "09d50bee-3db6-4a88-f98c-be18d047de46"
   },
   "outputs": [
    {
     "data": {
      "text/plain": [
       "array([0.8596, 0.8582, 0.8592, 0.859 , 0.858 , 0.86  , 0.8564, 0.8564,\n",
       "       0.8592, 0.8578, 0.86  , 0.8588, 0.8598, 0.8606, 0.8576, 0.857 ,\n",
       "       0.8584, 0.8586, 0.8574, 0.8604])"
      ]
     },
     "execution_count": 50,
     "metadata": {},
     "output_type": "execute_result"
    }
   ],
   "source": [
    "scores"
   ]
  },
  {
   "cell_type": "markdown",
   "metadata": {
    "id": "ict7eeo2FkEg"
   },
   "source": [
    "### SVC"
   ]
  },
  {
   "cell_type": "code",
   "execution_count": 51,
   "metadata": {
    "colab": {
     "base_uri": "https://localhost:8080/"
    },
    "id": "nrnQmi-dFgpe",
    "outputId": "25deeb35-ca4c-41a4-abac-ec829b4cee24"
   },
   "outputs": [
    {
     "data": {
      "text/plain": [
       "SVC(C=1, kernel='sigmoid')"
      ]
     },
     "execution_count": 51,
     "metadata": {},
     "output_type": "execute_result"
    }
   ],
   "source": [
    "svc_clf = SVC(C = 1 , kernel=\"sigmoid\")\n",
    "svc_clf.fit(X_train_encoded, y_train_encoded)"
   ]
  },
  {
   "cell_type": "code",
   "execution_count": 52,
   "metadata": {
    "colab": {
     "base_uri": "https://localhost:8080/"
    },
    "id": "ruimd99_GzRW",
    "outputId": "34266875-4246-4490-f804-949240cc9fe7"
   },
   "outputs": [
    {
     "data": {
      "text/plain": [
       "array([[14936,  2236],\n",
       "       [ 2350,   478]], dtype=int64)"
      ]
     },
     "execution_count": 52,
     "metadata": {},
     "output_type": "execute_result"
    }
   ],
   "source": [
    "y_pred_svc = svc_clf.predict(X_test_encoded)\n",
    "confusion_matrix(y_test_encoded , y_pred_svc)"
   ]
  },
  {
   "cell_type": "code",
   "execution_count": 53,
   "metadata": {
    "colab": {
     "base_uri": "https://localhost:8080/"
    },
    "id": "jrmisleuHkLB",
    "outputId": "6e60edc5-a303-416b-bb34-685138d7dcf9"
   },
   "outputs": [
    {
     "name": "stdout",
     "output_type": "stream",
     "text": [
      "0.7707\n"
     ]
    }
   ],
   "source": [
    "print(accuracy_score(y_test_encoded , y_pred_svc))"
   ]
  },
  {
   "cell_type": "markdown",
   "metadata": {},
   "source": [
    "### XGBoost"
   ]
  },
  {
   "cell_type": "code",
   "execution_count": 54,
   "metadata": {},
   "outputs": [
    {
     "name": "stderr",
     "output_type": "stream",
     "text": [
      "C:\\Users\\menna\\anaconda3\\lib\\site-packages\\xgboost\\sklearn.py:1224: UserWarning: The use of label encoder in XGBClassifier is deprecated and will be removed in a future release. To remove this warning, do the following: 1) Pass option use_label_encoder=False when constructing XGBClassifier object; and 2) Encode your labels (y) as integers starting with 0, i.e. 0, 1, 2, ..., [num_class - 1].\n",
      "  warnings.warn(label_encoder_deprecation_msg, UserWarning)\n"
     ]
    },
    {
     "name": "stdout",
     "output_type": "stream",
     "text": [
      "[20:10:23] WARNING: C:/Users/Administrator/workspace/xgboost-win64_release_1.5.0/src/learner.cc:1115: Starting in XGBoost 1.3.0, the default evaluation metric used with the objective 'binary:logistic' was changed from 'error' to 'logloss'. Explicitly set eval_metric if you'd like to restore the old behavior.\n"
     ]
    },
    {
     "data": {
      "text/plain": [
       "XGBClassifier(base_score=0.5, booster='gbtree', colsample_bylevel=1,\n",
       "              colsample_bynode=1, colsample_bytree=1, enable_categorical=False,\n",
       "              gamma=0, gpu_id=-1, importance_type=None,\n",
       "              interaction_constraints='', learning_rate=0.300000012,\n",
       "              max_delta_step=0, max_depth=6, min_child_weight=1, missing=nan,\n",
       "              monotone_constraints='()', n_estimators=100, n_jobs=8,\n",
       "              num_parallel_tree=1, predictor='auto', random_state=0,\n",
       "              reg_alpha=0, reg_lambda=1, scale_pos_weight=1, subsample=1,\n",
       "              tree_method='exact', validate_parameters=1, verbosity=None)"
      ]
     },
     "execution_count": 54,
     "metadata": {},
     "output_type": "execute_result"
    }
   ],
   "source": [
    "model = XGBClassifier()\n",
    "model.fit(X_train_encoded, y_train_encoded)"
   ]
  },
  {
   "cell_type": "code",
   "execution_count": 55,
   "metadata": {},
   "outputs": [
    {
     "data": {
      "text/plain": [
       "array([[16919,   253],\n",
       "       [ 2641,   187]], dtype=int64)"
      ]
     },
     "execution_count": 55,
     "metadata": {},
     "output_type": "execute_result"
    }
   ],
   "source": [
    "y_pred_XGB = model.predict(X_test_encoded)\n",
    "confusion_matrix(y_test_encoded , y_pred_XGB)"
   ]
  },
  {
   "cell_type": "code",
   "execution_count": 56,
   "metadata": {},
   "outputs": [
    {
     "name": "stdout",
     "output_type": "stream",
     "text": [
      "0.8553\n"
     ]
    }
   ],
   "source": [
    "print(accuracy_score(y_test_encoded , y_pred_XGB))"
   ]
  },
  {
   "cell_type": "code",
   "execution_count": 57,
   "metadata": {},
   "outputs": [
    {
     "name": "stderr",
     "output_type": "stream",
     "text": [
      "C:\\Users\\menna\\anaconda3\\lib\\site-packages\\xgboost\\sklearn.py:1224: UserWarning: The use of label encoder in XGBClassifier is deprecated and will be removed in a future release. To remove this warning, do the following: 1) Pass option use_label_encoder=False when constructing XGBClassifier object; and 2) Encode your labels (y) as integers starting with 0, i.e. 0, 1, 2, ..., [num_class - 1].\n",
      "  warnings.warn(label_encoder_deprecation_msg, UserWarning)\n"
     ]
    },
    {
     "name": "stdout",
     "output_type": "stream",
     "text": [
      "[20:10:43] WARNING: C:/Users/Administrator/workspace/xgboost-win64_release_1.5.0/src/learner.cc:1115: Starting in XGBoost 1.3.0, the default evaluation metric used with the objective 'binary:logistic' was changed from 'error' to 'logloss'. Explicitly set eval_metric if you'd like to restore the old behavior.\n"
     ]
    },
    {
     "name": "stderr",
     "output_type": "stream",
     "text": [
      "C:\\Users\\menna\\anaconda3\\lib\\site-packages\\xgboost\\sklearn.py:1224: UserWarning: The use of label encoder in XGBClassifier is deprecated and will be removed in a future release. To remove this warning, do the following: 1) Pass option use_label_encoder=False when constructing XGBClassifier object; and 2) Encode your labels (y) as integers starting with 0, i.e. 0, 1, 2, ..., [num_class - 1].\n",
      "  warnings.warn(label_encoder_deprecation_msg, UserWarning)\n"
     ]
    },
    {
     "name": "stdout",
     "output_type": "stream",
     "text": [
      "[20:11:00] WARNING: C:/Users/Administrator/workspace/xgboost-win64_release_1.5.0/src/learner.cc:1115: Starting in XGBoost 1.3.0, the default evaluation metric used with the objective 'binary:logistic' was changed from 'error' to 'logloss'. Explicitly set eval_metric if you'd like to restore the old behavior.\n"
     ]
    },
    {
     "name": "stderr",
     "output_type": "stream",
     "text": [
      "C:\\Users\\menna\\anaconda3\\lib\\site-packages\\xgboost\\sklearn.py:1224: UserWarning: The use of label encoder in XGBClassifier is deprecated and will be removed in a future release. To remove this warning, do the following: 1) Pass option use_label_encoder=False when constructing XGBClassifier object; and 2) Encode your labels (y) as integers starting with 0, i.e. 0, 1, 2, ..., [num_class - 1].\n",
      "  warnings.warn(label_encoder_deprecation_msg, UserWarning)\n"
     ]
    },
    {
     "name": "stdout",
     "output_type": "stream",
     "text": [
      "[20:11:18] WARNING: C:/Users/Administrator/workspace/xgboost-win64_release_1.5.0/src/learner.cc:1115: Starting in XGBoost 1.3.0, the default evaluation metric used with the objective 'binary:logistic' was changed from 'error' to 'logloss'. Explicitly set eval_metric if you'd like to restore the old behavior.\n"
     ]
    },
    {
     "name": "stderr",
     "output_type": "stream",
     "text": [
      "C:\\Users\\menna\\anaconda3\\lib\\site-packages\\xgboost\\sklearn.py:1224: UserWarning: The use of label encoder in XGBClassifier is deprecated and will be removed in a future release. To remove this warning, do the following: 1) Pass option use_label_encoder=False when constructing XGBClassifier object; and 2) Encode your labels (y) as integers starting with 0, i.e. 0, 1, 2, ..., [num_class - 1].\n",
      "  warnings.warn(label_encoder_deprecation_msg, UserWarning)\n"
     ]
    },
    {
     "name": "stdout",
     "output_type": "stream",
     "text": [
      "[20:11:37] WARNING: C:/Users/Administrator/workspace/xgboost-win64_release_1.5.0/src/learner.cc:1115: Starting in XGBoost 1.3.0, the default evaluation metric used with the objective 'binary:logistic' was changed from 'error' to 'logloss'. Explicitly set eval_metric if you'd like to restore the old behavior.\n"
     ]
    },
    {
     "name": "stderr",
     "output_type": "stream",
     "text": [
      "C:\\Users\\menna\\anaconda3\\lib\\site-packages\\xgboost\\sklearn.py:1224: UserWarning: The use of label encoder in XGBClassifier is deprecated and will be removed in a future release. To remove this warning, do the following: 1) Pass option use_label_encoder=False when constructing XGBClassifier object; and 2) Encode your labels (y) as integers starting with 0, i.e. 0, 1, 2, ..., [num_class - 1].\n",
      "  warnings.warn(label_encoder_deprecation_msg, UserWarning)\n"
     ]
    },
    {
     "name": "stdout",
     "output_type": "stream",
     "text": [
      "[20:11:56] WARNING: C:/Users/Administrator/workspace/xgboost-win64_release_1.5.0/src/learner.cc:1115: Starting in XGBoost 1.3.0, the default evaluation metric used with the objective 'binary:logistic' was changed from 'error' to 'logloss'. Explicitly set eval_metric if you'd like to restore the old behavior.\n"
     ]
    }
   ],
   "source": [
    "scores = cross_val_score(model, encoded_X, encoded_y, cv=5)"
   ]
  },
  {
   "cell_type": "code",
   "execution_count": 71,
   "metadata": {},
   "outputs": [
    {
     "data": {
      "text/plain": [
       "array([0.85885, 0.8593 , 0.85785, 0.85865, 0.85825])"
      ]
     },
     "execution_count": 71,
     "metadata": {},
     "output_type": "execute_result"
    }
   ],
   "source": [
    "scores"
   ]
  },
  {
   "cell_type": "markdown",
   "metadata": {},
   "source": [
    "# Grid Search Selection \n",
    "### Furthermore, to identify the best algorithm and best parameters, we can use the Grid Search algorithm."
   ]
  },
  {
   "cell_type": "code",
   "execution_count": 72,
   "metadata": {},
   "outputs": [],
   "source": [
    "# Exhaustive search over specified parameter values for an estimator.\n",
    "grid_param={ 'n_estimators': [100, 300, 500, 800, 1000],\n",
    "             \"max_depth\":[3,4,5,7],\n",
    "           \"learning_rate\":[0.1,0.01,0.05],\n",
    "           \"gamma\":[0,0.25,1],\n",
    "           \"reg_lambda\":[0,1,10],\n",
    "           \"scale_pos_weight\":[1,3,5],\n",
    "           \"subsample\":[0.8],\n",
    "           \"colsample_bytree\":[0.5]}"
   ]
  },
  {
   "cell_type": "code",
   "execution_count": null,
   "metadata": {
    "scrolled": true
   },
   "outputs": [],
   "source": [
    "from sklearn.model_selection import GridSearchCV\n",
    "import xgboost as xgb\n",
    "# The XGBClassifier is intialized \n",
    "xgb_col=xgb.XGBClassifier(objective=\"binary:logistic\")\n",
    "# The GridSearchCV class is initialized\n",
    "grid_cv=GridSearchCV(xgb_col,grid_param,n_jobs=-1,cv=7,scoring='accuracy')\n",
    "# Calling fit method \n",
    "grid_cv.fit(encoded_X,encoded_y)"
   ]
  },
  {
   "cell_type": "code",
   "execution_count": null,
   "metadata": {},
   "outputs": [],
   "source": [
    "#Parameter setting that gave the best results on the hold out data\n",
    "grid_cv.best_params"
   ]
  }
 ],
 "metadata": {
  "colab": {
   "name": "Untitled21.ipynb",
   "provenance": []
  },
  "kernelspec": {
   "display_name": "Python 3",
   "language": "python",
   "name": "python3"
  },
  "language_info": {
   "codemirror_mode": {
    "name": "ipython",
    "version": 3
   },
   "file_extension": ".py",
   "mimetype": "text/x-python",
   "name": "python",
   "nbconvert_exporter": "python",
   "pygments_lexer": "ipython3",
   "version": "3.8.5"
  }
 },
 "nbformat": 4,
 "nbformat_minor": 1
}
